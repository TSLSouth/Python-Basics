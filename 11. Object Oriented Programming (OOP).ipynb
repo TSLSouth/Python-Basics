{
 "cells": [
  {
   "cell_type": "markdown",
   "id": "3856e0e3",
   "metadata": {},
   "source": [
    "# 11. Object Oriented Programming (OOP)\n",
    "\n",
    "___"
   ]
  },
  {
   "cell_type": "markdown",
   "id": "a81b2d11",
   "metadata": {},
   "source": [
    "# class key words & attributes"
   ]
  },
  {
   "cell_type": "code",
   "execution_count": 1,
   "id": "4226ada4",
   "metadata": {},
   "outputs": [],
   "source": [
    "mylist = [1,2,3]"
   ]
  },
  {
   "cell_type": "code",
   "execution_count": 6,
   "id": "7e95720f",
   "metadata": {},
   "outputs": [],
   "source": [
    "myset = set()"
   ]
  },
  {
   "cell_type": "code",
   "execution_count": 7,
   "id": "1a770fe5",
   "metadata": {},
   "outputs": [
    {
     "data": {
      "text/plain": [
       "list"
      ]
     },
     "execution_count": 7,
     "metadata": {},
     "output_type": "execute_result"
    }
   ],
   "source": [
    "type(mylist)"
   ]
  },
  {
   "cell_type": "code",
   "execution_count": 9,
   "id": "f423ad3d",
   "metadata": {},
   "outputs": [
    {
     "data": {
      "text/plain": [
       "set"
      ]
     },
     "execution_count": 9,
     "metadata": {},
     "output_type": "execute_result"
    }
   ],
   "source": [
    "type(myset)"
   ]
  },
  {
   "cell_type": "code",
   "execution_count": 15,
   "id": "eedc9171",
   "metadata": {},
   "outputs": [],
   "source": [
    "class Sample():\n",
    "    pass"
   ]
  },
  {
   "cell_type": "code",
   "execution_count": 16,
   "id": "67c11de7",
   "metadata": {},
   "outputs": [],
   "source": [
    "mysample = Sample()"
   ]
  },
  {
   "cell_type": "code",
   "execution_count": 17,
   "id": "94401b35",
   "metadata": {},
   "outputs": [
    {
     "data": {
      "text/plain": [
       "__main__.Sample"
      ]
     },
     "execution_count": 17,
     "metadata": {},
     "output_type": "execute_result"
    }
   ],
   "source": [
    "type(mysample)"
   ]
  },
  {
   "cell_type": "code",
   "execution_count": 74,
   "id": "81ec540d",
   "metadata": {},
   "outputs": [],
   "source": [
    "#EXAMPLE 1\n",
    "class Dog():\n",
    "    def __init__(self,breed):\n",
    "        #self.attribute_name\n",
    "        self.breed = breed"
   ]
  },
  {
   "cell_type": "code",
   "execution_count": 78,
   "id": "6ccf5b88",
   "metadata": {},
   "outputs": [],
   "source": [
    "mydog = Dog(breed = 'Labrador')"
   ]
  },
  {
   "cell_type": "code",
   "execution_count": 79,
   "id": "fb222981",
   "metadata": {},
   "outputs": [
    {
     "data": {
      "text/plain": [
       "'Labrador'"
      ]
     },
     "execution_count": 79,
     "metadata": {},
     "output_type": "execute_result"
    }
   ],
   "source": [
    "mydog.breed"
   ]
  },
  {
   "cell_type": "code",
   "execution_count": 80,
   "id": "2ddc5257",
   "metadata": {},
   "outputs": [],
   "source": [
    "#EXAMPLE 2:\n",
    "\n",
    "class Dog():\n",
    "    def __init__(self,breed,name,spots):\n",
    "        #SELF.ATTRIBUTE_NAME\n",
    "        self.breed = breed\n",
    "        self.name = name\n",
    "        self.spots = spots"
   ]
  },
  {
   "cell_type": "code",
   "execution_count": 81,
   "id": "30165cd8",
   "metadata": {},
   "outputs": [],
   "source": [
    "mydog = Dog(breed='Labrador',name = 'Thor',spots=False)"
   ]
  },
  {
   "cell_type": "code",
   "execution_count": 82,
   "id": "5c5562ac",
   "metadata": {},
   "outputs": [
    {
     "data": {
      "text/plain": [
       "'Labrador'"
      ]
     },
     "execution_count": 82,
     "metadata": {},
     "output_type": "execute_result"
    }
   ],
   "source": [
    "mydog.breed"
   ]
  },
  {
   "cell_type": "code",
   "execution_count": 83,
   "id": "f827978b",
   "metadata": {},
   "outputs": [
    {
     "data": {
      "text/plain": [
       "'Thor'"
      ]
     },
     "execution_count": 83,
     "metadata": {},
     "output_type": "execute_result"
    }
   ],
   "source": [
    "mydog.name"
   ]
  },
  {
   "cell_type": "code",
   "execution_count": 84,
   "id": "94b27317",
   "metadata": {},
   "outputs": [
    {
     "data": {
      "text/plain": [
       "False"
      ]
     },
     "execution_count": 84,
     "metadata": {},
     "output_type": "execute_result"
    }
   ],
   "source": [
    "mydog.spots"
   ]
  },
  {
   "cell_type": "code",
   "execution_count": 85,
   "id": "86303dfd",
   "metadata": {},
   "outputs": [],
   "source": [
    "#EXAMPLE 3:\n",
    "\n",
    "class Dog():\n",
    "    \n",
    "    #ENCLONSING ATTRIBUTES = CLASS OBJECT ATTRIBUTE, \n",
    "    #SAME FOR ANY INSTANCE OF A CLASS\n",
    "    classification = 'mammal'\n",
    "    \n",
    "    def __init__(self,breed,name,spots):\n",
    "        self.breed = breed\n",
    "        self.name = name\n",
    "        self.spots = spots"
   ]
  },
  {
   "cell_type": "code",
   "execution_count": 86,
   "id": "882d7fe6",
   "metadata": {},
   "outputs": [],
   "source": [
    "mydog = Dog(breed='Labrador',name = 'Thor',spots=False)"
   ]
  },
  {
   "cell_type": "code",
   "execution_count": 87,
   "id": "8d189143",
   "metadata": {},
   "outputs": [
    {
     "data": {
      "text/plain": [
       "'mammal'"
      ]
     },
     "execution_count": 87,
     "metadata": {},
     "output_type": "execute_result"
    }
   ],
   "source": [
    "mydog.classification"
   ]
  },
  {
   "cell_type": "code",
   "execution_count": 88,
   "id": "829b95cd",
   "metadata": {},
   "outputs": [],
   "source": [
    "#EXAMPLE 4:\n",
    "\n",
    "class Dog():\n",
    "    \n",
    "    classification = 'mammal'\n",
    "    \n",
    "    def __init__(self,breed,name,spots):\n",
    "        self.breed = breed\n",
    "        self.name = name\n",
    "        self.spots = spots\n",
    "        \n",
    "    #METHODS = OPERATIONS OR ACTIONS INSIDE A CLASS\n",
    "    def bark(self):\n",
    "        print('WOOF!')"
   ]
  },
  {
   "cell_type": "code",
   "execution_count": 93,
   "id": "f078c1b6",
   "metadata": {},
   "outputs": [],
   "source": [
    "#NEED TO GIVE THE PARAMETERS TO RUN THE CELL\n",
    "mydog = Dog(breed='Labrador',name = 'Thor',spots=False)"
   ]
  },
  {
   "cell_type": "code",
   "execution_count": 94,
   "id": "73bed06b",
   "metadata": {},
   "outputs": [
    {
     "data": {
      "text/plain": [
       "<bound method Dog.bark of <__main__.Dog object at 0x0000022BCED68100>>"
      ]
     },
     "execution_count": 94,
     "metadata": {},
     "output_type": "execute_result"
    }
   ],
   "source": [
    "mydog.bark"
   ]
  },
  {
   "cell_type": "code",
   "execution_count": 95,
   "id": "2cabc39a",
   "metadata": {},
   "outputs": [
    {
     "name": "stdout",
     "output_type": "stream",
     "text": [
      "WOOF!\n"
     ]
    }
   ],
   "source": [
    "#AN ACTION INSIDE A CLASS NEED THE ()\n",
    "mydog.bark()"
   ]
  },
  {
   "cell_type": "code",
   "execution_count": 99,
   "id": "00e74866",
   "metadata": {},
   "outputs": [],
   "source": [
    "#EXAMPLE 5:\n",
    "\n",
    "class Dog():\n",
    "    \n",
    "    classification = 'mammal'\n",
    "    \n",
    "    def __init__(self,breed,name,spots):\n",
    "        self.breed = breed\n",
    "        self.name = name\n",
    "        self.spots = spots\n",
    "        \n",
    "    def bark(self):\n",
    "        print('WOOF! My name is {}!'.format(self.name))"
   ]
  },
  {
   "cell_type": "code",
   "execution_count": 100,
   "id": "f6038dc2",
   "metadata": {},
   "outputs": [],
   "source": [
    "#GIVE THE PARAMETERS FISRT\n",
    "mydog = Dog(breed='Labrador',name = 'Thor',spots=False)"
   ]
  },
  {
   "cell_type": "code",
   "execution_count": 101,
   "id": "879c4b6e",
   "metadata": {},
   "outputs": [
    {
     "name": "stdout",
     "output_type": "stream",
     "text": [
      "WOOF! My name is Thor!\n"
     ]
    }
   ],
   "source": [
    "mydog.bark()"
   ]
  },
  {
   "cell_type": "code",
   "execution_count": 105,
   "id": "6dc88734",
   "metadata": {},
   "outputs": [],
   "source": [
    "#EXAMPLE 6:\n",
    "\n",
    "class Dog():\n",
    "    \n",
    "    classification = 'mammal'\n",
    "    \n",
    "    def __init__(self,breed,name,spots):\n",
    "        self.breed = breed\n",
    "        self.name = name\n",
    "        self.spots = spots\n",
    "        \n",
    "    def bark(self,number):\n",
    "        print('WOOF! My name is {} and my number is {}.'.format(self.name,number))"
   ]
  },
  {
   "cell_type": "code",
   "execution_count": 106,
   "id": "eba3a56f",
   "metadata": {},
   "outputs": [],
   "source": [
    "mydog = Dog(breed='Labrador',name = 'Thor',spots=False)"
   ]
  },
  {
   "cell_type": "code",
   "execution_count": 107,
   "id": "62ca3704",
   "metadata": {},
   "outputs": [
    {
     "name": "stdout",
     "output_type": "stream",
     "text": [
      "WOOF! My name is Thor and my number is 10.\n"
     ]
    }
   ],
   "source": [
    "mydog.bark(10)"
   ]
  },
  {
   "cell_type": "markdown",
   "id": "288c4f5d",
   "metadata": {},
   "source": [
    "___"
   ]
  },
  {
   "cell_type": "code",
   "execution_count": 108,
   "id": "5592f41a",
   "metadata": {},
   "outputs": [],
   "source": [
    "class Circle():\n",
    "    \n",
    "    pi = 3.14\n",
    "    \n",
    "    def __init__(self,radius=1):\n",
    "        \n",
    "        self.radius = radius\n",
    "        \n",
    "    def get_circunference(self):\n",
    "        \n",
    "        return self.radius * self.pi *2"
   ]
  },
  {
   "cell_type": "code",
   "execution_count": 114,
   "id": "05beeffa",
   "metadata": {},
   "outputs": [],
   "source": [
    "mycircle = Circle(30)"
   ]
  },
  {
   "cell_type": "code",
   "execution_count": 115,
   "id": "de473f05",
   "metadata": {},
   "outputs": [
    {
     "data": {
      "text/plain": [
       "3.14"
      ]
     },
     "execution_count": 115,
     "metadata": {},
     "output_type": "execute_result"
    }
   ],
   "source": [
    "mycircle.pi"
   ]
  },
  {
   "cell_type": "code",
   "execution_count": 116,
   "id": "bf0744fb",
   "metadata": {},
   "outputs": [
    {
     "data": {
      "text/plain": [
       "30"
      ]
     },
     "execution_count": 116,
     "metadata": {},
     "output_type": "execute_result"
    }
   ],
   "source": [
    "mycircle.radius"
   ]
  },
  {
   "cell_type": "code",
   "execution_count": 117,
   "id": "9ce92cc4",
   "metadata": {},
   "outputs": [
    {
     "data": {
      "text/plain": [
       "188.4"
      ]
     },
     "execution_count": 117,
     "metadata": {},
     "output_type": "execute_result"
    }
   ],
   "source": [
    "mycircle.get_circunference()"
   ]
  },
  {
   "cell_type": "markdown",
   "id": "9c5fd756",
   "metadata": {},
   "source": [
    "___\n",
    "# Inheterance\n",
    "\n",
    "use a class inside other class"
   ]
  },
  {
   "cell_type": "code",
   "execution_count": 139,
   "id": "dabb43ed",
   "metadata": {},
   "outputs": [],
   "source": [
    "#EXAMEPLE 1\n",
    "\n",
    "class Animal():\n",
    "    \n",
    "    def __init__(self):\n",
    "        print('ANIMAL CREATED')\n",
    "        \n",
    "    def whoami(self):\n",
    "        print('I am an animal')\n",
    "        \n",
    "    def eat(self):\n",
    "        print('i am eating')"
   ]
  },
  {
   "cell_type": "code",
   "execution_count": 140,
   "id": "aa525436",
   "metadata": {},
   "outputs": [
    {
     "name": "stdout",
     "output_type": "stream",
     "text": [
      "ANIMAL CREATED\n"
     ]
    }
   ],
   "source": [
    "myanimal = Animal()"
   ]
  },
  {
   "cell_type": "code",
   "execution_count": 141,
   "id": "064623c1",
   "metadata": {},
   "outputs": [],
   "source": [
    "#EXAMPLE 2\n",
    "class Dog(Animal):\n",
    "    \n",
    "    def __init__(self):\n",
    "        Animal.__init__(self)\n",
    "        print('Dog Created')"
   ]
  },
  {
   "cell_type": "code",
   "execution_count": 142,
   "id": "6f1e61d7",
   "metadata": {},
   "outputs": [
    {
     "name": "stdout",
     "output_type": "stream",
     "text": [
      "ANIMAL CREATED\n",
      "Dog Created\n"
     ]
    }
   ],
   "source": [
    "mydog = Dog()"
   ]
  },
  {
   "cell_type": "code",
   "execution_count": 143,
   "id": "8a54efbf",
   "metadata": {},
   "outputs": [
    {
     "name": "stdout",
     "output_type": "stream",
     "text": [
      "I am an animal\n"
     ]
    }
   ],
   "source": [
    "mydog.whoami()"
   ]
  },
  {
   "cell_type": "code",
   "execution_count": 144,
   "id": "8c3013cc",
   "metadata": {},
   "outputs": [
    {
     "name": "stdout",
     "output_type": "stream",
     "text": [
      "i am eating\n"
     ]
    }
   ],
   "source": [
    "#STILL CAN USE THE FUNCTIONS FROM THE OTHER CLASS\n",
    "mydog.eat()"
   ]
  },
  {
   "cell_type": "code",
   "execution_count": 145,
   "id": "a3cef4e5",
   "metadata": {},
   "outputs": [],
   "source": [
    "#EXAMPLE 3\n",
    "#SUBS THE FUNC RESULTS:\n",
    "\n",
    "class Dog(Animal):\n",
    "    \n",
    "    def __init__(self):\n",
    "        Animal.__init__(self)\n",
    "        print('Dog Created')\n",
    "     \n",
    "    #OVERWRITING THE PREVIOUS FUNC, \n",
    "    #JUST USE THE SAME DEFINITION\n",
    "    def whoami(self):\n",
    "        print('I am a dog')"
   ]
  },
  {
   "cell_type": "code",
   "execution_count": 146,
   "id": "7a3eb146",
   "metadata": {},
   "outputs": [
    {
     "name": "stdout",
     "output_type": "stream",
     "text": [
      "ANIMAL CREATED\n",
      "Dog Created\n"
     ]
    }
   ],
   "source": [
    "mydog = Dog()"
   ]
  },
  {
   "cell_type": "code",
   "execution_count": 147,
   "id": "0c11e722",
   "metadata": {},
   "outputs": [
    {
     "name": "stdout",
     "output_type": "stream",
     "text": [
      "I am a dog\n"
     ]
    }
   ],
   "source": [
    "mydog.whoami()"
   ]
  },
  {
   "cell_type": "markdown",
   "id": "c4ff7957",
   "metadata": {},
   "source": [
    "___\n",
    "# Polimorfirsm\n",
    "\n",
    "use a func on both class"
   ]
  },
  {
   "cell_type": "code",
   "execution_count": 6,
   "id": "8d20cf93",
   "metadata": {},
   "outputs": [],
   "source": [
    "class Dog():\n",
    "    \n",
    "    def __init__(self,name):\n",
    "        self.name = name\n",
    "        \n",
    "    def speak(self):\n",
    "        return self.name + ' says woof'\n",
    "    \n",
    "class Cat():\n",
    "    \n",
    "    def __init__(self,name):\n",
    "        self.name = name\n",
    "        \n",
    "    def speak(self):\n",
    "        return self.name + ' says meow'"
   ]
  },
  {
   "cell_type": "code",
   "execution_count": 7,
   "id": "a07334a7",
   "metadata": {},
   "outputs": [],
   "source": [
    "thor = Dog('Thor')\n",
    "littlecat = Cat('Little Cat')"
   ]
  },
  {
   "cell_type": "code",
   "execution_count": 8,
   "id": "23f0375e",
   "metadata": {},
   "outputs": [
    {
     "name": "stdout",
     "output_type": "stream",
     "text": [
      "Thor says woof\n",
      "Little Cat says meow\n"
     ]
    }
   ],
   "source": [
    "print(thor.speak())\n",
    "print(littlecat.speak())"
   ]
  },
  {
   "cell_type": "code",
   "execution_count": 9,
   "id": "86eb84fa",
   "metadata": {},
   "outputs": [],
   "source": [
    "def pet_speak(pet):\n",
    "    print(pet.speak())"
   ]
  },
  {
   "cell_type": "code",
   "execution_count": 10,
   "id": "21d0ebf9",
   "metadata": {},
   "outputs": [
    {
     "name": "stdout",
     "output_type": "stream",
     "text": [
      "Thor says woof\n"
     ]
    }
   ],
   "source": [
    "pet_speak(thor)"
   ]
  },
  {
   "cell_type": "markdown",
   "id": "ba5cd861",
   "metadata": {},
   "source": [
    "___\n",
    "# Changing an attribute"
   ]
  },
  {
   "cell_type": "code",
   "execution_count": 18,
   "id": "91b52b44",
   "metadata": {},
   "outputs": [],
   "source": [
    "class Simple():\n",
    "    \n",
    "    def __init__(self,value):\n",
    "        \n",
    "        self.value = value\n",
    "        print(f'Your balance is {value}')\n",
    "    \n",
    "    def add_to_value(self,amount):\n",
    "        #ASSIGN A NEW VALUE TO THE ORIGINAL\n",
    "        self.value = self.value + amount\n",
    "        print(f'The amount of {amount} was added to your account')"
   ]
  },
  {
   "cell_type": "code",
   "execution_count": 19,
   "id": "e92590c0",
   "metadata": {},
   "outputs": [
    {
     "name": "stdout",
     "output_type": "stream",
     "text": [
      "Your balance is 300\n"
     ]
    }
   ],
   "source": [
    "myaccount = Simple(300)"
   ]
  },
  {
   "cell_type": "code",
   "execution_count": 20,
   "id": "a0b8a362",
   "metadata": {},
   "outputs": [
    {
     "data": {
      "text/plain": [
       "300"
      ]
     },
     "execution_count": 20,
     "metadata": {},
     "output_type": "execute_result"
    }
   ],
   "source": [
    "myaccount.value"
   ]
  },
  {
   "cell_type": "code",
   "execution_count": 21,
   "id": "ee4f5383",
   "metadata": {},
   "outputs": [
    {
     "name": "stdout",
     "output_type": "stream",
     "text": [
      "The amount of 200 was added to your account\n"
     ]
    }
   ],
   "source": [
    "myaccount.add_to_value(200)"
   ]
  },
  {
   "cell_type": "code",
   "execution_count": 22,
   "id": "84346d6d",
   "metadata": {},
   "outputs": [
    {
     "data": {
      "text/plain": [
       "500"
      ]
     },
     "execution_count": 22,
     "metadata": {},
     "output_type": "execute_result"
    }
   ],
   "source": [
    "myaccount.value"
   ]
  },
  {
   "cell_type": "markdown",
   "id": "ef4302c9",
   "metadata": {},
   "source": [
    "____\n",
    "# Special methods"
   ]
  },
  {
   "cell_type": "code",
   "execution_count": 22,
   "id": "63ad59cf",
   "metadata": {},
   "outputs": [],
   "source": [
    "class Book():\n",
    "    def __init__(self,title,author,pages):\n",
    "        self.title = title\n",
    "        self.author = author\n",
    "        self.pages = pages\n",
    "        \n",
    "    #STRING TO PRINT \n",
    "    def __str__(self):\n",
    "        return f'{self.title} by {self.author}'\n",
    "    \n",
    "    def __len__(self):\n",
    "        return self.pages\n",
    "    \n",
    "    #DELETE\n",
    "    def __del__(self):\n",
    "        print('A book has been deleted')"
   ]
  },
  {
   "cell_type": "code",
   "execution_count": 23,
   "id": "9be24826",
   "metadata": {},
   "outputs": [],
   "source": [
    "b = Book('Manual Exis','Luiz',200)"
   ]
  },
  {
   "cell_type": "code",
   "execution_count": 24,
   "id": "a1592d3a",
   "metadata": {},
   "outputs": [
    {
     "name": "stdout",
     "output_type": "stream",
     "text": [
      "Manual Exis by Luiz\n"
     ]
    }
   ],
   "source": [
    "print(b)"
   ]
  },
  {
   "cell_type": "code",
   "execution_count": 25,
   "id": "59f14b48",
   "metadata": {},
   "outputs": [
    {
     "data": {
      "text/plain": [
       "'Manual Exis by Luiz'"
      ]
     },
     "execution_count": 25,
     "metadata": {},
     "output_type": "execute_result"
    }
   ],
   "source": [
    "str(b)"
   ]
  },
  {
   "cell_type": "code",
   "execution_count": 26,
   "id": "ae3a8f6e",
   "metadata": {},
   "outputs": [
    {
     "data": {
      "text/plain": [
       "200"
      ]
     },
     "execution_count": 26,
     "metadata": {},
     "output_type": "execute_result"
    }
   ],
   "source": [
    "len(b)"
   ]
  },
  {
   "cell_type": "code",
   "execution_count": 27,
   "id": "74528a61",
   "metadata": {},
   "outputs": [
    {
     "name": "stdout",
     "output_type": "stream",
     "text": [
      "A book has been deleted\n"
     ]
    }
   ],
   "source": [
    "del (b)"
   ]
  },
  {
   "cell_type": "markdown",
   "id": "16f24211",
   "metadata": {},
   "source": [
    "____\n",
    "# Homework"
   ]
  },
  {
   "cell_type": "code",
   "execution_count": 33,
   "id": "aed9e812",
   "metadata": {},
   "outputs": [],
   "source": [
    "#HOMEWORK 1\n",
    "\n",
    "class Cylinder():\n",
    "    pi = 3.14\n",
    "    def __init__(self,height=1,radius=1):\n",
    "        self.height = height\n",
    "        self.radius = radius\n",
    "        \n",
    "    def volume(self):\n",
    "        return self.radius**2 * self.pi * self.height\n",
    "    \n",
    "    def surface_area(self):\n",
    "        #2 TOPS + \n",
    "        return (self.radius**2 * self.pi)*2 + (2*self.pi*self.radius*self.height)"
   ]
  },
  {
   "cell_type": "code",
   "execution_count": 34,
   "id": "23901312",
   "metadata": {},
   "outputs": [],
   "source": [
    "# EXAMPLE OUTPUT\n",
    "c = Cylinder(2,3)"
   ]
  },
  {
   "cell_type": "code",
   "execution_count": 35,
   "id": "54dda557",
   "metadata": {},
   "outputs": [
    {
     "data": {
      "text/plain": [
       "56.52"
      ]
     },
     "execution_count": 35,
     "metadata": {},
     "output_type": "execute_result"
    }
   ],
   "source": [
    "c.volume()"
   ]
  },
  {
   "cell_type": "code",
   "execution_count": 36,
   "id": "813bdf6d",
   "metadata": {},
   "outputs": [
    {
     "data": {
      "text/plain": [
       "94.2"
      ]
     },
     "execution_count": 36,
     "metadata": {},
     "output_type": "execute_result"
    }
   ],
   "source": [
    "c.surface_area()"
   ]
  },
  {
   "cell_type": "code",
   "execution_count": 37,
   "id": "6f7a31fd",
   "metadata": {},
   "outputs": [],
   "source": [
    "#HOMEWORK 2\n",
    "\n",
    "class Line:\n",
    "    \n",
    "    def __init__(self,coord1,coord2):\n",
    "        self.coord1 = coord1\n",
    "        self.coord2 = coord2\n",
    "    \n",
    "    def distance(self):\n",
    "        #dh = height diference\n",
    "        #dH = horizontal diference\n",
    "        dh1,dH1 = self.coord1\n",
    "        dh2,dH2 = self.coord2\n",
    "        \n",
    "        return ((dh2-dh1)**2 + (dH2-dH1)**2)**0.5\n",
    "    \n",
    "    def slope(self):\n",
    "        dh1,dH1 = self.coord1\n",
    "        dh2,dH2 = self.coord2\n",
    "        \n",
    "        return ((dH2-dH1)/(dh2-dh1))"
   ]
  },
  {
   "cell_type": "code",
   "execution_count": 38,
   "id": "9b29e829",
   "metadata": {},
   "outputs": [],
   "source": [
    "coordinate1 = (3,2)\n",
    "coordinate2 = (8,10)\n",
    "\n",
    "li = Line(coordinate1,coordinate2)"
   ]
  },
  {
   "cell_type": "code",
   "execution_count": 39,
   "id": "7185edf9",
   "metadata": {},
   "outputs": [
    {
     "data": {
      "text/plain": [
       "9.433981132056603"
      ]
     },
     "execution_count": 39,
     "metadata": {},
     "output_type": "execute_result"
    }
   ],
   "source": [
    "li.distance()"
   ]
  },
  {
   "cell_type": "code",
   "execution_count": 40,
   "id": "bb6b8163",
   "metadata": {},
   "outputs": [
    {
     "data": {
      "text/plain": [
       "1.6"
      ]
     },
     "execution_count": 40,
     "metadata": {},
     "output_type": "execute_result"
    }
   ],
   "source": [
    "li.slope()"
   ]
  },
  {
   "cell_type": "markdown",
   "id": "1a457af8",
   "metadata": {},
   "source": [
    "____\n",
    "# Challenge"
   ]
  },
  {
   "cell_type": "code",
   "execution_count": null,
   "id": "5dda2f98",
   "metadata": {},
   "outputs": [],
   "source": []
  }
 ],
 "metadata": {
  "kernelspec": {
   "display_name": "Python 3 (ipykernel)",
   "language": "python",
   "name": "python3"
  },
  "language_info": {
   "codemirror_mode": {
    "name": "ipython",
    "version": 3
   },
   "file_extension": ".py",
   "mimetype": "text/x-python",
   "name": "python",
   "nbconvert_exporter": "python",
   "pygments_lexer": "ipython3",
   "version": "3.9.12"
  }
 },
 "nbformat": 4,
 "nbformat_minor": 5
}
