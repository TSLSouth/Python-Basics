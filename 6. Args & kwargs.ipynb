{
 "cells": [
  {
   "cell_type": "markdown",
   "id": "e1e5b022",
   "metadata": {},
   "source": [
    "# 6. args & kwargs\n",
    "\n",
    "___"
   ]
  },
  {
   "cell_type": "code",
   "execution_count": 3,
   "id": "8d2922de",
   "metadata": {},
   "outputs": [],
   "source": [
    "def myfunc(a,b,c):\n",
    "    \n",
    "    return sum((a,b,c)) *0.05"
   ]
  },
  {
   "cell_type": "code",
   "execution_count": 4,
   "id": "9eae9fcc",
   "metadata": {},
   "outputs": [
    {
     "data": {
      "text/plain": [
       "4.5"
      ]
     },
     "execution_count": 4,
     "metadata": {},
     "output_type": "execute_result"
    }
   ],
   "source": [
    "myfunc(10,30,50)"
   ]
  },
  {
   "cell_type": "code",
   "execution_count": 13,
   "id": "d6bd4d1b",
   "metadata": {},
   "outputs": [],
   "source": [
    "#args = arguments and represents a tuple with as many arguments i want:\n",
    "\n",
    "def myfunc(*args):\n",
    "    \n",
    "    return sum(args) *0.05"
   ]
  },
  {
   "cell_type": "code",
   "execution_count": 14,
   "id": "7d557517",
   "metadata": {},
   "outputs": [
    {
     "data": {
      "text/plain": [
       "3.5"
      ]
     },
     "execution_count": 14,
     "metadata": {},
     "output_type": "execute_result"
    }
   ],
   "source": [
    "myfunc(10,20,40)"
   ]
  },
  {
   "cell_type": "code",
   "execution_count": 15,
   "id": "3c78774d",
   "metadata": {},
   "outputs": [],
   "source": [
    "#args is anything with a * before:\n",
    "\n",
    "def myfunc(*num):\n",
    "    \n",
    "    return sum(num) *0.05"
   ]
  },
  {
   "cell_type": "code",
   "execution_count": 16,
   "id": "8353d319",
   "metadata": {},
   "outputs": [
    {
     "data": {
      "text/plain": [
       "3.5"
      ]
     },
     "execution_count": 16,
     "metadata": {},
     "output_type": "execute_result"
    }
   ],
   "source": [
    "myfunc(10,20,40)"
   ]
  },
  {
   "cell_type": "code",
   "execution_count": 33,
   "id": "5ce1e401",
   "metadata": {},
   "outputs": [],
   "source": [
    "#kwargs is the same but in dictionaries:\n",
    "\n",
    "def myfunc(**kwargs):\n",
    "    \n",
    "    print(kwargs)\n",
    "    \n",
    "    if 'fruit' in kwargs:\n",
    "        print('My fruit choice is {}'.format(kwargs['fruit']))\n",
    "    \n",
    "    else:\n",
    "        print('i didn´t find a fruit')"
   ]
  },
  {
   "cell_type": "code",
   "execution_count": 34,
   "id": "5d4c866c",
   "metadata": {},
   "outputs": [
    {
     "name": "stdout",
     "output_type": "stream",
     "text": [
      "{'fruit': 'apple', 'veggie': 'lettuce'}\n",
      "My fruit choice is apple\n"
     ]
    }
   ],
   "source": [
    "myfunc(fruit='apple',veggie='lettuce')"
   ]
  },
  {
   "cell_type": "code",
   "execution_count": 39,
   "id": "8b36372d",
   "metadata": {},
   "outputs": [],
   "source": [
    "def myfunc(*args,**kwargs):\n",
    "    \n",
    "    print(args)\n",
    "    print(kwargs)\n",
    "    print('I´d like {} {}, {} {} and {} {}'.format(args[0],kwargs['fruit'],args[1],kwargs['food'],args[2],kwargs['bevarage']))"
   ]
  },
  {
   "cell_type": "code",
   "execution_count": 40,
   "id": "51e3c30b",
   "metadata": {},
   "outputs": [
    {
     "name": "stdout",
     "output_type": "stream",
     "text": [
      "(10, 20, 30)\n",
      "{'fruit': 'apple', 'food': 'pasta', 'bevarage': 'beer'}\n",
      "I´d like 10 apple, 20 pasta and 30 beer\n"
     ]
    }
   ],
   "source": [
    "myfunc(10,20,30,fruit='apple',food='pasta',bevarage='beer')"
   ]
  },
  {
   "cell_type": "markdown",
   "id": "fdc70c26",
   "metadata": {},
   "source": [
    "___\n",
    "</br>\n",
    "<font color='red', size='5'> Just that! Keep it in mind! </br> See you soon!</font>"
   ]
  },
  {
   "cell_type": "code",
   "execution_count": null,
   "id": "b43c0487",
   "metadata": {},
   "outputs": [],
   "source": []
  }
 ],
 "metadata": {
  "kernelspec": {
   "display_name": "Python 3 (ipykernel)",
   "language": "python",
   "name": "python3"
  },
  "language_info": {
   "codemirror_mode": {
    "name": "ipython",
    "version": 3
   },
   "file_extension": ".py",
   "mimetype": "text/x-python",
   "name": "python",
   "nbconvert_exporter": "python",
   "pygments_lexer": "ipython3",
   "version": "3.9.12"
  }
 },
 "nbformat": 4,
 "nbformat_minor": 5
}
