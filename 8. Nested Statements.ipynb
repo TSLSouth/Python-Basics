{
 "cells": [
  {
   "cell_type": "markdown",
   "id": "97f610ba",
   "metadata": {},
   "source": [
    "# 8. Nested Statements\n",
    "____"
   ]
  },
  {
   "cell_type": "markdown",
   "id": "d746405d",
   "metadata": {},
   "source": [
    "Local expression"
   ]
  },
  {
   "cell_type": "code",
   "execution_count": 7,
   "id": "0bff63ab",
   "metadata": {},
   "outputs": [
    {
     "data": {
      "text/plain": [
       "<function __main__.<lambda>(num)>"
      ]
     },
     "execution_count": 7,
     "metadata": {},
     "output_type": "execute_result"
    }
   ],
   "source": [
    "lambda num:num**2==0"
   ]
  },
  {
   "cell_type": "markdown",
   "id": "54efbd62",
   "metadata": {},
   "source": [
    "___\n",
    "Enclosing expression"
   ]
  },
  {
   "cell_type": "code",
   "execution_count": 11,
   "id": "387fe379",
   "metadata": {},
   "outputs": [
    {
     "name": "stdout",
     "output_type": "stream",
     "text": [
      "Hello Luiz\n"
     ]
    }
   ],
   "source": [
    "def greet():\n",
    "    #enclosing\n",
    "    name = 'Luiz'\n",
    "    \n",
    "    def hello():\n",
    "        #local\n",
    "        print('Hello '+name)\n",
    "        \n",
    "    hello()\n",
    "\n",
    "greet()"
   ]
  },
  {
   "cell_type": "markdown",
   "id": "f92d8d2f",
   "metadata": {},
   "source": [
    "___\n",
    "Global expression"
   ]
  },
  {
   "cell_type": "code",
   "execution_count": 10,
   "id": "87041e1c",
   "metadata": {},
   "outputs": [
    {
     "name": "stdout",
     "output_type": "stream",
     "text": [
      "Hello searching for name globaly\n"
     ]
    }
   ],
   "source": [
    "#global\n",
    "name = 'searching for name globaly'\n",
    "\n",
    "def greet():\n",
    "    #enclosing\n",
    "    name = 'Luiz'\n",
    "    \n",
    "    def hello():\n",
    "        #local\n",
    "        name = 'local'\n",
    "        print('Hello '+name)\n",
    "        \n",
    "    hello()\n",
    "\n",
    "greet()"
   ]
  },
  {
   "cell_type": "markdown",
   "id": "6ca00e82",
   "metadata": {},
   "source": [
    "____"
   ]
  },
  {
   "cell_type": "code",
   "execution_count": 17,
   "id": "3285ed2a",
   "metadata": {},
   "outputs": [],
   "source": [
    "x = 50\n",
    "\n",
    "def myfunc(x):\n",
    "    print(f'x is globaly assigned to {x}')\n",
    "          \n",
    "    x = 200\n",
    "    print(f'x is localy assigned to {x}')"
   ]
  },
  {
   "cell_type": "code",
   "execution_count": 18,
   "id": "9eba7415",
   "metadata": {},
   "outputs": [
    {
     "name": "stdout",
     "output_type": "stream",
     "text": [
      "x is globaly assigned to 50\n",
      "x is localy assigned to 200\n"
     ]
    }
   ],
   "source": [
    "myfunc(x)"
   ]
  },
  {
   "cell_type": "code",
   "execution_count": 21,
   "id": "fc43f86e",
   "metadata": {},
   "outputs": [
    {
     "name": "stdout",
     "output_type": "stream",
     "text": [
      "x is globaly assigned to 50\n",
      "x is localy REassigned to 200\n",
      "200\n"
     ]
    }
   ],
   "source": [
    "x = 50\n",
    "\n",
    "def myfunc():\n",
    "    global x #key word\n",
    "    print(f'x is globaly assigned to {x}')\n",
    "          \n",
    "    x = 200\n",
    "    print(f'x is localy REassigned to {x}')\n",
    "\n",
    "myfunc()\n",
    "print(x)"
   ]
  },
  {
   "cell_type": "code",
   "execution_count": 22,
   "id": "9edfbf16",
   "metadata": {},
   "outputs": [],
   "source": [
    "#other way without using global key word\n",
    "x = 50\n",
    "\n",
    "def myfunc(x):\n",
    "    \n",
    "    print(f'x is globaly assigned to {x}')\n",
    "          \n",
    "    x = 200\n",
    "    print(f'x is localy REassigned to {x}')\n",
    "    return x"
   ]
  },
  {
   "cell_type": "code",
   "execution_count": 23,
   "id": "1712bea8",
   "metadata": {},
   "outputs": [
    {
     "name": "stdout",
     "output_type": "stream",
     "text": [
      "x is globaly assigned to 50\n",
      "x is localy REassigned to 200\n"
     ]
    }
   ],
   "source": [
    "x = myfunc(x)"
   ]
  },
  {
   "cell_type": "markdown",
   "id": "1a3b714f",
   "metadata": {},
   "source": [
    "___\n",
    "<font color='gray' size='12'> Just that!</font>"
   ]
  },
  {
   "cell_type": "code",
   "execution_count": null,
   "id": "c23ff979",
   "metadata": {},
   "outputs": [],
   "source": []
  }
 ],
 "metadata": {
  "kernelspec": {
   "display_name": "Python 3 (ipykernel)",
   "language": "python",
   "name": "python3"
  },
  "language_info": {
   "codemirror_mode": {
    "name": "ipython",
    "version": 3
   },
   "file_extension": ".py",
   "mimetype": "text/x-python",
   "name": "python",
   "nbconvert_exporter": "python",
   "pygments_lexer": "ipython3",
   "version": "3.9.12"
  }
 },
 "nbformat": 4,
 "nbformat_minor": 5
}
