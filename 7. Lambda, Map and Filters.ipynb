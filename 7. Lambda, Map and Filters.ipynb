{
 "cells": [
  {
   "cell_type": "markdown",
   "id": "8e3ba434",
   "metadata": {},
   "source": [
    "# 7. Lambda, Map and Filters\n",
    "___"
   ]
  },
  {
   "cell_type": "markdown",
   "id": "706ad32a",
   "metadata": {},
   "source": [
    "Map Function"
   ]
  },
  {
   "cell_type": "code",
   "execution_count": 1,
   "id": "b9d49730",
   "metadata": {},
   "outputs": [],
   "source": [
    "def square(num):\n",
    "    return num**2"
   ]
  },
  {
   "cell_type": "code",
   "execution_count": 2,
   "id": "3e566998",
   "metadata": {},
   "outputs": [],
   "source": [
    "mynums = [1,2,3,4,5]"
   ]
  },
  {
   "cell_type": "code",
   "execution_count": 5,
   "id": "104252be",
   "metadata": {},
   "outputs": [
    {
     "name": "stdout",
     "output_type": "stream",
     "text": [
      "1\n",
      "4\n",
      "9\n",
      "16\n",
      "25\n"
     ]
    }
   ],
   "source": [
    "for i in map(square,mynums):\n",
    "    print(i)"
   ]
  },
  {
   "cell_type": "code",
   "execution_count": 7,
   "id": "22fee76c",
   "metadata": {},
   "outputs": [
    {
     "data": {
      "text/plain": [
       "[1, 4, 9, 16, 25]"
      ]
     },
     "execution_count": 7,
     "metadata": {},
     "output_type": "execute_result"
    }
   ],
   "source": [
    "list(map(square,mynums))"
   ]
  },
  {
   "cell_type": "code",
   "execution_count": 11,
   "id": "aba2f0c6",
   "metadata": {},
   "outputs": [],
   "source": [
    "def myfunc(string):\n",
    "    \n",
    "    if len(string)%2==0:\n",
    "        return string\n",
    "    else:\n",
    "        return False"
   ]
  },
  {
   "cell_type": "code",
   "execution_count": 12,
   "id": "75e5765c",
   "metadata": {},
   "outputs": [],
   "source": [
    "names = ['Steph','Luiz','Thor']"
   ]
  },
  {
   "cell_type": "code",
   "execution_count": 13,
   "id": "98c2695e",
   "metadata": {},
   "outputs": [
    {
     "data": {
      "text/plain": [
       "[False, 'Luiz', 'Thor']"
      ]
     },
     "execution_count": 13,
     "metadata": {},
     "output_type": "execute_result"
    }
   ],
   "source": [
    "list(map(myfunc,names))"
   ]
  },
  {
   "cell_type": "markdown",
   "id": "50e6008e",
   "metadata": {},
   "source": [
    "___\n",
    "Filter function"
   ]
  },
  {
   "cell_type": "code",
   "execution_count": 14,
   "id": "35fb0577",
   "metadata": {},
   "outputs": [],
   "source": [
    "def checkeven(num):\n",
    "    return num%2==0"
   ]
  },
  {
   "cell_type": "code",
   "execution_count": 15,
   "id": "f701b25c",
   "metadata": {},
   "outputs": [],
   "source": [
    "mynums = [1,2,3,4,5]"
   ]
  },
  {
   "cell_type": "code",
   "execution_count": 16,
   "id": "2b4a56bb",
   "metadata": {},
   "outputs": [
    {
     "data": {
      "text/plain": [
       "<filter at 0x2b13d63e910>"
      ]
     },
     "execution_count": 16,
     "metadata": {},
     "output_type": "execute_result"
    }
   ],
   "source": [
    "filter(checkeven,mynums)"
   ]
  },
  {
   "cell_type": "code",
   "execution_count": 17,
   "id": "8c9a8c62",
   "metadata": {},
   "outputs": [
    {
     "data": {
      "text/plain": [
       "[2, 4]"
      ]
     },
     "execution_count": 17,
     "metadata": {},
     "output_type": "execute_result"
    }
   ],
   "source": [
    "list(filter(checkeven,mynums))"
   ]
  },
  {
   "cell_type": "code",
   "execution_count": 18,
   "id": "00555d07",
   "metadata": {},
   "outputs": [
    {
     "name": "stdout",
     "output_type": "stream",
     "text": [
      "2\n",
      "4\n"
     ]
    }
   ],
   "source": [
    "for n in filter(checkeven,mynums):\n",
    "    print(n)"
   ]
  },
  {
   "cell_type": "markdown",
   "id": "7c9c4b5d",
   "metadata": {},
   "source": [
    "___\n",
    "Lambda expression"
   ]
  },
  {
   "cell_type": "code",
   "execution_count": 20,
   "id": "741ae3ae",
   "metadata": {},
   "outputs": [],
   "source": [
    "def square(num):\n",
    "    return num**2"
   ]
  },
  {
   "cell_type": "code",
   "execution_count": 21,
   "id": "d6615ff5",
   "metadata": {},
   "outputs": [],
   "source": [
    "def square(num): return num**2"
   ]
  },
  {
   "cell_type": "code",
   "execution_count": 22,
   "id": "372590da",
   "metadata": {},
   "outputs": [
    {
     "data": {
      "text/plain": [
       "9"
      ]
     },
     "execution_count": 22,
     "metadata": {},
     "output_type": "execute_result"
    }
   ],
   "source": [
    "square(3)"
   ]
  },
  {
   "cell_type": "code",
   "execution_count": 26,
   "id": "78301a2b",
   "metadata": {},
   "outputs": [],
   "source": [
    "square = lambda num: num**2"
   ]
  },
  {
   "cell_type": "code",
   "execution_count": 27,
   "id": "c2522056",
   "metadata": {},
   "outputs": [
    {
     "data": {
      "text/plain": [
       "25"
      ]
     },
     "execution_count": 27,
     "metadata": {},
     "output_type": "execute_result"
    }
   ],
   "source": [
    "square(5)"
   ]
  },
  {
   "cell_type": "code",
   "execution_count": 29,
   "id": "840e6b18",
   "metadata": {},
   "outputs": [
    {
     "data": {
      "text/plain": [
       "[1, 4, 9, 16, 25]"
      ]
     },
     "execution_count": 29,
     "metadata": {},
     "output_type": "execute_result"
    }
   ],
   "source": [
    "list(map(lambda num:num**2,mynums))"
   ]
  },
  {
   "cell_type": "code",
   "execution_count": 30,
   "id": "c1afe1b5",
   "metadata": {},
   "outputs": [
    {
     "data": {
      "text/plain": [
       "[1, 2, 3, 4, 5]"
      ]
     },
     "execution_count": 30,
     "metadata": {},
     "output_type": "execute_result"
    }
   ],
   "source": [
    "list(filter(lambda num:num**2,mynums))"
   ]
  },
  {
   "cell_type": "code",
   "execution_count": 31,
   "id": "344b5716",
   "metadata": {},
   "outputs": [
    {
     "data": {
      "text/plain": [
       "['Steph', 'Luiz', 'Thor']"
      ]
     },
     "execution_count": 31,
     "metadata": {},
     "output_type": "execute_result"
    }
   ],
   "source": [
    "names"
   ]
  },
  {
   "cell_type": "code",
   "execution_count": 35,
   "id": "ad15e56b",
   "metadata": {},
   "outputs": [
    {
     "data": {
      "text/plain": [
       "['S', 'L', 'T']"
      ]
     },
     "execution_count": 35,
     "metadata": {},
     "output_type": "execute_result"
    }
   ],
   "source": [
    "list(map(lambda i:i[0],names))"
   ]
  },
  {
   "cell_type": "markdown",
   "id": "92bfa7e8",
   "metadata": {},
   "source": [
    "___\n",
    "<font color='yellow' size='12'> This is it!</font>"
   ]
  },
  {
   "cell_type": "code",
   "execution_count": null,
   "id": "55ef2f5a",
   "metadata": {},
   "outputs": [],
   "source": []
  }
 ],
 "metadata": {
  "kernelspec": {
   "display_name": "Python 3 (ipykernel)",
   "language": "python",
   "name": "python3"
  },
  "language_info": {
   "codemirror_mode": {
    "name": "ipython",
    "version": 3
   },
   "file_extension": ".py",
   "mimetype": "text/x-python",
   "name": "python",
   "nbconvert_exporter": "python",
   "pygments_lexer": "ipython3",
   "version": "3.9.12"
  }
 },
 "nbformat": 4,
 "nbformat_minor": 5
}
