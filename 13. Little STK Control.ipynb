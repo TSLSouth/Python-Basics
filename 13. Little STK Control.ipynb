{
 "cells": [
  {
   "cell_type": "markdown",
   "id": "5166d43c",
   "metadata": {},
   "source": [
    "# 13. Little STK Control\n",
    "____\n"
   ]
  },
  {
   "cell_type": "code",
   "execution_count": 4,
   "id": "5fe4f40a",
   "metadata": {},
   "outputs": [
    {
     "name": "stdout",
     "output_type": "stream",
     "text": [
      "Product SKU: 7508750\n",
      "Product category: 001\n",
      "How many do we have in STK: 60\n",
      "Order for more 7508750, we have just 60 in stk.\n"
     ]
    }
   ],
   "source": [
    "product = input('Product SKU: ')\n",
    "category = input('Product category: ')\n",
    "amount = int(input('How many do we have in STK: '))\n",
    "\n",
    "if product and category and amount:\n",
    "    amount = int(amount)\n",
    "    if category == '001':\n",
    "        if amount < 75:\n",
    "            print('Order for more {}, we have just {} in stk.'.format(product,amount))\n",
    "    elif category == '002':\n",
    "        if amount < 30:\n",
    "            print('Order for more {}, we have just {} in stk.'.format(product,amount))\n",
    "            \n",
    "else:\n",
    "    print('Fill all the fields above.')"
   ]
  },
  {
   "cell_type": "code",
   "execution_count": null,
   "id": "b79c785c",
   "metadata": {},
   "outputs": [],
   "source": []
  }
 ],
 "metadata": {
  "kernelspec": {
   "display_name": "Python 3 (ipykernel)",
   "language": "python",
   "name": "python3"
  },
  "language_info": {
   "codemirror_mode": {
    "name": "ipython",
    "version": 3
   },
   "file_extension": ".py",
   "mimetype": "text/x-python",
   "name": "python",
   "nbconvert_exporter": "python",
   "pygments_lexer": "ipython3",
   "version": "3.9.12"
  }
 },
 "nbformat": 4,
 "nbformat_minor": 5
}
