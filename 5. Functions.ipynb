{
 "cells": [
  {
   "cell_type": "markdown",
   "id": "a5e93571",
   "metadata": {},
   "source": [
    "# 5. Functions\n",
    "\n",
    "<b>def</b> name_function():\n",
    "to define the function'\n",
    "\n",
    "print != return</br>\n",
    "\n",
    "<b>print</b> display a value\n",
    "\n",
    "<b>return</b> return a value from a function, it does not print it.\n",
    "\n",
    "___"
   ]
  },
  {
   "cell_type": "code",
   "execution_count": 1,
   "id": "06c53d33",
   "metadata": {},
   "outputs": [],
   "source": [
    "def say_hello():\n",
    "    print('hello')\n",
    "    print('how´re')\n",
    "    print('you')"
   ]
  },
  {
   "cell_type": "code",
   "execution_count": 2,
   "id": "258c79f5",
   "metadata": {},
   "outputs": [
    {
     "name": "stdout",
     "output_type": "stream",
     "text": [
      "hello\n",
      "how´re\n",
      "you\n"
     ]
    }
   ],
   "source": [
    "say_hello()"
   ]
  },
  {
   "cell_type": "code",
   "execution_count": 3,
   "id": "f8e0a96b",
   "metadata": {},
   "outputs": [],
   "source": [
    "def say_hello(name='default'):\n",
    "    print(f'Hi {name}')"
   ]
  },
  {
   "cell_type": "code",
   "execution_count": 4,
   "id": "f3b4db5e",
   "metadata": {},
   "outputs": [
    {
     "name": "stdout",
     "output_type": "stream",
     "text": [
      "Hi Arthur\n"
     ]
    }
   ],
   "source": [
    "say_hello('Arthur')"
   ]
  },
  {
   "cell_type": "code",
   "execution_count": 5,
   "id": "b867c664",
   "metadata": {},
   "outputs": [
    {
     "name": "stdout",
     "output_type": "stream",
     "text": [
      "Hi default\n"
     ]
    }
   ],
   "source": [
    "say_hello()"
   ]
  },
  {
   "cell_type": "markdown",
   "id": "1f53b0bf",
   "metadata": {},
   "source": [
    "___\n",
    "<b>Addition</b> function\n",
    "(a,b)"
   ]
  },
  {
   "cell_type": "code",
   "execution_count": 6,
   "id": "2831bdd1",
   "metadata": {},
   "outputs": [],
   "source": [
    "def print_result(a,b):\n",
    "    print(a+b)"
   ]
  },
  {
   "cell_type": "code",
   "execution_count": 7,
   "id": "e20c57fe",
   "metadata": {},
   "outputs": [],
   "source": [
    "def return_result(a,b):\n",
    "    return a+b"
   ]
  },
  {
   "cell_type": "code",
   "execution_count": 8,
   "id": "8cf65529",
   "metadata": {},
   "outputs": [],
   "source": [
    "def my_func(a,b):\n",
    "    print(a+b)\n",
    "    return a+b"
   ]
  },
  {
   "cell_type": "code",
   "execution_count": 9,
   "id": "2c06fbe6",
   "metadata": {},
   "outputs": [
    {
     "name": "stdout",
     "output_type": "stream",
     "text": [
      "30\n"
     ]
    }
   ],
   "source": [
    "result = my_func(10,20)"
   ]
  },
  {
   "cell_type": "code",
   "execution_count": 10,
   "id": "651cbb52",
   "metadata": {},
   "outputs": [
    {
     "data": {
      "text/plain": [
       "30"
      ]
     },
     "execution_count": 10,
     "metadata": {},
     "output_type": "execute_result"
    }
   ],
   "source": [
    "result"
   ]
  },
  {
   "cell_type": "code",
   "execution_count": 11,
   "id": "fc4c7353",
   "metadata": {},
   "outputs": [],
   "source": [
    "def hello(name):\n",
    "    return 'Hello ' + name\n",
    "#it doesn´t print"
   ]
  },
  {
   "cell_type": "code",
   "execution_count": 12,
   "id": "2673f691",
   "metadata": {},
   "outputs": [
    {
     "name": "stdout",
     "output_type": "stream",
     "text": [
      "Hello Luiz\n"
     ]
    }
   ],
   "source": [
    "#this print\n",
    "message = hello('Luiz')\n",
    "print(message)"
   ]
  },
  {
   "cell_type": "code",
   "execution_count": 13,
   "id": "24321d88",
   "metadata": {},
   "outputs": [],
   "source": [
    "def addition(num1,num2):\n",
    "    return num1+num2"
   ]
  },
  {
   "cell_type": "code",
   "execution_count": 14,
   "id": "c4438d8e",
   "metadata": {},
   "outputs": [
    {
     "data": {
      "text/plain": [
       "8"
      ]
     },
     "execution_count": 14,
     "metadata": {},
     "output_type": "execute_result"
    }
   ],
   "source": [
    "addition(3,5)"
   ]
  },
  {
   "cell_type": "code",
   "execution_count": 15,
   "id": "c0902008",
   "metadata": {},
   "outputs": [],
   "source": [
    "#assigning a variable name to the function:\n",
    "result = addition(3,5)"
   ]
  },
  {
   "cell_type": "code",
   "execution_count": 16,
   "id": "7bf7a4f7",
   "metadata": {},
   "outputs": [
    {
     "data": {
      "text/plain": [
       "8"
      ]
     },
     "execution_count": 16,
     "metadata": {},
     "output_type": "execute_result"
    }
   ],
   "source": [
    "result"
   ]
  },
  {
   "cell_type": "code",
   "execution_count": 17,
   "id": "bd1ee4a9",
   "metadata": {},
   "outputs": [
    {
     "data": {
      "text/plain": [
       "'BrazilUK'"
      ]
     },
     "execution_count": 17,
     "metadata": {},
     "output_type": "execute_result"
    }
   ],
   "source": [
    "#using strings\n",
    "addition('Brazil','UK')"
   ]
  },
  {
   "cell_type": "code",
   "execution_count": 18,
   "id": "e1721103",
   "metadata": {},
   "outputs": [],
   "source": [
    "result = addition('Brazil','UK')"
   ]
  },
  {
   "cell_type": "code",
   "execution_count": 19,
   "id": "4573b926",
   "metadata": {},
   "outputs": [
    {
     "data": {
      "text/plain": [
       "'BrazilUKBrazilUK'"
      ]
     },
     "execution_count": 19,
     "metadata": {},
     "output_type": "execute_result"
    }
   ],
   "source": [
    "result + result"
   ]
  },
  {
   "cell_type": "code",
   "execution_count": 20,
   "id": "1b8cfcb8",
   "metadata": {},
   "outputs": [],
   "source": [
    "result = addition(3,5)"
   ]
  },
  {
   "cell_type": "code",
   "execution_count": 21,
   "id": "68a989ba",
   "metadata": {},
   "outputs": [
    {
     "data": {
      "text/plain": [
       "16"
      ]
     },
     "execution_count": 21,
     "metadata": {},
     "output_type": "execute_result"
    }
   ],
   "source": [
    "result + result"
   ]
  },
  {
   "cell_type": "markdown",
   "id": "6da62091",
   "metadata": {},
   "source": [
    "___\n",
    "Using <b>booleans</b>"
   ]
  },
  {
   "cell_type": "code",
   "execution_count": 22,
   "id": "f61b9d9e",
   "metadata": {},
   "outputs": [],
   "source": [
    "def even_check(number):\n",
    "    return number % 2 == 0"
   ]
  },
  {
   "cell_type": "code",
   "execution_count": 23,
   "id": "ec0bce38",
   "metadata": {},
   "outputs": [
    {
     "data": {
      "text/plain": [
       "True"
      ]
     },
     "execution_count": 23,
     "metadata": {},
     "output_type": "execute_result"
    }
   ],
   "source": [
    "even_check(50)"
   ]
  },
  {
   "cell_type": "markdown",
   "id": "ad35d226",
   "metadata": {},
   "source": [
    "___\n",
    "Using a <b>list</b> + <b>for loops</b> + <b>conditional</b>"
   ]
  },
  {
   "cell_type": "code",
   "execution_count": 24,
   "id": "251a7b23",
   "metadata": {},
   "outputs": [],
   "source": [
    "def checklist(list_numbers):\n",
    "    for x in list_numbers:\n",
    "        if x %2 == 0:\n",
    "            return True\n",
    "        else:\n",
    "            pass"
   ]
  },
  {
   "cell_type": "code",
   "execution_count": 25,
   "id": "69c9138c",
   "metadata": {},
   "outputs": [
    {
     "data": {
      "text/plain": [
       "True"
      ]
     },
     "execution_count": 25,
     "metadata": {},
     "output_type": "execute_result"
    }
   ],
   "source": [
    "checklist([1,2,3,4,5,6,7,8,9,10,11])\n",
    "#this just stop in the first number, see next "
   ]
  },
  {
   "cell_type": "code",
   "execution_count": 26,
   "id": "7cd5c467",
   "metadata": {},
   "outputs": [],
   "source": [
    "def checklist(list_numbers):\n",
    "    \n",
    "    even_x = [] #what to show as result at the end\n",
    "    \n",
    "    for x in list_numbers: #for loop\n",
    "        \n",
    "        if x %2 == 0: #conditional one\n",
    "            even_x.append(x) #append\n",
    "            \n",
    "        else: #conditional two\n",
    "            pass\n",
    "        \n",
    "    return even_x"
   ]
  },
  {
   "cell_type": "code",
   "execution_count": 27,
   "id": "bdfc79dc",
   "metadata": {},
   "outputs": [
    {
     "data": {
      "text/plain": [
       "[2, 4, 6, 8, 10]"
      ]
     },
     "execution_count": 27,
     "metadata": {},
     "output_type": "execute_result"
    }
   ],
   "source": [
    "checklist([1,2,3,4,5,6,7,8,9,10,11])"
   ]
  },
  {
   "cell_type": "code",
   "execution_count": 28,
   "id": "4f0f2593",
   "metadata": {},
   "outputs": [
    {
     "data": {
      "text/plain": [
       "[]"
      ]
     },
     "execution_count": 28,
     "metadata": {},
     "output_type": "execute_result"
    }
   ],
   "source": [
    "checklist([1,3,5,7])"
   ]
  },
  {
   "cell_type": "markdown",
   "id": "6b72360f",
   "metadata": {},
   "source": [
    "___\n",
    "Using <b>tuples</b>"
   ]
  },
  {
   "cell_type": "code",
   "execution_count": 29,
   "id": "ad01873b",
   "metadata": {},
   "outputs": [],
   "source": [
    "cellphone = [('Samsung',299),('Apple',399)]"
   ]
  },
  {
   "cell_type": "code",
   "execution_count": 30,
   "id": "d6be94a8",
   "metadata": {},
   "outputs": [
    {
     "data": {
      "text/plain": [
       "[('Samsung', 299), ('Apple', 399)]"
      ]
     },
     "execution_count": 30,
     "metadata": {},
     "output_type": "execute_result"
    }
   ],
   "source": [
    "cellphone"
   ]
  },
  {
   "cell_type": "code",
   "execution_count": 31,
   "id": "d953bb0e",
   "metadata": {},
   "outputs": [
    {
     "name": "stdout",
     "output_type": "stream",
     "text": [
      "Samsung\n",
      "Apple\n"
     ]
    }
   ],
   "source": [
    "for cell,price in cellphone:\n",
    "    print(cell)"
   ]
  },
  {
   "cell_type": "code",
   "execution_count": 32,
   "id": "3fe195a3",
   "metadata": {},
   "outputs": [
    {
     "name": "stdout",
     "output_type": "stream",
     "text": [
      "299\n",
      "399\n"
     ]
    }
   ],
   "source": [
    "for cell,price in cellphone:\n",
    "    print(price)"
   ]
  },
  {
   "cell_type": "markdown",
   "id": "a5f251cc",
   "metadata": {},
   "source": [
    "___\n",
    "To bring both data side by side:"
   ]
  },
  {
   "cell_type": "code",
   "execution_count": 33,
   "id": "0032802e",
   "metadata": {},
   "outputs": [],
   "source": [
    "def more_expensive(cellphone): #function\n",
    "    \n",
    "    cell_name = ''  #results for return\n",
    "    \n",
    "    max_price = 0   #results for return\n",
    "    \n",
    "    for cell,price in cellphone:  #for loop\n",
    "        \n",
    "        if price > max_price:  #conditional\n",
    "            cell_name = cell   \n",
    "            max_price = price\n",
    "            \n",
    "        else: \n",
    "            pass\n",
    "        \n",
    "    return (cell_name,max_price)"
   ]
  },
  {
   "cell_type": "code",
   "execution_count": 34,
   "id": "6042e0a6",
   "metadata": {},
   "outputs": [
    {
     "data": {
      "text/plain": [
       "('Apple', 399)"
      ]
     },
     "execution_count": 34,
     "metadata": {},
     "output_type": "execute_result"
    }
   ],
   "source": [
    "more_expensive(cellphone)"
   ]
  },
  {
   "cell_type": "code",
   "execution_count": 35,
   "id": "b2a16923",
   "metadata": {},
   "outputs": [],
   "source": [
    "def less_expensive(cellphone):\n",
    "    \n",
    "    cell_name = ''\n",
    "    \n",
    "    min_price = 0\n",
    "    \n",
    "    max_price = 399\n",
    "    \n",
    "    for cell,price in cellphone:\n",
    "        \n",
    "        if price > min_price and price < max_price:\n",
    "            cell_name = cell\n",
    "            max_price = price\n",
    "            \n",
    "        else: \n",
    "            pass\n",
    "        \n",
    "    return (cell_name,max_price)"
   ]
  },
  {
   "cell_type": "code",
   "execution_count": 36,
   "id": "bf80e0d0",
   "metadata": {},
   "outputs": [
    {
     "data": {
      "text/plain": [
       "('Samsung', 299)"
      ]
     },
     "execution_count": 36,
     "metadata": {},
     "output_type": "execute_result"
    }
   ],
   "source": [
    "less_expensive(cellphone)"
   ]
  },
  {
   "cell_type": "markdown",
   "id": "fa730022",
   "metadata": {},
   "source": [
    "___\n",
    "# Interaction between functions"
   ]
  },
  {
   "cell_type": "code",
   "execution_count": 37,
   "id": "f8c2426f",
   "metadata": {},
   "outputs": [],
   "source": [
    "#importing shuffle function to use in this example:\n",
    "from random import shuffle"
   ]
  },
  {
   "cell_type": "code",
   "execution_count": 38,
   "id": "a2eb967a",
   "metadata": {},
   "outputs": [],
   "source": [
    "mylist = [' ',' ','0']"
   ]
  },
  {
   "cell_type": "markdown",
   "id": "8231a4b0",
   "metadata": {},
   "source": [
    "___\n",
    "# Game: try to find where´s the imaginary ball, you have 3 posible answers:"
   ]
  },
  {
   "cell_type": "code",
   "execution_count": 62,
   "id": "412429f5",
   "metadata": {},
   "outputs": [],
   "source": [
    "#1st def function: mix where is the 'ball'\n",
    "\n",
    "def mixedlist(mylist):\n",
    "    shuffle(mylist)\n",
    "    return mylist"
   ]
  },
  {
   "cell_type": "code",
   "execution_count": 63,
   "id": "35d4b9d3",
   "metadata": {},
   "outputs": [
    {
     "data": {
      "text/plain": [
       "['', '0', '']"
      ]
     },
     "execution_count": 63,
     "metadata": {},
     "output_type": "execute_result"
    }
   ],
   "source": [
    "mylist"
   ]
  },
  {
   "cell_type": "code",
   "execution_count": 64,
   "id": "18e24e1c",
   "metadata": {},
   "outputs": [
    {
     "data": {
      "text/plain": [
       "['', '0', '']"
      ]
     },
     "execution_count": 64,
     "metadata": {},
     "output_type": "execute_result"
    }
   ],
   "source": [
    "mixedlist(mylist)"
   ]
  },
  {
   "cell_type": "code",
   "execution_count": 65,
   "id": "040f21b2",
   "metadata": {},
   "outputs": [],
   "source": [
    "#2nd def function: creating the question\n",
    "\n",
    "def play_num():\n",
    "    \n",
    "    play = ''\n",
    "    \n",
    "    while play not in ['0','1','2']:\n",
    "        \n",
    "        play = input('Choose a number: 0, 1 or 2:')\n",
    "        \n",
    "    return int(play)"
   ]
  },
  {
   "cell_type": "code",
   "execution_count": 66,
   "id": "c6d4a984",
   "metadata": {
    "scrolled": true
   },
   "outputs": [
    {
     "name": "stdout",
     "output_type": "stream",
     "text": [
      "Choose a number: 0, 1 or 2:\n",
      "Choose a number: 0, 1 or 2:\n",
      "Choose a number: 0, 1 or 2:\n",
      "Choose a number: 0, 1 or 2:1\n"
     ]
    },
    {
     "data": {
      "text/plain": [
       "1"
      ]
     },
     "execution_count": 66,
     "metadata": {},
     "output_type": "execute_result"
    }
   ],
   "source": [
    "play_num()"
   ]
  },
  {
   "attachments": {
    "image.png": {
     "image/png": "[encoded data removed]"
    }
   },
   "cell_type": "markdown",
   "id": "4158d5c5",
   "metadata": {},
   "source": [
    "image:\n",
    "\n",
    "![image.png](attachment:image.png)"
   ]
  },
  {
   "cell_type": "code",
   "execution_count": 71,
   "id": "bb8be6fb",
   "metadata": {},
   "outputs": [],
   "source": [
    "#then, what to print according each answer?\n",
    "\n",
    "def show_result(mylist,play):\n",
    "    if mylist[play] == '0':\n",
    "        print('Correct!')\n",
    "    else:\n",
    "        print('Wrong answer!')\n",
    "        print (f'Correct answer was: {mylist}')"
   ]
  },
  {
   "cell_type": "code",
   "execution_count": 72,
   "id": "c83b359d",
   "metadata": {},
   "outputs": [
    {
     "name": "stdout",
     "output_type": "stream",
     "text": [
      "Choose a number: 0, 1 or 2:\n",
      "Choose a number: 0, 1 or 2:0\n"
     ]
    },
    {
     "data": {
      "text/plain": [
       "0"
      ]
     },
     "execution_count": 72,
     "metadata": {},
     "output_type": "execute_result"
    }
   ],
   "source": [
    "play_num()"
   ]
  },
  {
   "cell_type": "code",
   "execution_count": 73,
   "id": "d98bda83",
   "metadata": {},
   "outputs": [
    {
     "name": "stdout",
     "output_type": "stream",
     "text": [
      "Choose a number: 0, 1 or 2:0\n",
      "Wrong answer!\n",
      "Correct answer was: ['', '', '0']\n"
     ]
    }
   ],
   "source": [
    "#to finish and do interaction between functions:\n",
    "\n",
    "mylist = ['','','0'] #inicial list\n",
    "\n",
    "shuffledlist = mixedlist(mylist) #1st function with a variable name\n",
    "\n",
    "game = play_num() #2nd function with a variable name\n",
    "\n",
    "show_result(mylist,game) #result bringing #inicial list , #how to play function"
   ]
  },
  {
   "cell_type": "code",
   "execution_count": 74,
   "id": "0a6c290b",
   "metadata": {},
   "outputs": [
    {
     "name": "stdout",
     "output_type": "stream",
     "text": [
      "Choose a number: 0, 1 or 2:1\n",
      "Correct!\n"
     ]
    }
   ],
   "source": [
    "#to finish 2\n",
    "\n",
    "mylist = ['','','0']\n",
    "\n",
    "shuffledlist = mixedlist(mylist)\n",
    "\n",
    "game = play_num()\n",
    "\n",
    "show_result(mylist,game)"
   ]
  },
  {
   "cell_type": "markdown",
   "id": "29e5f171",
   "metadata": {},
   "source": [
    "___\n",
    "<font color='green' size='32'> End</br> \n",
    "<br>Well done!</br> </font>"
   ]
  },
  {
   "cell_type": "code",
   "execution_count": null,
   "id": "61c67b31",
   "metadata": {},
   "outputs": [],
   "source": []
  }
 ],
 "metadata": {
  "kernelspec": {
   "display_name": "Python 3 (ipykernel)",
   "language": "python",
   "name": "python3"
  },
  "language_info": {
   "codemirror_mode": {
    "name": "ipython",
    "version": 3
   },
   "file_extension": ".py",
   "mimetype": "text/x-python",
   "name": "python",
   "nbconvert_exporter": "python",
   "pygments_lexer": "ipython3",
   "version": "3.9.12"
  }
 },
 "nbformat": 4,
 "nbformat_minor": 5
}
