{
 "cells": [
  {
   "cell_type": "markdown",
   "id": "ace0dca5",
   "metadata": {},
   "source": [
    "# 10. Tic Tac Toe Game\n",
    "___"
   ]
  },
  {
   "cell_type": "code",
   "execution_count": null,
   "id": "65169cfc",
   "metadata": {},
   "outputs": [],
   "source": []
  },
  {
   "cell_type": "code",
   "execution_count": 8,
   "id": "cde556d2",
   "metadata": {},
   "outputs": [],
   "source": [
    "#DISPLAY\n",
    "\n",
    "from IPython.display import clear_output\n",
    "\n",
    "def display_board(board):\n",
    "    clear_output()\n",
    "    print(board[7]+' | '+board[8]+' | '+board[9])\n",
    "    print('--------------')\n",
    "    print(board[4]+' | '+board[5]+' | '+board[6])\n",
    "    print('--------------')\n",
    "    print(board[1]+' | '+board[2]+' | '+board[3])"
   ]
  },
  {
   "cell_type": "code",
   "execution_count": 9,
   "id": "06efbe66",
   "metadata": {},
   "outputs": [
    {
     "name": "stdout",
     "output_type": "stream",
     "text": [
      " 7 |  8 |  9\n",
      "--------------\n",
      " 4 |  5 |  6\n",
      "--------------\n",
      " 1 |  2 |  3\n"
     ]
    }
   ],
   "source": [
    "board_list = ['#',' 1',' 2',' 3',' 4',' 5',' 6',' 7',' 8',' 9']\n",
    "display_board(board_list)"
   ]
  },
  {
   "cell_type": "code",
   "execution_count": 10,
   "id": "be38bc47",
   "metadata": {},
   "outputs": [],
   "source": [
    "#USER CHOICE TO START\n",
    "\n",
    "marker0 = '' \n",
    "marker1 = ''\n",
    "marker2 = ''\n",
    "\n",
    "def player_input():\n",
    "    \n",
    "    global marker0\n",
    "    global marker1\n",
    "    global marker2\n",
    "    \n",
    "    while marker0 != 'X' and marker0 != '0'  and marker0 != 'x':\n",
    "        marker0 = input('Let´s play Tic Tac Toe. Player 1: choose X or 0: ')\n",
    "        \n",
    "        if marker0 == 'X' or marker0 == 'x':\n",
    "            marker1 = ' X'\n",
    "            marker2 = ' 0'\n",
    "            print('Ok! Player 1 use X and Player 2 use 0')\n",
    "        \n",
    "        if marker0 == '0':\n",
    "            marker1 = ' 0'\n",
    "            marker2 = ' X'\n",
    "            print('Ok! Player 1 use 0 and Player 2 use X')\n",
    "    \n",
    "    return player1_input()"
   ]
  },
  {
   "cell_type": "code",
   "execution_count": 11,
   "id": "b7da0325",
   "metadata": {},
   "outputs": [],
   "source": [
    "#CHECK\n",
    "\n",
    "def win_check1():\n",
    "    \n",
    "    for i in board_list:\n",
    "    \n",
    "        #HORIZONTAL\n",
    "        if ((board_list[1] == board_list[2] and board_list[2] == board_list[3]) or\n",
    "        (board_list[4] == board_list[5] and board_list[5] == board_list[6]) or\n",
    "        (board_list[7] == board_list[8] and board_list[8] == board_list[9]) or\n",
    "        #VERTICAL\n",
    "        (board_list[1] == board_list[4] and board_list[4] == board_list[7]) or \n",
    "        (board_list[2] == board_list[5] and board_list[5] == board_list[8]) or \n",
    "        (board_list[3] == board_list[6] and board_list[6] == board_list[9]) or \n",
    "        #DIAGONAL\n",
    "        (board_list[1] == board_list[5] and board_list[5] == board_list[9]) or \n",
    "        (board_list[3] == board_list[5] and board_list[5] == board_list[7])): \n",
    "            return win()\n",
    "        \n",
    "        if (((board_list[1] == ' X') or (board_list[1] == ' 0')) and\n",
    "            ((board_list[2] == ' X') or (board_list[2] == ' 0')) and\n",
    "            ((board_list[3] == ' X') or (board_list[3] == ' 0')) and\n",
    "            ((board_list[4] == ' X') or (board_list[4] == ' 0')) and\n",
    "            ((board_list[5] == ' X') or (board_list[5] == ' 0')) and\n",
    "            ((board_list[6] == ' X') or (board_list[6] == ' 0')) and\n",
    "            ((board_list[7] == ' X') or (board_list[7] == ' 0')) and\n",
    "            ((board_list[8] == ' X') or (board_list[8] == ' 0')) and\n",
    "            ((board_list[9] == ' X') or (board_list[9] == ' 0'))):\n",
    "            \n",
    "            print('No one wins!')\n",
    "            return again()\n",
    "        \n",
    "        else: \n",
    "            return player2_input()\n",
    "\n",
    "def win_check2():\n",
    "    \n",
    "    for i in board_list:\n",
    "    \n",
    "        #HORIZONTAL\n",
    "        if ((board_list[1] == board_list[2] and board_list[2] == board_list[3]) or\n",
    "        (board_list[4] == board_list[5] and board_list[5] == board_list[6]) or\n",
    "        (board_list[7] == board_list[8] and board_list[8] == board_list[9]) or\n",
    "        #VERTICAL\n",
    "        (board_list[1] == board_list[4] and board_list[4] == board_list[7]) or \n",
    "        (board_list[2] == board_list[5] and board_list[5] == board_list[8]) or \n",
    "        (board_list[3] == board_list[6] and board_list[6] == board_list[9]) or \n",
    "        #DIAGONAL\n",
    "        (board_list[1] == board_list[5] and board_list[5] == board_list[9]) or \n",
    "        (board_list[3] == board_list[5] and board_list[5] == board_list[7])): \n",
    "            return win()\n",
    "        \n",
    "        if (((board_list[1] == ' X') or (board_list[1] == ' 0')) and\n",
    "            ((board_list[2] == ' X') or (board_list[2] == ' 0')) and\n",
    "            ((board_list[3] == ' X') or (board_list[3] == ' 0')) and\n",
    "            ((board_list[4] == ' X') or (board_list[4] == ' 0')) and\n",
    "            ((board_list[5] == ' X') or (board_list[5] == ' 0')) and\n",
    "            ((board_list[6] == ' X') or (board_list[6] == ' 0')) and\n",
    "            ((board_list[7] == ' X') or (board_list[7] == ' 0')) and\n",
    "            ((board_list[8] == ' X') or (board_list[8] == ' 0')) and\n",
    "            ((board_list[9] == ' X') or (board_list[9] == ' 0'))):\n",
    "            \n",
    "            print('No one wins!')\n",
    "            return again()\n",
    "        \n",
    "        else:\n",
    "            return player1_input()"
   ]
  },
  {
   "cell_type": "code",
   "execution_count": 12,
   "id": "e9177fcf",
   "metadata": {},
   "outputs": [],
   "source": [
    "#USER INPUTS\n",
    "\n",
    "def player1_input():\n",
    "    \n",
    "    rangelist = ['1','2','3','4','5','6','7','8','9']\n",
    "    position = 0\n",
    "    \n",
    "    while position not in rangelist:\n",
    "        clear_output()\n",
    "        display_board(board_list)\n",
    "        print('Obs: to restart anytime just write \\\"reset\" ')\n",
    "        position = input('Player 1 move: ')\n",
    "        \n",
    "        if position in rangelist:\n",
    "            #REPLACEMENT\n",
    "            clear_output()\n",
    "            board_list[int(position)] = marker1\n",
    "            win_check1()\n",
    "        \n",
    "        if position == 'reset':\n",
    "            return again()\n",
    "    \n",
    "def player2_input():\n",
    "    \n",
    "    rangelist = ['1','2','3','4','5','6','7','8','9']\n",
    "    position = 0\n",
    "    \n",
    "    while position not in rangelist:\n",
    "        clear_output()\n",
    "        display_board(board_list)\n",
    "        print('Obs: to restart anytime just write \\\"reset\" ')\n",
    "        position = input('Player 2 move: ')\n",
    "        \n",
    "        if position in rangelist:\n",
    "            #REPLACEMENT\n",
    "            clear_output()\n",
    "            board_list[int(position)] = marker2\n",
    "            win_check2()\n",
    "            \n",
    "        if position == 'reset':\n",
    "            return again()"
   ]
  },
  {
   "cell_type": "code",
   "execution_count": 13,
   "id": "0e88acce",
   "metadata": {},
   "outputs": [],
   "source": [
    "#WIN MESSAGE\n",
    "def win():\n",
    "    display_board(board_list)\n",
    "    print('You win! Congrats!')\n",
    "    return again()"
   ]
  },
  {
   "cell_type": "code",
   "execution_count": 14,
   "id": "3125339f",
   "metadata": {},
   "outputs": [],
   "source": [
    "#CONTINUOUS TO PLAY?\n",
    "def again():\n",
    "    \n",
    "    again = ''\n",
    "    \n",
    "    while again != 'n' or again != 'N':\n",
    "        again = input('Do you wanna play again? Y or N:')\n",
    "        \n",
    "        global marker0\n",
    "        global marker1\n",
    "        global marker2\n",
    "        \n",
    "        if ((again == 'y') or (again == 'Y')):\n",
    "            board_list[1] = ' 1' \n",
    "            board_list[2] = ' 2'\n",
    "            board_list[3] = ' 3'\n",
    "            board_list[4] = ' 4'\n",
    "            board_list[5] = ' 5'\n",
    "            board_list[6] = ' 6'\n",
    "            board_list[7] = ' 7'\n",
    "            board_list[8] = ' 8'\n",
    "            board_list[9] = ' 9'\n",
    "            marker0 = ' '\n",
    "            marker1 = ' '\n",
    "            marker2 = ' '\n",
    "            return player_input()\n",
    "        \n",
    "        if ((again == 'n') or (again == 'N')):\n",
    "            board_list[1] = ' 1' \n",
    "            board_list[2] = ' 2'\n",
    "            board_list[3] = ' 3'\n",
    "            board_list[4] = ' 4'\n",
    "            board_list[5] = ' 5'\n",
    "            board_list[6] = ' 6'\n",
    "            board_list[7] = ' 7'\n",
    "            board_list[8] = ' 8'\n",
    "            board_list[9] = ' 9'\n",
    "            print('Bye! See you soon!')\n",
    "            break"
   ]
  },
  {
   "cell_type": "code",
   "execution_count": 15,
   "id": "e28efc4d",
   "metadata": {},
   "outputs": [],
   "source": [
    "#RESET ANY TIME\n",
    "\n",
    "def reset():\n",
    "    reset = again()"
   ]
  },
  {
   "cell_type": "code",
   "execution_count": null,
   "id": "8415147e",
   "metadata": {},
   "outputs": [
    {
     "name": "stdout",
     "output_type": "stream",
     "text": [
      " 0 |  8 |  X\n",
      "--------------\n",
      " X |  0 |  0\n",
      "--------------\n",
      " 0 |  2 |  X\n",
      "Obs: to restart anytime just write \"reset\" \n",
      "Player 2 move: reset\n"
     ]
    }
   ],
   "source": [
    "#CONCLUSION\n",
    "\n",
    "player_input()"
   ]
  },
  {
   "cell_type": "markdown",
   "id": "b0302354",
   "metadata": {},
   "source": [
    "____\n",
    "</br>\n",
    "<font color='purple' size='12'> Well done!</font>"
   ]
  }
 ],
 "metadata": {
  "kernelspec": {
   "display_name": "Python 3 (ipykernel)",
   "language": "python",
   "name": "python3"
  },
  "language_info": {
   "codemirror_mode": {
    "name": "ipython",
    "version": 3
   },
   "file_extension": ".py",
   "mimetype": "text/x-python",
   "name": "python",
   "nbconvert_exporter": "python",
   "pygments_lexer": "ipython3",
   "version": "3.9.12"
  }
 },
 "nbformat": 4,
 "nbformat_minor": 5
}
