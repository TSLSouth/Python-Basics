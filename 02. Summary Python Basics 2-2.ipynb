{
 "cells": [
  {
   "cell_type": "markdown",
   "id": "dfd84f56",
   "metadata": {},
   "source": [
    "# Summary"
   ]
  },
  {
   "cell_type": "code",
   "execution_count": 31,
   "id": "f7b93e17",
   "metadata": {},
   "outputs": [
    {
     "name": "stdout",
     "output_type": "stream",
     "text": [
      "iPhone X total billing in 21/08/2022 was U$7,400,000.00\n"
     ]
    }
   ],
   "source": [
    "# TUPLE\n",
    "sales = [\n",
    "    ('20/08/2022', 'iphone x', 'azul', '128gb', 350, 4000),\n",
    "    ('20/08/2022', 'iphone x', 'prata', '128gb', 1500, 4000),\n",
    "    ('20/08/2022', 'ipad', 'prata', '256gb', 127, 6000),\n",
    "    ('20/08/2022', 'ipad', 'prata', '128gb', 981, 5000),\n",
    "    ('21/08/2022', 'iphone x', 'azul', '128gb', 397, 4000),\n",
    "    ('21/08/2022', 'iphone x', 'prata', '128gb', 1017, 4000),\n",
    "    ('21/08/2022', 'ipad', 'prata', '256gb', 50, 6000),\n",
    "    ('21/08/2022', 'ipad', 'prata', '128gb', 4000, 5000),\n",
    "]\n",
    "billing = 0\n",
    "for item in sales:\n",
    "    date,model,color,memory,units,price = item\n",
    "    if model == 'iphone x' and date == '20/08/2022':\n",
    "        billing += units * price\n",
    "print('iPhone X total billing in {} was U${:,.2f}'.\n",
    "      format(date,billing))"
   ]
  },
  {
   "cell_type": "code",
   "execution_count": 32,
   "id": "2ac3fd81",
   "metadata": {
    "scrolled": true
   },
   "outputs": [
    {
     "name": "stdout",
     "output_type": "stream",
     "text": [
      "iphone \n",
      " -total sales 2020: 951642 \n",
      " -total sales 2019: 558147 \n",
      " -growth: 170.50%.\n",
      "tv \n",
      " -total sales 2020: 787604 \n",
      " -total sales 2019: 405252 \n",
      " -growth: 194.35%.\n",
      "máquina de café \n",
      " -total sales 2020: 867660 \n",
      " -total sales 2019: 718654 \n",
      " -growth: 120.73%.\n",
      "notebook dell \n",
      " -total sales 2020: 694913 \n",
      " -total sales 2019: 422760 \n",
      " -growth: 164.38%.\n",
      "notebook hp \n",
      " -total sales 2020: 539704 \n",
      " -total sales 2019: 154753 \n",
      " -growth: 348.75%.\n",
      "microsoft surface \n",
      " -total sales 2020: 667179 \n",
      " -total sales 2019: 438508 \n",
      " -growth: 152.15%.\n",
      "webcam \n",
      " -total sales 2020: 295633 \n",
      " -total sales 2019: 237467 \n",
      " -growth: 124.49%.\n",
      "caixa de som \n",
      " -total sales 2020: 725316 \n",
      " -total sales 2019: 489705 \n",
      " -growth: 148.11%.\n",
      "microfone \n",
      " -total sales 2020: 644622 \n",
      " -total sales 2019: 328311 \n",
      " -growth: 196.34%.\n",
      "câmera canon \n",
      " -total sales 2020: 994303 \n",
      " -total sales 2019: 591120 \n",
      " -growth: 168.21%.\n"
     ]
    }
   ],
   "source": [
    "#UNPACKING TUPLES ON THE SAME LINE WITH A FOR\n",
    "vendas_produtos = [\n",
    "    ('iphone', 558147, 951642), \n",
    "    ('galaxy', 712350, 244295), \n",
    "    ('ipad', 573823, 26964), \n",
    "    ('tv', 405252, 787604), \n",
    "    ('máquina de café', 718654, 867660), \n",
    "    ('kindle', 531580, 78830), \n",
    "    ('geladeira', 973139, 710331), \n",
    "    ('adega', 892292, 646016), \n",
    "    ('notebook dell', 422760, 694913), \n",
    "    ('notebook hp', 154753, 539704), \n",
    "    ('notebook asus', 887061, 324831), \n",
    "    ('microsoft surface', 438508, 667179), \n",
    "    ('webcam', 237467, 295633), \n",
    "    ('caixa de som', 489705, 725316), \n",
    "    ('microfone', 328311, 644622), \n",
    "    ('câmera canon', 591120, 994303)]\n",
    "\n",
    "for produto,ano19,ano20 in vendas_produtos:\n",
    "    if ano20 > ano19:\n",
    "        print('{} \\n -total sales 2020: {} \\n -total sales 2019: {} \\n -growth: {:.2%}.'\n",
    "              .format(produto,ano20,ano19,ano20/ano19))"
   ]
  },
  {
   "cell_type": "code",
   "execution_count": 33,
   "id": "885226e7",
   "metadata": {},
   "outputs": [
    {
     "name": "stdout",
     "output_type": "stream",
     "text": [
      "{'Ten': 10, 'Twenty': 20, 'Thirty': 30}\n",
      "key: Twenty is present\n",
      "20 present in a dict\n",
      "{'Ten': 10, 'Thirty': 30}\n",
      "{'Ten': 11, 'Thirty': 30}\n"
     ]
    }
   ],
   "source": [
    "#DICS\n",
    "keys = ['Ten', 'Twenty', 'Thirty']\n",
    "values = [10, 20, 30]\n",
    "\n",
    "dicti = dict(zip(keys, values))\n",
    "print(dicti)\n",
    "\n",
    "if 'Twenty' in dicti.keys():\n",
    "    print('key: {} is present'.format('Twenty'))\n",
    "\n",
    "if 20 in dicti.values():\n",
    "    print('{} present in a dict'.format(20))\n",
    "    \n",
    "dicti.pop('Twenty')\n",
    "print(dicti)\n",
    "\n",
    "dicti['Ten'] = 11 \n",
    "print(dicti)"
   ]
  },
  {
   "cell_type": "code",
   "execution_count": 34,
   "id": "a7800066",
   "metadata": {},
   "outputs": [
    {
     "name": "stdout",
     "output_type": "stream",
     "text": [
      "insert product name: celular\n",
      "celular\n"
     ]
    }
   ],
   "source": [
    "#FUNCTIONS\n",
    "def register_prod():\n",
    "    product = input('insert product name: ')\n",
    "    product = product.casefold()\n",
    "    product = product.strip()\n",
    "    return product\n",
    "\n",
    "product = register_prod() #FUNCTION 'STORED' AS A VARIABLE\n",
    "print(product)"
   ]
  },
  {
   "cell_type": "code",
   "execution_count": 35,
   "id": "06bed3f1",
   "metadata": {},
   "outputs": [
    {
     "name": "stdout",
     "output_type": "stream",
     "text": [
      "BEB0941 is an alcoholic drink.\n",
      "BSA2345 is non alcoholic.\n",
      "BEB0809 is an alcoholic drink.\n",
      "BSA7568 is non alcoholic.\n"
     ]
    }
   ],
   "source": [
    "#TWO OR MORE ARGUMENTS IN A FUNCTION\n",
    "def category(beverage,cat):\n",
    "    beverage = beverage.upper()\n",
    "    if cat in beverage:\n",
    "        return True\n",
    "    else:\n",
    "        False\n",
    "\n",
    "products = ['BEB0941','BSA2345','TFA3456','BEB0809','BSA7568','CAR1234']\n",
    "\n",
    "for product in products:\n",
    "    if category(product, cat = 'BEB'):\n",
    "        print('{} is an alcoholic drink.'.format(product))\n",
    "    elif category(product, 'BSA'):\n",
    "        print('{} is non alcoholic.'.format(product))"
   ]
  },
  {
   "cell_type": "code",
   "execution_count": 8,
   "id": "68d7d638",
   "metadata": {},
   "outputs": [
    {
     "name": "stdout",
     "output_type": "stream",
     "text": [
      "We had 7.65% of stkout.\n"
     ]
    }
   ],
   "source": [
    "#UNPACKING A DIC\n",
    "sales = {'VE0001': (9868,'Concluído',''),'VE0002': (9642,'Concluído',''),'VE0003': (6007,'Concluído',''),'VE0004': (15562,'Concluído',''),'VE0005': (18752,'Cancelado','Estoque em Falta'),'VE0006': (16358,'Cancelado','Estoque em Falta'),'VE0007': (17045,'Concluído',''),'VE0008': (12230,'Concluído',''),'VE0009': (6747,'Concluído',''),'VE0010': (15114,'Concluído',''),'VE0011': (12497,'Concluído',''),'VE0012': (6001,'Concluído',''),'VE0013': (16227,'Cancelado','Cancelada pelo Cliente'),'VE0014': (16150,'Concluído',''),'VE0015': (17705,'Concluído',''),'VE0016': (9978,'Concluído',''),'VE0017': (4266,'Concluído',''),'VE0018': (11531,'Concluído',''),'VE0019': (10352,'Cancelado','Cancelada pelo Cliente'),'VE0020': (16544,'Concluído',''),'VE0021': (15488,'Concluído',''),'VE0022': (15828,'Concluído',''),'VE0023': (1218,'Concluído',''),'VE0024': (11560,'Concluído',''),'VE0025': (14220,'Concluído',''),'VE0026': (17839,'Concluído',''),'VE0027': (4050,'Concluído',''),'VE0028': (7594,'Cancelado','Estoque em Falta'),'VE0029': (19586,'Concluído',''),'VE0030': (8453,'Concluído',''),'VE0031': (3589,'Concluído',''),'VE0032': (13472,'Cancelado','Cancelada pelo Cliente'),'VE0033': (16994,'Concluído',''),'VE0034': (2139,'Concluído',''),'VE0035': (10173,'Concluído',''),'VE0036': (17784,'Cancelado','Estoque em Falta'),'VE0037': (12214,'Concluído',''),'VE0038': (5878,'Concluído',''),'VE0039': (2622,'Concluído',''),'VE0040': (9765,'Concluído',''),'VE0041': (8872,'Concluído',''),'VE0042': (16543,'Concluído',''),'VE0043': (8994,'Concluído',''),'VE0044': (4332,'Concluído',''),'VE0045': (19679,'Concluído',''),'VE0046': (14968,'Concluído',''),'VE0047': (6352,'Concluído',''),'VE0048': (11461,'Concluído',''),'VE0049': (5285,'Concluído',''),'VE0050': (11639,'Concluído',''),'VE0051': (6023,'Concluído',''),'VE0052': (4943,'Concluído',''),'VE0053': (5654,'Concluído',''),'VE0054': (11734,'Concluído',''),'VE0055': (2742,'Concluído',''),'VE0056': (5380,'Cancelado','Estoque em Falta'),'VE0057': (5578,'Concluído',''),'VE0058': (1897,'Concluído',''),'VE0059': (7857,'Concluído',''),'VE0060': (4472,'Concluído',''),'VE0061': (19874,'Concluído',''),'VE0062': (13323,'Cancelado','Cancelada pelo Cliente'),'VE0063': (5821,'Concluído',''),'VE0064': (4410,'Concluído',''),'VE0065': (16676,'Concluído',''),'VE0066': (10577,'Concluído',''),'VE0067': (10627,'Concluído',''),'VE0068': (1987,'Concluído',''),'VE0069': (13197,'Concluído',''),'VE0070': (15063,'Concluído',''),'VE0071': (14363,'Concluído',''),'VE0072': (10452,'Concluído',''),'VE0073': (15376,'Concluído',''),'VE0074': (4661,'Concluído',''),'VE0075': (13287,'Concluído',''),'VE0076': (8278,'Concluído',''),'VE0077': (7134,'Concluído',''),'VE0078': (16568,'Concluído',''),'VE0079': (17732,'Concluído',''),'VE0080': (5127,'Concluído',''),'VE0081': (4582,'Concluído',''),'VE0082': (14804,'Cancelado','Cancelada pelo Cliente'),'VE0083': (12362,'Concluído',''),'VE0084': (1148,'Concluído',''),'VE0085': (14018,'Concluído',''),'VE0086': (15891,'Concluído',''),'VE0087': (4517,'Concluído',''),'VE0088': (1770,'Concluído',''),'VE0089': (14926,'Concluído',''),'VE0090': (13627,'Concluído',''),'VE0091': (3047,'Concluído',''),'VE0092': (13924,'Concluído',''),'VE0093': (7158,'Concluído',''),'VE0094': (5942,'Concluído',''),'VE0095': (13480,'Concluído',''),'VE0096': (17686,'Concluído',''),'VE0097': (5722,'Cancelado','Cancelada pelo Cliente'),'VE0098': (16963,'Concluído',''),'VE0099': (14225,'Concluído',''),'VE0100': (12553,'Concluído',''),'VE0101': (18047,'Concluído',''),'VE0102': (11420,'Concluído',''),'VE0103': (6191,'Concluído',''),'VE0104': (8388,'Concluído',''),'VE0105': (17210,'Concluído',''),'VE0106': (12217,'Concluído',''),'VE0107': (8984,'Concluído',''),'VE0108': (7638,'Cancelado','Cancelada pelo Cliente'),'VE0109': (8462,'Concluído',''),'VE0110': (14081,'Concluído',''),'VE0111': (10842,'Concluído',''),'VE0112': (13261,'Concluído',''),'VE0113': (16953,'Cancelado','Estoque em Falta'),'VE0114': (5343,'Concluído',''),'VE0115': (4734,'Concluído',''),'VE0116': (13606,'Cancelado','Cancelada pelo Cliente'),'VE0117': (17106,'Cancelado','Estoque em Falta'),'VE0118': (17704,'Concluído',''),'VE0119': (12242,'Concluído',''),'VE0120': (7476,'Cancelado','Estoque em Falta'),'VE0121': (18408,'Concluído',''),'VE0122': (13612,'Concluído',''),'VE0123': (18198,'Concluído',''),'VE0124': (4844,'Concluído',''),'VE0125': (12750,'Concluído',''),'VE0126': (11969,'Concluído',''),'VE0127': (15337,'Concluído',''),'VE0128': (1100,'Concluído',''),'VE0129': (18893,'Concluído',''),'VE0130': (15850,'Concluído',''),'VE0131': (2097,'Concluído',''),'VE0132': (11636,'Cancelado','Estoque em Falta'),'VE0133': (12603,'Concluído',''),'VE0134': (10769,'Concluído',''),'VE0135': (11016,'Concluído',''),'VE0136': (14556,'Concluído',''),'VE0137': (1389,'Concluído',''),'VE0138': (11681,'Concluído',''),'VE0139': (16759,'Cancelado','Cancelada pelo Cliente'),'VE0140': (16317,'Concluído',''),'VE0141': (5965,'Concluído',''),'VE0142': (4493,'Concluído',''),'VE0143': (5398,'Concluído',''),'VE0144': (9875,'Concluído',''),'VE0145': (17492,'Concluído',''),'VE0146': (7473,'Concluído',''),'VE0147': (10284,'Concluído',''),'VE0148': (10778,'Concluído',''),'VE0149': (2227,'Concluído',''),'VE0150': (14157,'Concluído',''),'VE0151': (9516,'Concluído',''),'VE0152': (9824,'Concluído',''),'VE0153': (5118,'Concluído',''),'VE0154': (5123,'Concluído',''),'VE0155': (2697,'Concluído',''),'VE0156': (19024,'Concluído',''),'VE0157': (5128,'Concluído',''),'VE0158': (8293,'Cancelado','Estoque em Falta'),'VE0159': (18782,'Concluído',''),'VE0160': (12182,'Concluído',''),'VE0161': (9063,'Concluído',''),'VE0162': (17608,'Concluído',''),'VE0163': (8456,'Cancelado','Cancelada pelo Cliente'),'VE0164': (1291,'Concluído',''),'VE0165': (14018,'Concluído',''),'VE0166': (2791,'Concluído',''),'VE0167': (17953,'Concluído',''),'VE0168': (14627,'Concluído',''),'VE0169': (3296,'Concluído',''),'VE0170': (1863,'Concluído',''),'VE0171': (4719,'Concluído',''),'VE0172': (15060,'Concluído',''),'VE0173': (2596,'Cancelado','Cancelada pelo Cliente'),'VE0174': (4919,'Concluído',''),'VE0175': (13770,'Concluído',''),'VE0176': (15041,'Cancelado','Estoque em Falta'),'VE0177': (6702,'Concluído',''),'VE0178': (9989,'Concluído',''),'VE0179': (5135,'Concluído',''),'VE0180': (13337,'Concluído',''),'VE0181': (13457,'Concluído',''),'VE0182': (17218,'Concluído',''),'VE0183': (6424,'Concluído',''),'VE0184': (5478,'Concluído',''),'VE0185': (10478,'Cancelado','Cancelada pelo Cliente'),'VE0186': (3240,'Concluído',''),'VE0187': (16503,'Concluído',''),'VE0188': (12762,'Concluído',''),'VE0189': (6985,'Cancelado','Cancelada pelo Cliente'),'VE0190': (13013,'Concluído',''),'VE0191': (5706,'Concluído',''),'VE0192': (6521,'Cancelado','Estoque em Falta'),'VE0193': (12904,'Concluído',''),'VE0194': (14691,'Concluído',''),'VE0195': (19338,'Concluído',''),'VE0196': (4556,'Cancelado','Cancelada pelo Cliente'),'VE0197': (9653,'Concluído',''),'VE0198': (4617,'Concluído',''),'VE0199': (4717,'Concluído',''),'VE0200': (8366,'Concluído','')}\n",
    "\n",
    "def stkout(sales):\n",
    "    '''UNPACKING A DIC'''\n",
    "    stkout = 0\n",
    "    sales_concluded = 0\n",
    "    sales_canceled = 0\n",
    "    \n",
    "    for item in sales:\n",
    "        price,status,reason = sales[item] #UNPACKING\n",
    "        \n",
    "        if status == 'Cancelado' and reason == 'Estoque em Falta':\n",
    "            stkout += price\n",
    "            \n",
    "        elif  status == 'Cancelado' and reason == 'Cancelada pelo Cliente':\n",
    "            sales_canceled += price\n",
    "            \n",
    "        else:\n",
    "            sales_concluded += price\n",
    "            \n",
    "    return stkout / (stkout+sales_concluded)\n",
    "\n",
    "print('We had {:.2%} of stkout.'.format(stkout(sales)))"
   ]
  },
  {
   "cell_type": "code",
   "execution_count": 7,
   "id": "242a8d46",
   "metadata": {},
   "outputs": [
    {
     "name": "stdout",
     "output_type": "stream",
     "text": [
      "462.286.561-65\n",
      "297.681.579-21\n",
      "810.442.219-10\n",
      "908.507.760-43\n",
      "204.169.467-27\n",
      "786.547.940-70\n",
      "540.685.100-32\n",
      "379.729.796-80\n",
      "980.173.363-94\n",
      "833.285.374-56\n",
      "588.404.964-15\n",
      "670.346.230-99\n",
      "771.352.915-13\n",
      "430.314.324-46\n",
      "406.133.151-17\n",
      "310.985.894-64\n",
      "964.317.132-30\n",
      "781.995.738-18\n",
      "921.558.128-63\n",
      "941.386.982-65\n",
      "684.995.531-65\n",
      "285.864.892-85\n",
      "143.188.958-61\n",
      "165.554.107-13\n",
      "718.225.984-87\n",
      "397.994.286-79\n",
      "967.160.575-69\n",
      "171.104.286-74\n",
      "152.817.649-24\n",
      "645.308.846-62\n",
      "201.476.809-95\n",
      "486.290.887-24\n",
      "432.376.642-62\n",
      "207.274.437-91\n",
      "346.871.172-72\n",
      "817.170.984-26\n",
      "591.397.550-29\n",
      "615.629.238-82\n",
      "240.427.458-70\n",
      "700.720.266-23\n",
      "261.974.594-90\n",
      "680.569.318-52\n",
      "556.156.341-36\n",
      "852.796.660-25\n",
      "536.714.951-95\n",
      "520.645.562-80\n",
      "913.525.896-32\n",
      "760.248.897-67\n",
      "805.469.913-50\n",
      "847.150.802-96\n",
      "539.300.108-41\n",
      "549.151.467-76\n",
      "738.451.908-29\n",
      "987.288.834-69\n",
      "169.415.202-43\n",
      "757.885.355-97\n",
      "523.895.611-54\n",
      "535.354.954-30\n",
      "209.759.133-88\n",
      "321.123.241-10\n",
      "407.342.963-78\n",
      "770.920.161-42\n",
      "815.943.237-83\n",
      "379.995.400-37\n",
      "495.461.913-57\n",
      "408.987.269-72\n",
      "761.137.848-34\n",
      "216.401.188-57\n",
      "956.318.620-43\n",
      "986.516.478-33\n",
      "327.988.845-70\n",
      "887.826.412-21\n",
      "122.975.174-32\n",
      "208.788.890-61\n"
     ]
    }
   ],
   "source": [
    "#UNPACKING A TUPLE\n",
    "customers = [('462.286.561-65',14405,24),('251.569.170-81',16027,1),('297.681.579-21',8177,28),('790.223.154-40',9585,10),('810.442.219-10',18826,29),('419.210.299-79',11421,15),('908.507.760-43',12445,24),('911.238.364-17',1345,4),('131.115.339-28',11625,8),('204.169.467-27',5364,22),('470.806.376-11',932,29),('938.608.980-69',13809,19),('554.684.165-26',11227,2),('119.225.846-34',4475,9),('358.890.858-95',13932,20),('786.547.940-70',17048,25),('468.487.741-94',2902,8),('540.685.100-32',5806,21),('379.729.796-80',7622,24),('980.173.363-94',13167,24),('833.285.374-56',19581,24),('103.669.436-50',17126,4),('386.836.124-46',18825,11),('588.404.964-15',1545,30),('600.556.177-18',1921,7),('670.346.230-99',18079,28),('771.352.915-13',16581,23),('430.314.324-46',13942,24),('629.507.759-51',17951,11),('348.683.225-73',12424,10),('406.133.151-17',5888,30),('310.985.894-64',17316,30),('964.317.132-30',18818,30),('845.331.524-14',14284,13),('781.995.738-18',19369,29),('921.558.128-63',3206,27),('941.386.982-65',10228,26),('551.135.290-10',18822,18),('537.124.578-35',12670,6),('119.383.169-76',790,20),('938.473.410-98',8851,5),('279.775.182-54',5212,20),('210.872.954-53',13569,8),('684.995.531-65',8649,21),('653.886.282-57',504,28),('973.580.738-53',2533,9),('285.864.892-85',8200,21),('777.154.423-98',10336,8),('769.786.401-34',3233,12),('521.566.565-97',11882,14),('491.799.681-92',653,8),('344.357.819-36',8856,18),('265.362.581-99',8962,8),('331.410.527-56',18516,18),('143.188.958-61',7234,29),('751.630.472-61',13552,6),('714.707.807-80',2898,7),('585.584.932-83',239,25),('165.554.107-13',9572,23),('718.225.984-87',10534,25),('611.715.653-32',3210,11),('397.994.286-79',13651,24),('967.160.575-69',8997,25),('369.750.998-94',13952,2),('767.400.554-79',18320,11),('171.104.286-74',5821,21),('152.817.649-24',3358,30),('645.308.846-62',15176,25),('273.884.570-92',4436,13),('888.818.341-45',15730,3),('577.836.712-40',14670,16),('513.529.919-95',4002,1),('201.476.809-95',17442,21),('657.816.571-87',1582,2),('810.494.975-87',2157,9),('531.749.410-17',12355,18),('486.290.887-24',18576,26),('432.376.642-62',8027,23),('207.274.437-91',5125,29),('634.244.673-72',11387,15),('346.871.172-72',8105,23),('166.330.605-50',7865,11),('829.181.731-94',2425,8),('197.305.464-63',9681,8),('887.877.706-59',15681,10),('847.598.885-51',323,23),('817.170.984-26',5169,27),('591.397.550-29',13362,25),('872.733.198-95',5756,18),('615.629.238-82',11678,23),('194.782.846-77',11044,17),('146.392.158-88',6848,4),('240.427.458-70',3906,25),('583.662.427-52',3306,5),('841.627.523-64',4778,4),('985.337.216-77',15308,4),('912.410.722-57',11683,6),('700.720.266-23',12638,21),('605.405.529-53',3831,3),('383.256.402-25',2599,10),('248.103.486-68',9121,1),('261.974.594-90',2139,26),('297.126.704-91',18529,16),('680.569.318-52',10176,23),('296.334.647-38',225,13),('200.761.898-70',16244,20),('258.232.687-17',19462,18),('597.295.672-38',18840,11),('894.479.102-52',11375,12),('556.156.341-36',16269,23),('987.874.553-86',11253,17),('248.927.998-94',6510,1),('852.796.660-25',2662,23),('741.370.204-36',9303,16),('536.714.951-95',2877,23),('320.395.830-44',14554,5),('520.645.562-80',17547,24),('553.700.674-28',3147,14),('913.525.896-32',17651,28),('750.456.495-86',11524,9),('246.171.748-38',15184,4),('760.248.897-67',4953,25),('920.890.990-46',17172,20),('805.469.913-50',17500,21),('878.594.225-48',6255,3),('356.715.924-36',3454,13),('847.150.802-96',8602,22),('625.846.640-53',10888,19),('539.300.108-41',11225,21),('549.151.467-76',1286,21),('738.451.908-29',18905,22),('987.288.834-69',17533,25),('898.532.296-94',9719,11),('620.531.607-13',13584,10),('169.415.202-43',1871,29),('757.885.355-97',18150,28),('252.581.376-21',2497,3),('177.937.460-78',7178,8),('523.895.611-54',9878,26),('883.680.201-23',16761,3),('936.678.268-71',11017,9),('871.912.703-73',1754,9),('957.749.478-56',6914,9),('725.636.354-80',8605,13),('898.316.244-33',14363,12),('894.748.325-28',2764,3),('647.106.954-60',1482,6),('628.716.937-98',14107,8),('332.677.483-83',19146,15),('186.870.928-82',17050,12),('216.248.879-71',4384,16),('287.929.269-44',4894,19),('278.335.932-42',17220,13),('824.107.287-13',11797,7),('535.354.954-30',9195,22),('311.762.241-12',13871,2),('209.759.133-88',13580,21),('505.728.766-53',16950,13),('879.471.988-23',17427,14),('772.329.947-39',3462,8),('321.123.241-10',2592,22),('407.342.963-78',11435,21),('786.935.637-47',14240,9),('461.791.351-55',142,2),('770.920.161-42',1247,24),('639.870.185-59',6430,10),('815.943.237-83',19550,22),('141.774.255-61',17866,13),('379.995.400-37',9503,29),('261.103.178-64',19167,13),('495.461.913-57',12265,29),('498.848.750-79',14549,16),('578.770.731-84',1462,5),('408.987.269-72',5647,28),('191.970.336-40',6313,15),('761.137.848-34',10654,23),('810.512.154-21',14928,1),('256.371.788-38',7085,2),('216.401.188-57',1531,23),('956.318.620-43',6327,22),('986.516.478-33',3866,25),('105.665.555-60',7118,4),('259.228.430-72',1601,8),('133.627.971-58',10142,14),('327.988.845-70',14985,23),('363.167.322-63',17236,7),('189.986.406-38',16888,18),('661.194.373-45',7824,1),('805.728.877-53',514,10),('887.826.412-21',15977,24),('122.975.174-32',9409,25),('456.550.370-55',19922,18),('388.243.133-66',19785,17),('208.788.890-61',11893,22),('881.332.662-49',6344,16),('912.349.944-52',6858,15),('534.904.583-32',9559,11),('825.175.334-25',19805,15),('339.191.298-46',13325,8),('569.993.915-78',4339,15)]\n",
    "\n",
    "clients_list = []\n",
    "\n",
    "def defaulter_clients(clients_list):\n",
    "    '''UNPACKING A TUPLE'''\n",
    "    for cpf,amount,delay_pymt in customers:\n",
    "        if amount > 1000 and delay_pymt > 20:\n",
    "            clients_list.append(cpf)\n",
    "    return clients_list\n",
    "\n",
    "print('\\n'.join(defaulter_clients(clients_list)))"
   ]
  },
  {
   "cell_type": "code",
   "execution_count": 5,
   "id": "2cb84ecb",
   "metadata": {},
   "outputs": [
    {
     "name": "stdout",
     "output_type": "stream",
     "text": [
      "the size of de list of PRICES OF PROPERTIES is: 100\n",
      "the size of de list of SIZES OF PROPERTIES is: 100\n",
      "------\n",
      "the size of the list of PRICES to AB TEST is: 10\n",
      "the size of the list of PRICES to PROOF OF CONCEPT is: 90 \n",
      "the size of the list of SIZES to AB TEST is: 10 \n",
      "the size of the list to SIZES to PROOF OF CONCEPT is: 90 \n"
     ]
    }
   ],
   "source": [
    "#DATA SCIENCE: \n",
    "\n",
    "prices_properties=[2.17,1.54,1.45,1.94,2.37,2.3,1.79,1.8,2.25,1.37,2.4,1.72,2,1.69,1.63,2.01,2.25,1.61,1.02,1.19,1.86,2.15,2.03,1.61,1.52,1.56,1.69,1.47,1.09,2.47,1.62,2.15,1.81,2.49,2.08,1.02,1.68,1.53,1.2,1.29,1.88,1.92,2.14,1.95,2.48,2.44,1.41,1.98,1.89,1.69,1.95,1.42,1.57,2.32,1.23,1.43,1.35,1.49,2.39,2.37,1.3,2.25,1.5,1.35,2.06,1.05,1.7,2.29,2.44,2.09,1.81,2.04,2.45,1.42,2.09,2.19,2.09,1,2.23,1.39,2,1.29,1.55,1.67,2.06,1.89,2.07,2.39,1.93,1.51,1.73,1.66,1.18,1.13,1.69,2.48,1.26,1.75,1.51,1.73]\n",
    "sizes_properties=[207,148,130,203,257,228,160,194,232,147,222,165,184,175,147,217,214,171,86,111,180,211,210,168,156,154,179,163,99,246,162,205,195,263,198,121,149,140,122,119,197,210,218,202,258,256,135,203,173,152,197,145,154,252,141,141,151,133,232,229,134,215,155,138,186,120,152,213,256,219,200,210,238,140,224,233,222,120,233,151,185,111,149,186,194,194,222,223,185,157,154,164,129,128,169,240,136,191,157,154]\n",
    "\n",
    "print('the size of de list of PRICES OF PROPERTIES is: {}'.format(len(prices_properties)))\n",
    "print('the size of de list of SIZES OF PROPERTIES is: {}'.format(len(sizes_properties)))\n",
    "\n",
    "#STANDARD VALUE INSIDE FUNC FACTOR = 0.1:\n",
    "def split_list(prices, sizes, factor=0.1):\n",
    "    '''SPLITING IN TWO, ONE LIST TO A\\B TEST & OTHER TO PROOF OF CONCEPT\n",
    "    RETURN WITH VARIUS OBJECTS'''\n",
    "    if len(prices) == len(sizes):\n",
    "        i = int((1 - factor) * len(prices))\n",
    "        prices_test = prices[i:]\n",
    "        prices_proof = prices[:i]\n",
    "        sizes_test = sizes[i:]\n",
    "        sizes_proof = sizes[:i]\n",
    "        return prices_test, prices_proof, sizes_test, sizes_proof\n",
    "    else:\n",
    "        print('!!!Lists with differents sizes!!!')\n",
    "        return\n",
    "\n",
    "print('------')\n",
    "#UNPAKING TO USE AS LISTS:\n",
    "prices_test, prices_proof, sizes_test, sizes_proof = split_list(prices_properties, sizes_properties)\n",
    "print('the size of the list of PRICES to AB TEST is: {}'.format(len(prices_test)))\n",
    "print('the size of the list of PRICES to PROOF OF CONCEPT is: {} '.format(len(prices_proof)))\n",
    "print('the size of the list of SIZES to AB TEST is: {} '.format(len(sizes_test)))\n",
    "print('the size of the list to SIZES to PROOF OF CONCEPT is: {} '.format(len(sizes_proof)))"
   ]
  },
  {
   "cell_type": "code",
   "execution_count": 16,
   "id": "2175ecac",
   "metadata": {},
   "outputs": [
    {
     "name": "stdout",
     "output_type": "stream",
     "text": [
      "200\n",
      "{'dicount': 0.1, 'warranty': 100, 'tax': 0.19}\n",
      "1100.19\n"
     ]
    }
   ],
   "source": [
    "#MULTIPLE ARGUMENTS TO A FUNCTION (ARGS & KWARGS):\n",
    "def calculate(*args):\n",
    "    '''Put as many arguments as you want to calculate the following'''\n",
    "    multiply = 1\n",
    "    for arg in args:\n",
    "        multiply *= arg\n",
    "    return multiply\n",
    "print(calculate(10,20))\n",
    "    \n",
    "def price(price,**kwargs):\n",
    "    '''Fisrt fixed argument is the original price, \n",
    "    second arg: put as many arguments as you want \n",
    "    to calculate the final price after discount, warranty and taxes.'''\n",
    "    print(kwargs)\n",
    "    if 'discount' in kwargs:\n",
    "        price *= (1 - kwargs['discount'])\n",
    "    if 'warranty' in kwargs:\n",
    "        price += kwargs['warranty']\n",
    "    if 'tax' in kwargs:\n",
    "        price += kwargs['tax']\n",
    "    return price\n",
    "\n",
    "print(price(1000,dicount=0.1,warranty=100,tax=0.19))"
   ]
  },
  {
   "cell_type": "code",
   "execution_count": 20,
   "id": "39d19b2d",
   "metadata": {},
   "outputs": [
    {
     "data": {
      "text/plain": [
       "True"
      ]
     },
     "execution_count": 20,
     "metadata": {},
     "output_type": "execute_result"
    }
   ],
   "source": [
    "#MODULES\n",
    "import webbrowser as wb\n",
    "\n",
    "wb.open('http://app.derosemeditation.com')"
   ]
  },
  {
   "cell_type": "code",
   "execution_count": 14,
   "id": "db16f2d5",
   "metadata": {},
   "outputs": [],
   "source": [
    "#NUMPY\n",
    "import matplotlib.pyplot as plt\n",
    "import numpy as np"
   ]
  },
  {
   "cell_type": "code",
   "execution_count": 24,
   "id": "df785233",
   "metadata": {},
   "outputs": [
    {
     "name": "stdout",
     "output_type": "stream",
     "text": [
      "[1530 1388 2550 1127 2572 2466 2870 2892 1594 2709 2162 2791 1583 2312\n",
      " 2880 1784 2060 1938 1473 2813 2497 1871 1054 2853 1425 1787 2329 2911\n",
      " 1671 2626 2410 1763 2216 1868 2183 2194 2557 1777 1664 2425 1855 1864\n",
      " 1122 1799 2531 1331 1556 1612 1714 2103]\n",
      "[ 1  2  3  4  5  6  7  8  9 10 11 12 13 14 15 16 17 18 19 20 21 22 23 24\n",
      " 25 26 27 28 29 30 31 32 33 34 35 36 37 38 39 40 41 42 43 44 45 46 47 48\n",
      " 49 50]\n"
     ]
    }
   ],
   "source": [
    "#GRAPHICS\n",
    "sales = np.random.randint(1000,3000,50)\n",
    "months = np.arange(1,51)\n",
    "print(sales)\n",
    "print(months)"
   ]
  },
  {
   "cell_type": "code",
   "execution_count": 26,
   "id": "ff5b09f4",
   "metadata": {},
   "outputs": [
    {
     "data": {
      "image/png": "[encoded data removed]",
      "text/plain": [
       "<Figure size 432x288 with 1 Axes>"
      ]
     },
     "metadata": {
      "needs_background": "light"
     },
     "output_type": "display_data"
    }
   ],
   "source": [
    "plt.bar(months, sales, color='blue')\n",
    "plt.axis([0,50, 800,max(sales)+200])\n",
    "plt.xlabel('months')\n",
    "plt.ylabel('sales')\n",
    "plt.show()"
   ]
  },
  {
   "cell_type": "code",
   "execution_count": 30,
   "id": "004b4fb4",
   "metadata": {},
   "outputs": [
    {
     "data": {
      "image/png": "[encoded data removed]",
      "text/plain": [
       "<Figure size 1080x216 with 3 Axes>"
      ]
     },
     "metadata": {
      "needs_background": "light"
     },
     "output_type": "display_data"
    }
   ],
   "source": [
    "plt.figure(1, figsize=(15,3))\n",
    "\n",
    "plt.subplot(1,3,1)\n",
    "plt.plot(months, sales, color='blue')\n",
    "\n",
    "plt.subplot(1,3,2)\n",
    "plt.bar(months, sales, color='red')\n",
    "\n",
    "plt.subplot(1,3,3)\n",
    "plt.scatter(months, sales, color='green')\n",
    "\n",
    "plt.show()"
   ]
  },
  {
   "cell_type": "code",
   "execution_count": null,
   "id": "5f9a76db",
   "metadata": {},
   "outputs": [],
   "source": []
  }
 ],
 "metadata": {
  "kernelspec": {
   "display_name": "Python 3 (ipykernel)",
   "language": "python",
   "name": "python3"
  },
  "language_info": {
   "codemirror_mode": {
    "name": "ipython",
    "version": 3
   },
   "file_extension": ".py",
   "mimetype": "text/x-python",
   "name": "python",
   "nbconvert_exporter": "python",
   "pygments_lexer": "ipython3",
   "version": "3.9.12"
  }
 },
 "nbformat": 4,
 "nbformat_minor": 5
}
