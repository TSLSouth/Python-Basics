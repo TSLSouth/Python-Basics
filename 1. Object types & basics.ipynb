{
 "cells": [
  {
   "cell_type": "markdown",
   "id": "c20b4e8a",
   "metadata": {},
   "source": [
    "# 1. Object types & basics\n",
    "<b>Notebook\n",
    "\n",
    "numbers(int and float)</br>\n",
    "strings </br>\n",
    "variables </br>\n",
    "slicing & indexing</br>\n",
    "a few string methods/functions</br>\n",
    "formatting print</br>\n",
    "f methods/functions</br>\n",
    "lists</br>\n",
    "list methods</br>\n",
    "dictionaries</br>\n",
    "dic methods</br>\n",
    "sets</br>\n",
    "_______________"
   ]
  },
  {
   "cell_type": "markdown",
   "id": "f15d6c8f",
   "metadata": {},
   "source": [
    "Fisrt function <b><em>print</b></em>\n",
    "\n",
    "#comment: the parentheses () after a word indicates a <em>function</em>"
   ]
  },
  {
   "cell_type": "code",
   "execution_count": 624,
   "id": "b33b1e45",
   "metadata": {},
   "outputs": [
    {
     "name": "stdout",
     "output_type": "stream",
     "text": [
      "hello\n"
     ]
    }
   ],
   "source": [
    "print('hello')\n",
    "#press 'shift + enter' to run this cell"
   ]
  },
  {
   "cell_type": "markdown",
   "id": "6bfae2e6",
   "metadata": {},
   "source": [
    "If you want to <b>see what type is an object</b> use <em>type function</em>"
   ]
  },
  {
   "cell_type": "code",
   "execution_count": 625,
   "id": "afb720db",
   "metadata": {},
   "outputs": [
    {
     "data": {
      "text/plain": [
       "builtin_function_or_method"
      ]
     },
     "execution_count": 625,
     "metadata": {},
     "output_type": "execute_result"
    }
   ],
   "source": [
    "type(print)"
   ]
  },
  {
   "cell_type": "markdown",
   "id": "781e5532",
   "metadata": {},
   "source": [
    "Pressing <em><b>fn + m</b></em> you can write a text like here\n",
    "\n",
    "<em><b>fn + a</b></em> you can add a cell/line above\n",
    "\n",
    "<em><b>fn + b</b></em> you can add a cell/line below\n",
    "\n",
    "_______"
   ]
  },
  {
   "cell_type": "markdown",
   "id": "50799387",
   "metadata": {},
   "source": [
    "# Numbers\n",
    "\n",
    "<font color='blue'> <b>OBJECT TYPE 1</b> </font>\n",
    "\n",
    "just numbers without '  '\n",
    "\n",
    "simple arithmetics:</p>\n",
    "\n",
    "<b>+</b> sum</p>\n",
    "\n",
    "<b>*</b> mutiply</p>\n",
    "\n",
    "<b>/</b> or <b>%</b> division</p>\n",
    "\n",
    "<b>**</b> to the power of</p>"
   ]
  },
  {
   "cell_type": "code",
   "execution_count": 626,
   "id": "c1a52ee0",
   "metadata": {},
   "outputs": [
    {
     "data": {
      "text/plain": [
       "3"
      ]
     },
     "execution_count": 626,
     "metadata": {},
     "output_type": "execute_result"
    }
   ],
   "source": [
    "2+1"
   ]
  },
  {
   "cell_type": "code",
   "execution_count": 627,
   "id": "c9e4f6cf",
   "metadata": {},
   "outputs": [
    {
     "data": {
      "text/plain": [
       "4"
      ]
     },
     "execution_count": 627,
     "metadata": {},
     "output_type": "execute_result"
    }
   ],
   "source": [
    "2*2"
   ]
  },
  {
   "cell_type": "code",
   "execution_count": 628,
   "id": "ded01955",
   "metadata": {},
   "outputs": [
    {
     "data": {
      "text/plain": [
       "1.5"
      ]
     },
     "execution_count": 628,
     "metadata": {},
     "output_type": "execute_result"
    }
   ],
   "source": [
    "3/2"
   ]
  },
  {
   "cell_type": "code",
   "execution_count": 629,
   "id": "cdb42807",
   "metadata": {},
   "outputs": [
    {
     "data": {
      "text/plain": [
       "1"
      ]
     },
     "execution_count": 629,
     "metadata": {},
     "output_type": "execute_result"
    }
   ],
   "source": [
    "2-1"
   ]
  },
  {
   "cell_type": "code",
   "execution_count": 630,
   "id": "18a5becd",
   "metadata": {},
   "outputs": [
    {
     "data": {
      "text/plain": [
       "0"
      ]
     },
     "execution_count": 630,
     "metadata": {},
     "output_type": "execute_result"
    }
   ],
   "source": [
    "8%4"
   ]
  },
  {
   "cell_type": "code",
   "execution_count": 631,
   "id": "06b95a34",
   "metadata": {},
   "outputs": [
    {
     "data": {
      "text/plain": [
       "2"
      ]
     },
     "execution_count": 631,
     "metadata": {},
     "output_type": "execute_result"
    }
   ],
   "source": [
    "8%3"
   ]
  },
  {
   "cell_type": "code",
   "execution_count": 632,
   "id": "15fb29ff",
   "metadata": {},
   "outputs": [
    {
     "data": {
      "text/plain": [
       "1"
      ]
     },
     "execution_count": 632,
     "metadata": {},
     "output_type": "execute_result"
    }
   ],
   "source": [
    "27%2"
   ]
  },
  {
   "cell_type": "code",
   "execution_count": 633,
   "id": "c757d97f",
   "metadata": {},
   "outputs": [
    {
     "data": {
      "text/plain": [
       "0"
      ]
     },
     "execution_count": 633,
     "metadata": {},
     "output_type": "execute_result"
    }
   ],
   "source": [
    "26%2"
   ]
  },
  {
   "cell_type": "code",
   "execution_count": 634,
   "id": "7854885e",
   "metadata": {},
   "outputs": [
    {
     "data": {
      "text/plain": [
       "27"
      ]
     },
     "execution_count": 634,
     "metadata": {},
     "output_type": "execute_result"
    }
   ],
   "source": [
    "3**3"
   ]
  },
  {
   "cell_type": "markdown",
   "id": "fbe4baf1",
   "metadata": {},
   "source": [
    "__________\n",
    "<b>Change the order of calculations</b> using parentheses"
   ]
  },
  {
   "cell_type": "code",
   "execution_count": 635,
   "id": "793c7604",
   "metadata": {
    "scrolled": true
   },
   "outputs": [
    {
     "data": {
      "text/plain": [
       "38"
      ]
     },
     "execution_count": 635,
     "metadata": {},
     "output_type": "execute_result"
    }
   ],
   "source": [
    "4+10*3+4"
   ]
  },
  {
   "cell_type": "code",
   "execution_count": 636,
   "id": "0303bd6a",
   "metadata": {},
   "outputs": [
    {
     "data": {
      "text/plain": [
       "98"
      ]
     },
     "execution_count": 636,
     "metadata": {},
     "output_type": "execute_result"
    }
   ],
   "source": [
    "(4+10)*(3+4)"
   ]
  },
  {
   "cell_type": "markdown",
   "id": "d56cc954",
   "metadata": {},
   "source": [
    "________\n",
    "<b>Round</b> function"
   ]
  },
  {
   "cell_type": "code",
   "execution_count": 637,
   "id": "a33b94c0",
   "metadata": {
    "scrolled": true
   },
   "outputs": [
    {
     "data": {
      "text/plain": [
       "4.5667"
      ]
     },
     "execution_count": 637,
     "metadata": {},
     "output_type": "execute_result"
    }
   ],
   "source": [
    "round(4.56668057208570287,4)"
   ]
  },
  {
   "cell_type": "code",
   "execution_count": 638,
   "id": "70018209",
   "metadata": {},
   "outputs": [
    {
     "data": {
      "text/plain": [
       "4.57"
      ]
     },
     "execution_count": 638,
     "metadata": {},
     "output_type": "execute_result"
    }
   ],
   "source": [
    "round(4.5666,2)"
   ]
  },
  {
   "cell_type": "code",
   "execution_count": 639,
   "id": "28e6c66f",
   "metadata": {},
   "outputs": [
    {
     "data": {
      "text/plain": [
       "4.6"
      ]
     },
     "execution_count": 639,
     "metadata": {},
     "output_type": "execute_result"
    }
   ],
   "source": [
    "round(4.5666,1)"
   ]
  },
  {
   "cell_type": "markdown",
   "id": "d61fde15",
   "metadata": {},
   "source": [
    "_____________\n",
    "# Variables\n",
    "\n",
    "<font color='blue'> <b>OBJECT TYPE 2</b> </font>\n",
    "\n",
    "means: assing a name/identification to a object (number, float number, name/letters/word, function, list, tuple, dictionary, etc). Anything can receive a variable name."
   ]
  },
  {
   "cell_type": "code",
   "execution_count": 640,
   "id": "20681de2",
   "metadata": {},
   "outputs": [],
   "source": [
    "a=5"
   ]
  },
  {
   "cell_type": "code",
   "execution_count": 641,
   "id": "20482852",
   "metadata": {},
   "outputs": [
    {
     "data": {
      "text/plain": [
       "5"
      ]
     },
     "execution_count": 641,
     "metadata": {},
     "output_type": "execute_result"
    }
   ],
   "source": [
    "a"
   ]
  },
  {
   "cell_type": "code",
   "execution_count": 642,
   "id": "4051f71a",
   "metadata": {},
   "outputs": [],
   "source": [
    "a=10"
   ]
  },
  {
   "cell_type": "code",
   "execution_count": 643,
   "id": "9b96b3b1",
   "metadata": {},
   "outputs": [
    {
     "data": {
      "text/plain": [
       "10"
      ]
     },
     "execution_count": 643,
     "metadata": {},
     "output_type": "execute_result"
    }
   ],
   "source": [
    "a"
   ]
  },
  {
   "cell_type": "code",
   "execution_count": 644,
   "id": "d7880e3f",
   "metadata": {},
   "outputs": [
    {
     "data": {
      "text/plain": [
       "20"
      ]
     },
     "execution_count": 644,
     "metadata": {},
     "output_type": "execute_result"
    }
   ],
   "source": [
    "a+a"
   ]
  },
  {
   "cell_type": "code",
   "execution_count": 645,
   "id": "17955e05",
   "metadata": {},
   "outputs": [],
   "source": [
    "a=a+a"
   ]
  },
  {
   "cell_type": "code",
   "execution_count": 646,
   "id": "a80b6661",
   "metadata": {},
   "outputs": [
    {
     "data": {
      "text/plain": [
       "20"
      ]
     },
     "execution_count": 646,
     "metadata": {},
     "output_type": "execute_result"
    }
   ],
   "source": [
    "a"
   ]
  },
  {
   "cell_type": "code",
   "execution_count": 647,
   "id": "7437800d",
   "metadata": {},
   "outputs": [],
   "source": [
    "a=a+a"
   ]
  },
  {
   "cell_type": "code",
   "execution_count": 648,
   "id": "49b3de4b",
   "metadata": {},
   "outputs": [
    {
     "data": {
      "text/plain": [
       "40"
      ]
     },
     "execution_count": 648,
     "metadata": {},
     "output_type": "execute_result"
    }
   ],
   "source": [
    "a"
   ]
  },
  {
   "cell_type": "code",
   "execution_count": 649,
   "id": "71b00010",
   "metadata": {},
   "outputs": [
    {
     "data": {
      "text/plain": [
       "int"
      ]
     },
     "execution_count": 649,
     "metadata": {},
     "output_type": "execute_result"
    }
   ],
   "source": [
    "type(a)\n",
    "#int = integer, exact number "
   ]
  },
  {
   "cell_type": "code",
   "execution_count": 650,
   "id": "0656cdc3",
   "metadata": {},
   "outputs": [],
   "source": [
    "a=3.1"
   ]
  },
  {
   "cell_type": "code",
   "execution_count": 651,
   "id": "294642c3",
   "metadata": {
    "scrolled": true
   },
   "outputs": [
    {
     "data": {
      "text/plain": [
       "3.1"
      ]
     },
     "execution_count": 651,
     "metadata": {},
     "output_type": "execute_result"
    }
   ],
   "source": [
    "a"
   ]
  },
  {
   "cell_type": "code",
   "execution_count": 652,
   "id": "1009c10f",
   "metadata": {},
   "outputs": [
    {
     "data": {
      "text/plain": [
       "float"
      ]
     },
     "execution_count": 652,
     "metadata": {},
     "output_type": "execute_result"
    }
   ],
   "source": [
    "type(a)\n",
    "#float number, decimal number"
   ]
  },
  {
   "cell_type": "markdown",
   "id": "567afa35",
   "metadata": {},
   "source": [
    "<b>Example</b> giving a variable name to numbers(int) and using their variable names to calculate: "
   ]
  },
  {
   "cell_type": "code",
   "execution_count": 653,
   "id": "cd9563b3",
   "metadata": {},
   "outputs": [],
   "source": [
    "my_income=1000\n",
    "tax_rate=0.27\n",
    "my_taxes=my_income*tax_rate"
   ]
  },
  {
   "cell_type": "code",
   "execution_count": 654,
   "id": "68fed793",
   "metadata": {},
   "outputs": [
    {
     "data": {
      "text/plain": [
       "270.0"
      ]
     },
     "execution_count": 654,
     "metadata": {},
     "output_type": "execute_result"
    }
   ],
   "source": [
    "my_taxes"
   ]
  },
  {
   "cell_type": "markdown",
   "id": "f9a7968e",
   "metadata": {},
   "source": [
    "_________\n",
    "# Strings\n",
    "\n",
    "<font color='blue'> <b>OBJECT TYPE 3</b> </font>\n",
    "\n",
    "parts of a text"
   ]
  },
  {
   "cell_type": "code",
   "execution_count": 655,
   "id": "d2791c12",
   "metadata": {},
   "outputs": [
    {
     "data": {
      "text/plain": [
       "'hello'"
      ]
     },
     "execution_count": 655,
     "metadata": {},
     "output_type": "execute_result"
    }
   ],
   "source": [
    "'hello'"
   ]
  },
  {
   "cell_type": "code",
   "execution_count": 656,
   "id": "0fa5fa4b",
   "metadata": {},
   "outputs": [
    {
     "data": {
      "text/plain": [
       "'hello'"
      ]
     },
     "execution_count": 656,
     "metadata": {},
     "output_type": "execute_result"
    }
   ],
   "source": [
    "\"hello\""
   ]
  },
  {
   "cell_type": "code",
   "execution_count": 657,
   "id": "d585af14",
   "metadata": {},
   "outputs": [
    {
     "data": {
      "text/plain": [
       "'amazing this think'"
      ]
     },
     "execution_count": 657,
     "metadata": {},
     "output_type": "execute_result"
    }
   ],
   "source": [
    "\"amazing this think\""
   ]
  },
  {
   "cell_type": "code",
   "execution_count": 658,
   "id": "68c3a827",
   "metadata": {},
   "outputs": [
    {
     "data": {
      "text/plain": [
       "\"i'm amazing\""
      ]
     },
     "execution_count": 658,
     "metadata": {},
     "output_type": "execute_result"
    }
   ],
   "source": [
    "\"i'm amazing\""
   ]
  },
  {
   "cell_type": "code",
   "execution_count": 659,
   "id": "b5ec4c2b",
   "metadata": {},
   "outputs": [
    {
     "name": "stdout",
     "output_type": "stream",
     "text": [
      "hello\n"
     ]
    }
   ],
   "source": [
    "print(\"hello\")"
   ]
  },
  {
   "cell_type": "code",
   "execution_count": 660,
   "id": "996061b5",
   "metadata": {},
   "outputs": [
    {
     "name": "stdout",
     "output_type": "stream",
     "text": [
      "hello \n",
      "world\n"
     ]
    }
   ],
   "source": [
    "print('hello \\nworld')\n",
    "# \\n is a 'enter'"
   ]
  },
  {
   "cell_type": "code",
   "execution_count": 661,
   "id": "a4bf2502",
   "metadata": {},
   "outputs": [
    {
     "name": "stdout",
     "output_type": "stream",
     "text": [
      "hello \tworld\n"
     ]
    }
   ],
   "source": [
    "print('hello \\tworld')\n",
    "# \\t is a 'tab'"
   ]
  },
  {
   "cell_type": "code",
   "execution_count": 662,
   "id": "79fa9dbd",
   "metadata": {},
   "outputs": [
    {
     "data": {
      "text/plain": [
       "5"
      ]
     },
     "execution_count": 662,
     "metadata": {},
     "output_type": "execute_result"
    }
   ],
   "source": [
    "len(\"hello\")\n",
    "# len function to know how many characters the string have"
   ]
  },
  {
   "cell_type": "code",
   "execution_count": 663,
   "id": "512bfffd",
   "metadata": {},
   "outputs": [
    {
     "data": {
      "text/plain": [
       "7"
      ]
     },
     "execution_count": 663,
     "metadata": {},
     "output_type": "execute_result"
    }
   ],
   "source": [
    "len(\"amazing\")"
   ]
  },
  {
   "cell_type": "code",
   "execution_count": 664,
   "id": "9431fc19",
   "metadata": {},
   "outputs": [],
   "source": [
    "#lines that start with hastags are comments"
   ]
  },
  {
   "cell_type": "markdown",
   "id": "d402e621",
   "metadata": {},
   "source": [
    "___\n",
    "# Slicing & idexing strings\n",
    "\n",
    "use [ ] square brackets to search inside a string."
   ]
  },
  {
   "cell_type": "code",
   "execution_count": 665,
   "id": "ea43ee59",
   "metadata": {},
   "outputs": [],
   "source": [
    "force='sensacional'"
   ]
  },
  {
   "cell_type": "code",
   "execution_count": 666,
   "id": "3ceb1abe",
   "metadata": {
    "scrolled": false
   },
   "outputs": [
    {
     "data": {
      "text/plain": [
       "'sensacional'"
      ]
     },
     "execution_count": 666,
     "metadata": {},
     "output_type": "execute_result"
    }
   ],
   "source": [
    "force"
   ]
  },
  {
   "cell_type": "code",
   "execution_count": 667,
   "id": "ce3238c4",
   "metadata": {},
   "outputs": [],
   "source": [
    "force=\"sensacional\""
   ]
  },
  {
   "cell_type": "code",
   "execution_count": 668,
   "id": "4e992193",
   "metadata": {},
   "outputs": [
    {
     "data": {
      "text/plain": [
       "'sensacional'"
      ]
     },
     "execution_count": 668,
     "metadata": {},
     "output_type": "execute_result"
    }
   ],
   "source": [
    "force"
   ]
  },
  {
   "cell_type": "code",
   "execution_count": 669,
   "id": "d71fdc7c",
   "metadata": {},
   "outputs": [],
   "source": [
    "force=\"sensacional\""
   ]
  },
  {
   "cell_type": "code",
   "execution_count": 670,
   "id": "b73825fb",
   "metadata": {},
   "outputs": [
    {
     "data": {
      "text/plain": [
       "'sensacional'"
      ]
     },
     "execution_count": 670,
     "metadata": {},
     "output_type": "execute_result"
    }
   ],
   "source": [
    "force"
   ]
  },
  {
   "cell_type": "code",
   "execution_count": 671,
   "id": "a4ba24c5",
   "metadata": {},
   "outputs": [
    {
     "data": {
      "text/plain": [
       "'c'"
      ]
     },
     "execution_count": 671,
     "metadata": {},
     "output_type": "execute_result"
    }
   ],
   "source": [
    "force[5]"
   ]
  },
  {
   "cell_type": "code",
   "execution_count": 672,
   "id": "bb2ca01f",
   "metadata": {},
   "outputs": [
    {
     "data": {
      "text/plain": [
       "'o'"
      ]
     },
     "execution_count": 672,
     "metadata": {},
     "output_type": "execute_result"
    }
   ],
   "source": [
    "force[-4]"
   ]
  },
  {
   "cell_type": "code",
   "execution_count": 673,
   "id": "7a3f166b",
   "metadata": {},
   "outputs": [
    {
     "data": {
      "text/plain": [
       "'e'"
      ]
     },
     "execution_count": 673,
     "metadata": {},
     "output_type": "execute_result"
    }
   ],
   "source": [
    "force[1]"
   ]
  },
  {
   "cell_type": "code",
   "execution_count": 674,
   "id": "0c299749",
   "metadata": {},
   "outputs": [
    {
     "data": {
      "text/plain": [
       "'e'"
      ]
     },
     "execution_count": 674,
     "metadata": {},
     "output_type": "execute_result"
    }
   ],
   "source": [
    "force[1]"
   ]
  },
  {
   "cell_type": "code",
   "execution_count": 675,
   "id": "fc53bd89",
   "metadata": {},
   "outputs": [
    {
     "data": {
      "text/plain": [
       "'s'"
      ]
     },
     "execution_count": 675,
     "metadata": {},
     "output_type": "execute_result"
    }
   ],
   "source": [
    "force[0]\n",
    "#zero is the 1st character"
   ]
  },
  {
   "cell_type": "code",
   "execution_count": 676,
   "id": "98f9e32a",
   "metadata": {},
   "outputs": [
    {
     "data": {
      "text/plain": [
       "'sen'"
      ]
     },
     "execution_count": 676,
     "metadata": {},
     "output_type": "execute_result"
    }
   ],
   "source": [
    "force[:3]\n",
    "# [: +num] means from the beginning until the correspondent character \n",
    "# [: +num] the num 3 character IS NOT included "
   ]
  },
  {
   "cell_type": "code",
   "execution_count": 677,
   "id": "5de13f3e",
   "metadata": {},
   "outputs": [
    {
     "data": {
      "text/plain": [
       "'sacional'"
      ]
     },
     "execution_count": 677,
     "metadata": {},
     "output_type": "execute_result"
    }
   ],
   "source": [
    "force[3:]\n",
    "# [num+ :] means from that point to the end\n",
    "# [num+ :] the num 3 character IS included "
   ]
  },
  {
   "cell_type": "code",
   "execution_count": 678,
   "id": "2fc4098b",
   "metadata": {},
   "outputs": [
    {
     "data": {
      "text/plain": [
       "'ns'"
      ]
     },
     "execution_count": 678,
     "metadata": {},
     "output_type": "execute_result"
    }
   ],
   "source": [
    "force[2:4]"
   ]
  },
  {
   "cell_type": "code",
   "execution_count": 679,
   "id": "f9948ae5",
   "metadata": {},
   "outputs": [
    {
     "data": {
      "text/plain": [
       "'sacio'"
      ]
     },
     "execution_count": 679,
     "metadata": {},
     "output_type": "execute_result"
    }
   ],
   "source": [
    "force[3:8]"
   ]
  },
  {
   "cell_type": "code",
   "execution_count": 680,
   "id": "bc5e5e0a",
   "metadata": {},
   "outputs": [
    {
     "data": {
      "text/plain": [
       "'ensacional'"
      ]
     },
     "execution_count": 680,
     "metadata": {},
     "output_type": "execute_result"
    }
   ],
   "source": [
    "force[1:]"
   ]
  },
  {
   "cell_type": "code",
   "execution_count": 681,
   "id": "6345388c",
   "metadata": {},
   "outputs": [
    {
     "data": {
      "text/plain": [
       "'snainl'"
      ]
     },
     "execution_count": 681,
     "metadata": {},
     "output_type": "execute_result"
    }
   ],
   "source": [
    "force[::2]\n",
    "# means: from the beginning to the end skipping 2 characters\n",
    "#[start:stop :step]"
   ]
  },
  {
   "cell_type": "code",
   "execution_count": 682,
   "id": "304cf3b3",
   "metadata": {},
   "outputs": [
    {
     "data": {
      "text/plain": [
       "'sco'"
      ]
     },
     "execution_count": 682,
     "metadata": {},
     "output_type": "execute_result"
    }
   ],
   "source": [
    "#another example:\n",
    "force[3:8:2]"
   ]
  },
  {
   "cell_type": "code",
   "execution_count": 683,
   "id": "8a73be39",
   "metadata": {},
   "outputs": [
    {
     "data": {
      "text/plain": [
       "'lanoicasnes'"
      ]
     },
     "execution_count": 683,
     "metadata": {},
     "output_type": "execute_result"
    }
   ],
   "source": [
    "force[::-1]\n",
    "#means reverse"
   ]
  },
  {
   "cell_type": "markdown",
   "id": "9eaa0b52",
   "metadata": {},
   "source": [
    "____\n",
    "# Strings are immutable"
   ]
  },
  {
   "cell_type": "code",
   "execution_count": 684,
   "id": "aac1fd28",
   "metadata": {},
   "outputs": [],
   "source": [
    "name = 'hello'"
   ]
  },
  {
   "cell_type": "code",
   "execution_count": 685,
   "id": "a6000a79",
   "metadata": {},
   "outputs": [
    {
     "data": {
      "text/plain": [
       "'hello'"
      ]
     },
     "execution_count": 685,
     "metadata": {},
     "output_type": "execute_result"
    }
   ],
   "source": [
    "name"
   ]
  },
  {
   "cell_type": "code",
   "execution_count": 686,
   "id": "f91485c5",
   "metadata": {},
   "outputs": [
    {
     "data": {
      "text/plain": [
       "'e'"
      ]
     },
     "execution_count": 686,
     "metadata": {},
     "output_type": "execute_result"
    }
   ],
   "source": [
    "name[1]"
   ]
  },
  {
   "cell_type": "code",
   "execution_count": 687,
   "id": "38736dd3",
   "metadata": {},
   "outputs": [
    {
     "data": {
      "text/plain": [
       "'ello'"
      ]
     },
     "execution_count": 687,
     "metadata": {},
     "output_type": "execute_result"
    }
   ],
   "source": [
    "name[1:]"
   ]
  },
  {
   "cell_type": "markdown",
   "id": "bfce6a92",
   "metadata": {},
   "source": [
    "___\n",
    "But you can change the variable name of a string:"
   ]
  },
  {
   "cell_type": "code",
   "execution_count": 688,
   "id": "025f8d4a",
   "metadata": {},
   "outputs": [],
   "source": [
    "last_letters=name[1:]"
   ]
  },
  {
   "cell_type": "code",
   "execution_count": 689,
   "id": "b5729ac6",
   "metadata": {},
   "outputs": [
    {
     "data": {
      "text/plain": [
       "'ello'"
      ]
     },
     "execution_count": 689,
     "metadata": {},
     "output_type": "execute_result"
    }
   ],
   "source": [
    "last_letters"
   ]
  },
  {
   "cell_type": "code",
   "execution_count": 690,
   "id": "967150c4",
   "metadata": {},
   "outputs": [
    {
     "data": {
      "text/plain": [
       "'Pello'"
      ]
     },
     "execution_count": 690,
     "metadata": {},
     "output_type": "execute_result"
    }
   ],
   "source": [
    "'P' + last_letters"
   ]
  },
  {
   "cell_type": "code",
   "execution_count": 691,
   "id": "67bfbcdd",
   "metadata": {},
   "outputs": [],
   "source": [
    "x=\"hi\""
   ]
  },
  {
   "cell_type": "code",
   "execution_count": 692,
   "id": "7e5ae2f5",
   "metadata": {},
   "outputs": [
    {
     "data": {
      "text/plain": [
       "'hi'"
      ]
     },
     "execution_count": 692,
     "metadata": {},
     "output_type": "execute_result"
    }
   ],
   "source": [
    "x"
   ]
  },
  {
   "cell_type": "code",
   "execution_count": 693,
   "id": "5a4951ba",
   "metadata": {},
   "outputs": [
    {
     "data": {
      "text/plain": [
       "'hiello'"
      ]
     },
     "execution_count": 693,
     "metadata": {},
     "output_type": "execute_result"
    }
   ],
   "source": [
    "x + last_letters"
   ]
  },
  {
   "cell_type": "code",
   "execution_count": 694,
   "id": "35ce839a",
   "metadata": {},
   "outputs": [
    {
     "data": {
      "text/plain": [
       "'hihihihihihihihihihi'"
      ]
     },
     "execution_count": 694,
     "metadata": {},
     "output_type": "execute_result"
    }
   ],
   "source": [
    "x*10"
   ]
  },
  {
   "cell_type": "code",
   "execution_count": 695,
   "id": "f6cc9840",
   "metadata": {},
   "outputs": [],
   "source": [
    "last_letters=\" hello\""
   ]
  },
  {
   "cell_type": "code",
   "execution_count": 696,
   "id": "6cd62010",
   "metadata": {},
   "outputs": [
    {
     "data": {
      "text/plain": [
       "' hello'"
      ]
     },
     "execution_count": 696,
     "metadata": {},
     "output_type": "execute_result"
    }
   ],
   "source": [
    "last_letters"
   ]
  },
  {
   "cell_type": "code",
   "execution_count": 697,
   "id": "c6582c77",
   "metadata": {},
   "outputs": [
    {
     "data": {
      "text/plain": [
       "'hi hello'"
      ]
     },
     "execution_count": 697,
     "metadata": {},
     "output_type": "execute_result"
    }
   ],
   "source": [
    "x+last_letters"
   ]
  },
  {
   "cell_type": "code",
   "execution_count": 698,
   "id": "182ea162",
   "metadata": {},
   "outputs": [
    {
     "data": {
      "text/plain": [
       "5"
      ]
     },
     "execution_count": 698,
     "metadata": {},
     "output_type": "execute_result"
    }
   ],
   "source": [
    "2+3\n",
    "#the result is a number/int"
   ]
  },
  {
   "cell_type": "code",
   "execution_count": 699,
   "id": "33b02b10",
   "metadata": {},
   "outputs": [
    {
     "data": {
      "text/plain": [
       "'23'"
      ]
     },
     "execution_count": 699,
     "metadata": {},
     "output_type": "execute_result"
    }
   ],
   "source": [
    "\"2\"+\"3\"\n",
    "#the result is a string/str"
   ]
  },
  {
   "cell_type": "markdown",
   "id": "5423659f",
   "metadata": {},
   "source": [
    "___\n",
    "# Methods (functions) for strings"
   ]
  },
  {
   "cell_type": "code",
   "execution_count": 700,
   "id": "cabb1da6",
   "metadata": {},
   "outputs": [],
   "source": [
    "x=\"hello\""
   ]
  },
  {
   "cell_type": "code",
   "execution_count": 701,
   "id": "43c3ee1e",
   "metadata": {},
   "outputs": [
    {
     "data": {
      "text/plain": [
       "'HELLO'"
      ]
     },
     "execution_count": 701,
     "metadata": {},
     "output_type": "execute_result"
    }
   ],
   "source": [
    "x.upper()\n",
    "#não esquecer os parentêses"
   ]
  },
  {
   "cell_type": "code",
   "execution_count": 702,
   "id": "c0868f5b",
   "metadata": {},
   "outputs": [
    {
     "data": {
      "text/plain": [
       "'hello'"
      ]
     },
     "execution_count": 702,
     "metadata": {},
     "output_type": "execute_result"
    }
   ],
   "source": [
    "x.lower()"
   ]
  },
  {
   "cell_type": "code",
   "execution_count": 703,
   "id": "93a0fef7",
   "metadata": {},
   "outputs": [],
   "source": [
    "x=\"hello world\""
   ]
  },
  {
   "cell_type": "code",
   "execution_count": 704,
   "id": "62ba8600",
   "metadata": {},
   "outputs": [
    {
     "data": {
      "text/plain": [
       "'hello world'"
      ]
     },
     "execution_count": 704,
     "metadata": {},
     "output_type": "execute_result"
    }
   ],
   "source": [
    "x"
   ]
  },
  {
   "cell_type": "code",
   "execution_count": 705,
   "id": "f43f2067",
   "metadata": {},
   "outputs": [
    {
     "data": {
      "text/plain": [
       "['hello', 'world']"
      ]
     },
     "execution_count": 705,
     "metadata": {},
     "output_type": "execute_result"
    }
   ],
   "source": [
    "x.split()"
   ]
  },
  {
   "cell_type": "code",
   "execution_count": 706,
   "id": "fbbc242c",
   "metadata": {},
   "outputs": [
    {
     "data": {
      "text/plain": [
       "['he', '', 'o wor', 'd']"
      ]
     },
     "execution_count": 706,
     "metadata": {},
     "output_type": "execute_result"
    }
   ],
   "source": [
    "x.split(\"l\")"
   ]
  },
  {
   "cell_type": "markdown",
   "id": "a32e837e",
   "metadata": {},
   "source": [
    "___\n",
    "# Formatting print (function)"
   ]
  },
  {
   "cell_type": "code",
   "execution_count": 707,
   "id": "7b7182d5",
   "metadata": {},
   "outputs": [
    {
     "name": "stdout",
     "output_type": "stream",
     "text": [
      "hi, how´re you?\n"
     ]
    }
   ],
   "source": [
    "print('hi{}'.format(', how´re you?'))"
   ]
  },
  {
   "cell_type": "code",
   "execution_count": 708,
   "id": "6f5883b4",
   "metadata": {},
   "outputs": [
    {
     "name": "stdout",
     "output_type": "stream",
     "text": [
      "hi, how´re you\n"
     ]
    }
   ],
   "source": [
    "print('hi{}'.format(', how´re you','today?','this mornig?'))"
   ]
  },
  {
   "cell_type": "code",
   "execution_count": 709,
   "id": "0b6be5fb",
   "metadata": {},
   "outputs": [
    {
     "name": "stdout",
     "output_type": "stream",
     "text": [
      "hi , how´re you today? this mornig?\n"
     ]
    }
   ],
   "source": [
    "print('hi {0}{1}{2}'.format(', how´re you',' today?',' this mornig?'))"
   ]
  },
  {
   "cell_type": "code",
   "execution_count": 710,
   "id": "4e743597",
   "metadata": {},
   "outputs": [
    {
     "name": "stdout",
     "output_type": "stream",
     "text": [
      "hi , how´re you this mornig?\n"
     ]
    }
   ],
   "source": [
    "print('hi {0}{2}'.format(', how´re you',' today?',' this mornig?'))"
   ]
  },
  {
   "cell_type": "code",
   "execution_count": 711,
   "id": "4a244784",
   "metadata": {},
   "outputs": [
    {
     "name": "stdout",
     "output_type": "stream",
     "text": [
      "hi , how´re you today?\n"
     ]
    }
   ],
   "source": [
    "print('hi {0}{1}'.format(', how´re you',' today?',' this mornig?'))"
   ]
  },
  {
   "cell_type": "code",
   "execution_count": 712,
   "id": "0890dff9",
   "metadata": {},
   "outputs": [
    {
     "name": "stdout",
     "output_type": "stream",
     "text": [
      "hi , how´re you, today?\n"
     ]
    }
   ],
   "source": [
    "h=', how´re you'\n",
    "t=', today?'\n",
    "m=', this mornig?'\n",
    "\n",
    "print('hi {0}{1}'.format(h,t,m))"
   ]
  },
  {
   "cell_type": "code",
   "execution_count": null,
   "id": "48ccd5af",
   "metadata": {},
   "outputs": [],
   "source": []
  },
  {
   "cell_type": "code",
   "execution_count": 713,
   "id": "a01a926e",
   "metadata": {},
   "outputs": [],
   "source": [
    "result=100/11"
   ]
  },
  {
   "cell_type": "code",
   "execution_count": 714,
   "id": "5d383426",
   "metadata": {},
   "outputs": [
    {
     "data": {
      "text/plain": [
       "9.090909090909092"
      ]
     },
     "execution_count": 714,
     "metadata": {},
     "output_type": "execute_result"
    }
   ],
   "source": [
    "result"
   ]
  },
  {
   "cell_type": "code",
   "execution_count": 715,
   "id": "cce2f7b9",
   "metadata": {},
   "outputs": [
    {
     "name": "stdout",
     "output_type": "stream",
     "text": [
      "the result is 9.090909090909092\n"
     ]
    }
   ],
   "source": [
    "print('the result is {}'.format(result))"
   ]
  },
  {
   "cell_type": "code",
   "execution_count": 716,
   "id": "2c0e61c9",
   "metadata": {},
   "outputs": [
    {
     "name": "stdout",
     "output_type": "stream",
     "text": [
      "the result is 9.090909090909092\n"
     ]
    }
   ],
   "source": [
    "print('the result is {r}'.format(r=result))"
   ]
  },
  {
   "cell_type": "code",
   "execution_count": 717,
   "id": "390c6e71",
   "metadata": {},
   "outputs": [
    {
     "name": "stdout",
     "output_type": "stream",
     "text": [
      "the result is 9.090909090909092\n"
     ]
    }
   ],
   "source": [
    "print('the result is {r:10}'.format(r=result))"
   ]
  },
  {
   "cell_type": "code",
   "execution_count": 718,
   "id": "a5cd1694",
   "metadata": {},
   "outputs": [
    {
     "name": "stdout",
     "output_type": "stream",
     "text": [
      "the result is      9.091\n"
     ]
    }
   ],
   "source": [
    "print('the result is {r:10.3f}'.format(r=result))\n",
    "#let´s see f methods/functions below"
   ]
  },
  {
   "cell_type": "markdown",
   "id": "ff7ab51e",
   "metadata": {},
   "source": [
    "___\n",
    "# f strings methods\n",
    "\n",
    "f strings can embed variables, strings, or the results of functions into a string. So <em>f = embed"
   ]
  },
  {
   "cell_type": "code",
   "execution_count": 719,
   "id": "013acac2",
   "metadata": {},
   "outputs": [],
   "source": [
    "name='Luis'\n",
    "age='38'"
   ]
  },
  {
   "cell_type": "code",
   "execution_count": 720,
   "id": "e1d84d10",
   "metadata": {},
   "outputs": [
    {
     "name": "stdout",
     "output_type": "stream",
     "text": [
      "Luis is 38 years old.\n"
     ]
    }
   ],
   "source": [
    "print(f'{name} is {age} years old.')"
   ]
  },
  {
   "cell_type": "markdown",
   "id": "923ca532",
   "metadata": {},
   "source": [
    "___\n",
    "# Lists\n",
    "\n",
    "<font color='blue'> <b>DATA TYPE 1</b> </font>\n",
    "\n",
    "a sequence os elements using variable=[   ]\n",
    "\n",
    "list=(   ) is a function too"
   ]
  },
  {
   "cell_type": "code",
   "execution_count": 780,
   "id": "37539bbd",
   "metadata": {},
   "outputs": [],
   "source": [
    "list1=[1,2,3,'beginning','ending']"
   ]
  },
  {
   "cell_type": "code",
   "execution_count": 781,
   "id": "41d30122",
   "metadata": {},
   "outputs": [
    {
     "data": {
      "text/plain": [
       "[1, 2, 3, 'beginning', 'ending']"
      ]
     },
     "execution_count": 781,
     "metadata": {},
     "output_type": "execute_result"
    }
   ],
   "source": [
    "list1"
   ]
  },
  {
   "cell_type": "code",
   "execution_count": 782,
   "id": "a1354613",
   "metadata": {},
   "outputs": [
    {
     "data": {
      "text/plain": [
       "1"
      ]
     },
     "execution_count": 782,
     "metadata": {},
     "output_type": "execute_result"
    }
   ],
   "source": [
    "#indexing\n",
    "\n",
    "list1[0]"
   ]
  },
  {
   "cell_type": "code",
   "execution_count": 783,
   "id": "0233621f",
   "metadata": {},
   "outputs": [
    {
     "data": {
      "text/plain": [
       "'ending'"
      ]
     },
     "execution_count": 783,
     "metadata": {},
     "output_type": "execute_result"
    }
   ],
   "source": [
    "#slicing\n",
    "\n",
    "list1[4]"
   ]
  },
  {
   "cell_type": "code",
   "execution_count": 784,
   "id": "b9b4c581",
   "metadata": {},
   "outputs": [
    {
     "data": {
      "text/plain": [
       "['beginning', 'ending']"
      ]
     },
     "execution_count": 784,
     "metadata": {},
     "output_type": "execute_result"
    }
   ],
   "source": [
    "#slicing from some point to the end\n",
    "\n",
    "list1[3:]"
   ]
  },
  {
   "cell_type": "code",
   "execution_count": 788,
   "id": "7492af96",
   "metadata": {},
   "outputs": [],
   "source": [
    "list2=['a','b','c','300']"
   ]
  },
  {
   "cell_type": "code",
   "execution_count": 789,
   "id": "28fc54a5",
   "metadata": {},
   "outputs": [
    {
     "data": {
      "text/plain": [
       "[1, 2, 3, 'beginning', 'ending', 'a', 'b', 'c', '300']"
      ]
     },
     "execution_count": 789,
     "metadata": {},
     "output_type": "execute_result"
    }
   ],
   "source": [
    "list1+list2"
   ]
  },
  {
   "cell_type": "code",
   "execution_count": 790,
   "id": "1f805c0d",
   "metadata": {},
   "outputs": [],
   "source": [
    "newlist=list1+list2"
   ]
  },
  {
   "cell_type": "code",
   "execution_count": 791,
   "id": "08c36d28",
   "metadata": {},
   "outputs": [
    {
     "data": {
      "text/plain": [
       "[1, 2, 3, 'beginning', 'ending', 'a', 'b', 'c', '300']"
      ]
     },
     "execution_count": 791,
     "metadata": {},
     "output_type": "execute_result"
    }
   ],
   "source": [
    "newlist"
   ]
  },
  {
   "cell_type": "markdown",
   "id": "6b4c4a62",
   "metadata": {},
   "source": [
    "___\n",
    "Lists are <b>mutable</b>. Wich means <b>you can replace</b> a item inside the list"
   ]
  },
  {
   "cell_type": "code",
   "execution_count": 792,
   "id": "69d265f6",
   "metadata": {},
   "outputs": [],
   "source": [
    "newlist[0]='400'"
   ]
  },
  {
   "cell_type": "code",
   "execution_count": 793,
   "id": "e28db441",
   "metadata": {},
   "outputs": [
    {
     "data": {
      "text/plain": [
       "['400', 2, 3, 'beginning', 'ending', 'a', 'b', 'c', '300']"
      ]
     },
     "execution_count": 793,
     "metadata": {},
     "output_type": "execute_result"
    }
   ],
   "source": [
    "newlist"
   ]
  },
  {
   "cell_type": "markdown",
   "id": "70fae595",
   "metadata": {},
   "source": [
    "___\n",
    "# Lists methods/functions"
   ]
  },
  {
   "cell_type": "code",
   "execution_count": 794,
   "id": "a421949f",
   "metadata": {},
   "outputs": [],
   "source": [
    "#append\n",
    "newlist.append('million')"
   ]
  },
  {
   "cell_type": "code",
   "execution_count": 795,
   "id": "b90b4ed6",
   "metadata": {},
   "outputs": [
    {
     "data": {
      "text/plain": [
       "['400', 2, 3, 'beginning', 'ending', 'a', 'b', 'c', '300', 'million']"
      ]
     },
     "execution_count": 795,
     "metadata": {},
     "output_type": "execute_result"
    }
   ],
   "source": [
    "newlist"
   ]
  },
  {
   "cell_type": "code",
   "execution_count": 796,
   "id": "5646f9a7",
   "metadata": {},
   "outputs": [
    {
     "data": {
      "text/plain": [
       "'million'"
      ]
     },
     "execution_count": 796,
     "metadata": {},
     "output_type": "execute_result"
    }
   ],
   "source": [
    "#pop last item\n",
    "newlist.pop()"
   ]
  },
  {
   "cell_type": "code",
   "execution_count": 797,
   "id": "121dcf07",
   "metadata": {},
   "outputs": [
    {
     "data": {
      "text/plain": [
       "['400', 2, 3, 'beginning', 'ending', 'a', 'b', 'c', '300']"
      ]
     },
     "execution_count": 797,
     "metadata": {},
     "output_type": "execute_result"
    }
   ],
   "source": [
    "newlist"
   ]
  },
  {
   "cell_type": "code",
   "execution_count": 798,
   "id": "d1c018a5",
   "metadata": {},
   "outputs": [],
   "source": [
    "numero_removido=newlist.pop()"
   ]
  },
  {
   "cell_type": "code",
   "execution_count": 799,
   "id": "09788467",
   "metadata": {},
   "outputs": [
    {
     "data": {
      "text/plain": [
       "'300'"
      ]
     },
     "execution_count": 799,
     "metadata": {},
     "output_type": "execute_result"
    }
   ],
   "source": [
    "numero_removido"
   ]
  },
  {
   "cell_type": "code",
   "execution_count": 801,
   "id": "16ad01dc",
   "metadata": {},
   "outputs": [],
   "source": [
    "#sort\n",
    "\n",
    "list3=['a','d','b','c']\n",
    "\n",
    "list4=[4,2,3,1]"
   ]
  },
  {
   "cell_type": "code",
   "execution_count": 802,
   "id": "2b340059",
   "metadata": {},
   "outputs": [],
   "source": [
    "list3.sort()"
   ]
  },
  {
   "cell_type": "code",
   "execution_count": 803,
   "id": "dcd105a9",
   "metadata": {},
   "outputs": [
    {
     "data": {
      "text/plain": [
       "['a', 'b', 'c', 'd']"
      ]
     },
     "execution_count": 803,
     "metadata": {},
     "output_type": "execute_result"
    }
   ],
   "source": [
    "list3"
   ]
  },
  {
   "cell_type": "code",
   "execution_count": 804,
   "id": "a53ee266",
   "metadata": {},
   "outputs": [],
   "source": [
    "list4.sort()"
   ]
  },
  {
   "cell_type": "code",
   "execution_count": 805,
   "id": "159beef0",
   "metadata": {},
   "outputs": [
    {
     "data": {
      "text/plain": [
       "[1, 2, 3, 4]"
      ]
     },
     "execution_count": 805,
     "metadata": {},
     "output_type": "execute_result"
    }
   ],
   "source": [
    "list4"
   ]
  },
  {
   "cell_type": "code",
   "execution_count": 806,
   "id": "b3d4d40b",
   "metadata": {},
   "outputs": [],
   "source": [
    "#reverse\n",
    "\n",
    "list3.reverse()"
   ]
  },
  {
   "cell_type": "code",
   "execution_count": 807,
   "id": "d42b248e",
   "metadata": {},
   "outputs": [
    {
     "data": {
      "text/plain": [
       "['d', 'c', 'b', 'a']"
      ]
     },
     "execution_count": 807,
     "metadata": {},
     "output_type": "execute_result"
    }
   ],
   "source": [
    "list3"
   ]
  },
  {
   "cell_type": "markdown",
   "id": "1239b87d",
   "metadata": {},
   "source": [
    "___\n",
    "# Dictionaries\n",
    "\n",
    "<font color='blue'> <b>DATA TYPE 2</b> </font>\n",
    "\n",
    "a sequence of elements with a key correlated to a value using ={    }"
   ]
  },
  {
   "cell_type": "code",
   "execution_count": 809,
   "id": "7b6bf615",
   "metadata": {},
   "outputs": [],
   "source": [
    "d = {'A':'Apple','W':'Windows'}"
   ]
  },
  {
   "cell_type": "code",
   "execution_count": 810,
   "id": "41530bb6",
   "metadata": {},
   "outputs": [
    {
     "data": {
      "text/plain": [
       "{'A': 'Apple', 'W': 'Windows'}"
      ]
     },
     "execution_count": 810,
     "metadata": {},
     "output_type": "execute_result"
    }
   ],
   "source": [
    "d"
   ]
  },
  {
   "cell_type": "code",
   "execution_count": 811,
   "id": "472a0f40",
   "metadata": {},
   "outputs": [
    {
     "data": {
      "text/plain": [
       "'Apple'"
      ]
     },
     "execution_count": 811,
     "metadata": {},
     "output_type": "execute_result"
    }
   ],
   "source": [
    "d['A']"
   ]
  },
  {
   "cell_type": "code",
   "execution_count": 816,
   "id": "669dd49e",
   "metadata": {},
   "outputs": [],
   "source": [
    "prices1 = {'A':'299','W':'99'}"
   ]
  },
  {
   "cell_type": "code",
   "execution_count": 817,
   "id": "7c5b8952",
   "metadata": {},
   "outputs": [
    {
     "data": {
      "text/plain": [
       "'99'"
      ]
     },
     "execution_count": 817,
     "metadata": {},
     "output_type": "execute_result"
    }
   ],
   "source": [
    "prices1['W']"
   ]
  },
  {
   "cell_type": "code",
   "execution_count": 818,
   "id": "30a2dcce",
   "metadata": {},
   "outputs": [],
   "source": [
    "d1 = {'a','b','c'}"
   ]
  },
  {
   "cell_type": "code",
   "execution_count": 819,
   "id": "c7375ce4",
   "metadata": {},
   "outputs": [
    {
     "data": {
      "text/plain": [
       "{'a', 'b', 'c'}"
      ]
     },
     "execution_count": 819,
     "metadata": {},
     "output_type": "execute_result"
    }
   ],
   "source": [
    "d1"
   ]
  },
  {
   "cell_type": "code",
   "execution_count": 820,
   "id": "610d0e40",
   "metadata": {},
   "outputs": [],
   "source": [
    "d1= {'a':['Apple','Windows']}"
   ]
  },
  {
   "cell_type": "code",
   "execution_count": 821,
   "id": "deb6a64f",
   "metadata": {},
   "outputs": [
    {
     "data": {
      "text/plain": [
       "{'a': ['Apple', 'Windows']}"
      ]
     },
     "execution_count": 821,
     "metadata": {},
     "output_type": "execute_result"
    }
   ],
   "source": [
    "d1"
   ]
  },
  {
   "cell_type": "code",
   "execution_count": 822,
   "id": "08f6fa9c",
   "metadata": {},
   "outputs": [],
   "source": [
    "actuallist=d1['a']"
   ]
  },
  {
   "cell_type": "code",
   "execution_count": 823,
   "id": "a2b63962",
   "metadata": {},
   "outputs": [
    {
     "data": {
      "text/plain": [
       "['Apple', 'Windows']"
      ]
     },
     "execution_count": 823,
     "metadata": {},
     "output_type": "execute_result"
    }
   ],
   "source": [
    "actuallist"
   ]
  },
  {
   "cell_type": "code",
   "execution_count": 824,
   "id": "1ae70abd",
   "metadata": {},
   "outputs": [],
   "source": [
    "OS=actuallist[1]"
   ]
  },
  {
   "cell_type": "code",
   "execution_count": 825,
   "id": "d368fba1",
   "metadata": {},
   "outputs": [
    {
     "data": {
      "text/plain": [
       "'Windows'"
      ]
     },
     "execution_count": 825,
     "metadata": {},
     "output_type": "execute_result"
    }
   ],
   "source": [
    "OS"
   ]
  },
  {
   "cell_type": "code",
   "execution_count": 826,
   "id": "0e286747",
   "metadata": {},
   "outputs": [
    {
     "data": {
      "text/plain": [
       "'WINDOWS'"
      ]
     },
     "execution_count": 826,
     "metadata": {},
     "output_type": "execute_result"
    }
   ],
   "source": [
    "OS.upper()"
   ]
  },
  {
   "cell_type": "code",
   "execution_count": 827,
   "id": "eb756d45",
   "metadata": {},
   "outputs": [
    {
     "data": {
      "text/plain": [
       "'WINDOWS'"
      ]
     },
     "execution_count": 827,
     "metadata": {},
     "output_type": "execute_result"
    }
   ],
   "source": [
    "d1['a'][1].upper()"
   ]
  },
  {
   "cell_type": "markdown",
   "id": "d4cf4156",
   "metadata": {},
   "source": [
    "___\n",
    "You can also <b>add a new item (key:value)</b> in a dic"
   ]
  },
  {
   "cell_type": "code",
   "execution_count": 830,
   "id": "8cc94b99",
   "metadata": {},
   "outputs": [],
   "source": [
    "d1['b']='Samsung'"
   ]
  },
  {
   "cell_type": "code",
   "execution_count": 831,
   "id": "d6db9331",
   "metadata": {},
   "outputs": [
    {
     "data": {
      "text/plain": [
       "{'a': ['Apple', 'Windows'], 'b': 'Samsung'}"
      ]
     },
     "execution_count": 831,
     "metadata": {},
     "output_type": "execute_result"
    }
   ],
   "source": [
    "d1"
   ]
  },
  {
   "cell_type": "code",
   "execution_count": 833,
   "id": "286350d3",
   "metadata": {},
   "outputs": [
    {
     "data": {
      "text/plain": [
       "dict_keys(['a', 'b'])"
      ]
     },
     "execution_count": 833,
     "metadata": {},
     "output_type": "execute_result"
    }
   ],
   "source": [
    "#to know the keys in a dic\n",
    "d1.keys()"
   ]
  },
  {
   "cell_type": "code",
   "execution_count": 834,
   "id": "d75c136b",
   "metadata": {},
   "outputs": [
    {
     "data": {
      "text/plain": [
       "dict_values([['Apple', 'Windows'], 'Samsung'])"
      ]
     },
     "execution_count": 834,
     "metadata": {},
     "output_type": "execute_result"
    }
   ],
   "source": [
    "#to know values inside a dic\n",
    "d1.values()"
   ]
  },
  {
   "cell_type": "code",
   "execution_count": 835,
   "id": "dabc1c2e",
   "metadata": {},
   "outputs": [
    {
     "data": {
      "text/plain": [
       "dict_items([('a', ['Apple', 'Windows']), ('b', 'Samsung')])"
      ]
     },
     "execution_count": 835,
     "metadata": {},
     "output_type": "execute_result"
    }
   ],
   "source": [
    "#to see the complete item in a dic\n",
    "dictlist1.items()"
   ]
  },
  {
   "cell_type": "markdown",
   "id": "cf5a98a9",
   "metadata": {},
   "source": [
    "___\n",
    "# Tuples\n",
    "\n",
    "<font color='blue'> <b>DATA TYPE 3</b> </font>\n",
    "\n",
    "tuple is a list that use variable=(  )"
   ]
  },
  {
   "cell_type": "code",
   "execution_count": 836,
   "id": "959d6962",
   "metadata": {},
   "outputs": [],
   "source": [
    "tuple1=(1,2,3)"
   ]
  },
  {
   "cell_type": "code",
   "execution_count": 837,
   "id": "7dc9f0e6",
   "metadata": {},
   "outputs": [],
   "source": [
    "list1=[1,2,3]"
   ]
  },
  {
   "cell_type": "code",
   "execution_count": 838,
   "id": "02323f2e",
   "metadata": {},
   "outputs": [
    {
     "data": {
      "text/plain": [
       "[1, 2, 3]"
      ]
     },
     "execution_count": 838,
     "metadata": {},
     "output_type": "execute_result"
    }
   ],
   "source": [
    "list1"
   ]
  },
  {
   "cell_type": "code",
   "execution_count": 840,
   "id": "37c5355d",
   "metadata": {},
   "outputs": [
    {
     "data": {
      "text/plain": [
       "tuple"
      ]
     },
     "execution_count": 840,
     "metadata": {},
     "output_type": "execute_result"
    }
   ],
   "source": [
    "type(tuple1)"
   ]
  },
  {
   "cell_type": "code",
   "execution_count": 841,
   "id": "b65cbe1a",
   "metadata": {},
   "outputs": [
    {
     "data": {
      "text/plain": [
       "list"
      ]
     },
     "execution_count": 841,
     "metadata": {},
     "output_type": "execute_result"
    }
   ],
   "source": [
    "type(list1)"
   ]
  },
  {
   "cell_type": "code",
   "execution_count": 842,
   "id": "4b8317f0",
   "metadata": {},
   "outputs": [
    {
     "data": {
      "text/plain": [
       "3"
      ]
     },
     "execution_count": 842,
     "metadata": {},
     "output_type": "execute_result"
    }
   ],
   "source": [
    "len(tuple1)"
   ]
  },
  {
   "cell_type": "code",
   "execution_count": 843,
   "id": "026ec823",
   "metadata": {},
   "outputs": [
    {
     "data": {
      "text/plain": [
       "3"
      ]
     },
     "execution_count": 843,
     "metadata": {},
     "output_type": "execute_result"
    }
   ],
   "source": [
    "len(list1)"
   ]
  },
  {
   "cell_type": "code",
   "execution_count": 844,
   "id": "1c0d8a09",
   "metadata": {},
   "outputs": [
    {
     "data": {
      "text/plain": [
       "2"
      ]
     },
     "execution_count": 844,
     "metadata": {},
     "output_type": "execute_result"
    }
   ],
   "source": [
    "tuple1[1]"
   ]
  },
  {
   "cell_type": "code",
   "execution_count": 846,
   "id": "f8d2d468",
   "metadata": {},
   "outputs": [
    {
     "data": {
      "text/plain": [
       "1"
      ]
     },
     "execution_count": 846,
     "metadata": {},
     "output_type": "execute_result"
    }
   ],
   "source": [
    "#how many of these characters are inside a tuple\n",
    "tuple1.count(2)"
   ]
  },
  {
   "cell_type": "code",
   "execution_count": 847,
   "id": "a4d41bff",
   "metadata": {},
   "outputs": [
    {
     "data": {
      "text/plain": [
       "2"
      ]
     },
     "execution_count": 847,
     "metadata": {},
     "output_type": "execute_result"
    }
   ],
   "source": [
    "tuple1.index(3)"
   ]
  },
  {
   "cell_type": "markdown",
   "id": "f7d4f1c3",
   "metadata": {},
   "source": [
    "___\n",
    "You can easely <b>change a item in a list:</b>"
   ]
  },
  {
   "cell_type": "code",
   "execution_count": 848,
   "id": "8023af58",
   "metadata": {},
   "outputs": [],
   "source": [
    "list1[0]='new'"
   ]
  },
  {
   "cell_type": "code",
   "execution_count": 849,
   "id": "d9757f7d",
   "metadata": {},
   "outputs": [
    {
     "data": {
      "text/plain": [
       "['new', 2, 3]"
      ]
     },
     "execution_count": 849,
     "metadata": {},
     "output_type": "execute_result"
    }
   ],
   "source": [
    "list1"
   ]
  },
  {
   "cell_type": "markdown",
   "id": "18d053d8",
   "metadata": {},
   "source": [
    "___\n",
    "You <b>can´t change a item in a tuple:</b>"
   ]
  },
  {
   "cell_type": "code",
   "execution_count": 850,
   "id": "fd2f025f",
   "metadata": {},
   "outputs": [
    {
     "ename": "TypeError",
     "evalue": "'tuple' object does not support item assignment",
     "output_type": "error",
     "traceback": [
      "\u001b[1;31m---------------------------------------------------------------------------\u001b[0m",
      "\u001b[1;31mTypeError\u001b[0m                                 Traceback (most recent call last)",
      "Input \u001b[1;32mIn [850]\u001b[0m, in \u001b[0;36m<cell line: 1>\u001b[1;34m()\u001b[0m\n\u001b[1;32m----> 1\u001b[0m tuple1[\u001b[38;5;241m0\u001b[39m]\u001b[38;5;241m=\u001b[39m\u001b[38;5;124m'\u001b[39m\u001b[38;5;124mnew\u001b[39m\u001b[38;5;124m'\u001b[39m\n",
      "\u001b[1;31mTypeError\u001b[0m: 'tuple' object does not support item assignment"
     ]
    }
   ],
   "source": [
    "tuple1[0]='new'"
   ]
  },
  {
   "cell_type": "code",
   "execution_count": null,
   "id": "205b54fa",
   "metadata": {},
   "outputs": [],
   "source": [
    "#consequently a tuple also dont have .append .insert .remove .pop .sort methods"
   ]
  },
  {
   "cell_type": "markdown",
   "id": "93712f0a",
   "metadata": {},
   "source": [
    "___\n",
    "# Sets\n",
    "\n",
    "<font color='blue'> <b>DATA TYPE 4</b> </font>\n",
    "\n",
    "a list of data using ={   }\n",
    "\n",
    "sets are <b>unordered</b>, so it doesnot support indexing and similar methods/functions"
   ]
  },
  {
   "cell_type": "code",
   "execution_count": 862,
   "id": "472b229a",
   "metadata": {
    "scrolled": true
   },
   "outputs": [],
   "source": [
    "myset = {'juice','fruit','beverage'}"
   ]
  },
  {
   "cell_type": "code",
   "execution_count": 863,
   "id": "2bbd1865",
   "metadata": {},
   "outputs": [
    {
     "data": {
      "text/plain": [
       "{'beverage', 'fruit', 'juice'}"
      ]
     },
     "execution_count": 863,
     "metadata": {},
     "output_type": "execute_result"
    }
   ],
   "source": [
    "myset"
   ]
  },
  {
   "cell_type": "code",
   "execution_count": 864,
   "id": "5fc7c860",
   "metadata": {},
   "outputs": [
    {
     "data": {
      "text/plain": [
       "{'beverage', 'fruit', 'juice'}"
      ]
     },
     "execution_count": 864,
     "metadata": {},
     "output_type": "execute_result"
    }
   ],
   "source": [
    "set(myset)"
   ]
  },
  {
   "cell_type": "code",
   "execution_count": 865,
   "id": "8777ce9f",
   "metadata": {},
   "outputs": [],
   "source": [
    "myset.add('bread')"
   ]
  },
  {
   "cell_type": "code",
   "execution_count": 866,
   "id": "6be821be",
   "metadata": {},
   "outputs": [
    {
     "data": {
      "text/plain": [
       "{'beverage', 'bread', 'fruit', 'juice'}"
      ]
     },
     "execution_count": 866,
     "metadata": {},
     "output_type": "execute_result"
    }
   ],
   "source": [
    "myset"
   ]
  },
  {
   "cell_type": "code",
   "execution_count": 870,
   "id": "0eafb39e",
   "metadata": {
    "scrolled": true
   },
   "outputs": [
    {
     "data": {
      "text/plain": [
       "'beverage'"
      ]
     },
     "execution_count": 870,
     "metadata": {},
     "output_type": "execute_result"
    }
   ],
   "source": [
    "#pop a random item\n",
    "myset.pop()"
   ]
  },
  {
   "cell_type": "code",
   "execution_count": 871,
   "id": "bfea5725",
   "metadata": {},
   "outputs": [],
   "source": [
    "myset2 = {4,4,4,4,4,4,4,5,5,5,5,5,5,5,8,8,8,8,}"
   ]
  },
  {
   "cell_type": "code",
   "execution_count": 873,
   "id": "40c9926a",
   "metadata": {},
   "outputs": [
    {
     "data": {
      "text/plain": [
       "{4, 5, 8}"
      ]
     },
     "execution_count": 873,
     "metadata": {},
     "output_type": "execute_result"
    }
   ],
   "source": [
    "#bring just one item of each \n",
    "set(myset2)"
   ]
  },
  {
   "cell_type": "markdown",
   "id": "041232f4",
   "metadata": {},
   "source": [
    "____\n",
    "<font color='green' size='32'> End</br> <br>Well done! </br></font> "
   ]
  },
  {
   "cell_type": "code",
   "execution_count": null,
   "id": "2911b5c7",
   "metadata": {},
   "outputs": [],
   "source": []
  }
 ],
 "metadata": {
  "kernelspec": {
   "display_name": "Python 3 (ipykernel)",
   "language": "python",
   "name": "python3"
  },
  "language_info": {
   "codemirror_mode": {
    "name": "ipython",
    "version": 3
   },
   "file_extension": ".py",
   "mimetype": "text/x-python",
   "name": "python",
   "nbconvert_exporter": "python",
   "pygments_lexer": "ipython3",
   "version": "3.9.12"
  }
 },
 "nbformat": 4,
 "nbformat_minor": 5
}
