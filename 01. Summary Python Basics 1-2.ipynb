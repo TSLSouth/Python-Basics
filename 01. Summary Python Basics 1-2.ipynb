{
 "cells": [
  {
   "cell_type": "markdown",
   "id": "dfd84f56",
   "metadata": {},
   "source": [
    "# Summary"
   ]
  },
  {
   "cell_type": "code",
   "execution_count": 1,
   "id": "05eb9b9e",
   "metadata": {},
   "outputs": [
    {
     "name": "stdout",
     "output_type": "stream",
     "text": [
      "Luiz is great!\n",
      "False\n",
      "True\n"
     ]
    }
   ],
   "source": [
    "#CONCATENATE STRINGS #CASE SENSITIVE #'IN' METHOD\n",
    "print('Luiz' + ' is great!')\n",
    "print('l' in 'Luiz' + 'Luiz is great!')\n",
    "print('L' in 'Luiz')"
   ]
  },
  {
   "cell_type": "code",
   "execution_count": 2,
   "id": "0762d1ab",
   "metadata": {},
   "outputs": [
    {
     "name": "stdout",
     "output_type": "stream",
     "text": [
      "1500\n",
      "Luiz\n"
     ]
    }
   ],
   "source": [
    "#VARIABLE IS JUST A NAME TO AN OBJECT\n",
    "sales = 1500\n",
    "name = 'Luiz'\n",
    "print(sales)\n",
    "print(name)"
   ]
  },
  {
   "cell_type": "code",
   "execution_count": 3,
   "id": "e638dbe1",
   "metadata": {},
   "outputs": [
    {
     "name": "stdout",
     "output_type": "stream",
     "text": [
      "How is your name? l\n",
      "How is your surname? l\n",
      "Full name: l l\n"
     ]
    }
   ],
   "source": [
    "#'STORE' EVERYTHING USING VARIABLES\n",
    "name = input('How is your name? ')\n",
    "surname = input('How is your surname? ')\n",
    "print('Full name: ' + name + ' ' + surname)"
   ]
  },
  {
   "cell_type": "code",
   "execution_count": 4,
   "id": "d2aaa8b9",
   "metadata": {},
   "outputs": [
    {
     "name": "stdout",
     "output_type": "stream",
     "text": [
      "Enter item code here: bac3413\n",
      "True\n"
     ]
    }
   ],
   "source": [
    "#USING .upper() OR .lower() TO REGULATE INPUT\n",
    "code = input('Enter item code here: ').upper()\n",
    "print('BAC' in code)"
   ]
  },
  {
   "cell_type": "code",
   "execution_count": 5,
   "id": "7102d367",
   "metadata": {},
   "outputs": [
    {
     "name": "stdout",
     "output_type": "stream",
     "text": [
      "500\n",
      "700\n"
     ]
    }
   ],
   "source": [
    "#RECALL NEEDED DUE TO THE ORDER OF THE CALCULATION\n",
    "billing = 1000\n",
    "expenses = 500\n",
    "\n",
    "result = billing - expenses\n",
    "print(result)\n",
    "\n",
    "expenses = 300 #EXPENSES NUM.2\n",
    "\n",
    "result = billing - expenses #RECALL NEEDED\n",
    "print(result)"
   ]
  },
  {
   "cell_type": "code",
   "execution_count": 6,
   "id": "91000f80",
   "metadata": {},
   "outputs": [
    {
     "name": "stdout",
     "output_type": "stream",
     "text": [
      "Total billing was 1000. \n",
      "Total expenses was 500. \n",
      "Final result was 500.\n",
      "Total billing was 1000. \n",
      "Total expenses was 500. \n",
      "Final result was 500.\n",
      "Left aligned and size of text box 10: 1000      !!!\n",
      "Right aligned and size of text box 10:       1000!!!\n",
      "Center aligned and size of text box 10:    1000   !!!\n",
      "Always use sign: +1000\n",
      "Use thousand sign: 1,000\n",
      "Use both: +1,000\n",
      "Decimal places: 1000.00\n",
      "% format: 100000.00%\n",
      "Round: 198.08\n"
     ]
    }
   ],
   "source": [
    "#TEXT PROCESSING USING .format() METHOD\n",
    "billing = 1000\n",
    "expenses = 500\n",
    "result = billing - expenses\n",
    "\n",
    "print('Total billing was {}. \\nTotal expenses was {}. \\nFinal result was {}.'.format(billing,expenses, result))\n",
    "#{} are the variables, automatic field numbering\n",
    "\n",
    "#USING INDEXING\n",
    "print('Total billing was {0}. \\nTotal expenses was {1}. \\nFinal result was {2}.'.format(billing,expenses, result))\n",
    "#{} manual field specification\n",
    "#cannot switch from automatic to manual specification\n",
    "\n",
    "print('Left aligned and size of text box 10: {:<10}!!!'.format(billing))\n",
    "\n",
    "print('Right aligned and size of text box 10: {:>10}!!!'.format(billing))\n",
    "\n",
    "print('Center aligned and size of text box 10: {:^10}!!!'.format(billing))\n",
    "\n",
    "print('Always use sign: {:+}'.format(billing))\n",
    "\n",
    "print('Use thousand sign: {:,}'.format(billing))\n",
    "\n",
    "print('Use both: {:+,}'.format(billing))\n",
    "\n",
    "print('Decimal places: {:.2f}'.format(billing))\n",
    "\n",
    "print('% format: {:.2%}'.format(billing))\n",
    "\n",
    "tax_rate = 0.198078\n",
    "tax = round(billing * tax_rate,2)\n",
    "print('Round: {}'.format(tax))"
   ]
  },
  {
   "cell_type": "code",
   "execution_count": 7,
   "id": "7700f11c",
   "metadata": {
    "scrolled": true
   },
   "outputs": [
    {
     "name": "stdout",
     "output_type": "stream",
     "text": [
      "Sales goal achieved! \n",
      "65000 units sold.\n"
     ]
    }
   ],
   "source": [
    "#IF\n",
    "goal = 50000\n",
    "sold_amount = 65000\n",
    "\n",
    "if sold_amount > goal:\n",
    "    print('Sales goal achieved! \\n{} units sold.'.format(sold_amount))\n",
    "else:\n",
    "    print('Goal not reached. \\n{} units sold. \\nThe goal was {}.'.format(sold_amount,goal))"
   ]
  },
  {
   "cell_type": "code",
   "execution_count": 8,
   "id": "f9196efd",
   "metadata": {},
   "outputs": [
    {
     "name": "stdout",
     "output_type": "stream",
     "text": [
      "What was the yield: 0.09\n",
      "Administration fee applied: 0.02\n"
     ]
    }
   ],
   "source": [
    "#IF \n",
    "#INPUT IS ALWAYS A STR\n",
    "#TRANSFORMING STR TO NUM TO USE WITH MATH OPERATORS\n",
    "goal = 0.05\n",
    "tax = 0\n",
    "input_ = input('What was the yield: ')\n",
    "yield_ = float(input_) #\n",
    "\n",
    "if yield_ > goal:\n",
    "    if yield_ > 0.20:\n",
    "        tax = 0.04\n",
    "        print('Administration fee applied: {}'.format(tax))        \n",
    "    else:\n",
    "        tax = 0.02\n",
    "        print('Administration fee applied: {}'.format(tax))\n",
    "else:\n",
    "    tax = 0\n",
    "    print('Administration fee applied: {}'.format(tax))"
   ]
  },
  {
   "cell_type": "code",
   "execution_count": 9,
   "id": "50f2bb46",
   "metadata": {
    "scrolled": true
   },
   "outputs": [
    {
     "name": "stdout",
     "output_type": "stream",
     "text": [
      "How much was sold: 33000\n",
      "Bonus earned: 3% = 990.0\n"
     ]
    }
   ],
   "source": [
    "#ELIF\n",
    "goal = 20000\n",
    "input_ = input('How much was sold: ')\n",
    "sales = int(input_)\n",
    "\n",
    "if sales < goal:\n",
    "    print('Did not win bonus.')\n",
    "elif sales > (goal * 2):\n",
    "    bonus = 0.07 * sales\n",
    "    print('Bonus earned: 7% = {}'.format(bonus))\n",
    "else:\n",
    "    bonus = 0.03 * sales\n",
    "    print('Bonus earned: 3% = {}'.format(bonus))"
   ]
  },
  {
   "cell_type": "code",
   "execution_count": 10,
   "id": "3d31ae08",
   "metadata": {},
   "outputs": [
    {
     "name": "stdout",
     "output_type": "stream",
     "text": [
      "Your best email: luiz@furtado.com\n",
      "Tks!\n"
     ]
    }
   ],
   "source": [
    "#COMPARISON  ==  !=  >  >=  <  <=  in  not\n",
    "email = input('Your best email: ')\n",
    "\n",
    "if ('@' in email) and ('.' in email):\n",
    "    print('Tks!')\n",
    "else:\n",
    "    print('Isert a valid email.')"
   ]
  },
  {
   "cell_type": "code",
   "execution_count": 11,
   "id": "e4179831",
   "metadata": {},
   "outputs": [
    {
     "name": "stdout",
     "output_type": "stream",
     "text": [
      "Sales: 15000\n",
      "Employee bonus: 450.0.\n"
     ]
    }
   ],
   "source": [
    "#AND, OR\n",
    "employee_goal = 10000\n",
    "shop_goal = 250000\n",
    "employee_sales = int(input('Sales: '))\n",
    "shop_sales = 200000\n",
    "\n",
    "if (employee_sales >= employee_goal) or ((employee_sales > employee_goal) and (shop_sales > shop_goal)):\n",
    "    emp_bonus = 0.03 * employee_sales\n",
    "    print('Employee bonus: {}.'.format(emp_bonus))\n",
    "else:\n",
    "    print('Employee did not receive bonus.')"
   ]
  },
  {
   "cell_type": "code",
   "execution_count": 12,
   "id": "87331565",
   "metadata": {},
   "outputs": [
    {
     "name": "stdout",
     "output_type": "stream",
     "text": [
      "Total billing this month: 15000\n",
      "Total expenses this month: 10000\n",
      "Month result: 5000\n"
     ]
    }
   ],
   "source": [
    "#CHECKING FILLING IN THE FIELDS\n",
    "billing = input('Total billing this month: ')\n",
    "expenses = input('Total expenses this month: ')\n",
    "\n",
    "if billing and expenses: #MEANS,IF THE FIELDS HAVE BEEN COMPLETED \n",
    "    result = int(billing) - int(expenses)\n",
    "    print('Month result: {}'.format(result))\n",
    "else:\n",
    "    print('Fill all the fields above.')"
   ]
  },
  {
   "cell_type": "code",
   "execution_count": 13,
   "id": "16361492",
   "metadata": {},
   "outputs": [
    {
     "name": "stdout",
     "output_type": "stream",
     "text": [
      "Lenght of the string is: 16\n",
      "The first item is: l\n",
      "The last item is: m\n",
      "The 6th item is: f\n",
      "A slice from the reffered item up to the end is: furtado.com\n",
      "A slice from the beginning up to one before refferred index: luiz@furtado.com\n",
      "A slice with the last 4 itens is: luiz@furtado\n",
      "A slice from de middle of the string is: furtado\n"
     ]
    }
   ],
   "source": [
    "#INDEXING & SLICING\n",
    "email = 'luiz@furtado.com'\n",
    "lenght = len(email) \n",
    "\n",
    "print('Lenght of the string is: {}'.format(lenght))\n",
    "print('The first item is: {}'.format(email[0]))\n",
    "print('The last item is: {}'.format(email[-1]))\n",
    "print('The 6th item is: {}'.format(email[5]))\n",
    "print('A slice from the reffered item up to the end is: {}'.format(email[5:]))\n",
    "print('A slice from the beginning up to one before refferred index: {}'.format(email[:16]))\n",
    "print('A slice with the last 4 itens is: {}'.format(email[:-4]))\n",
    "print('A slice from de middle of the string is: {}'.format(email[5:12]))"
   ]
  },
  {
   "cell_type": "code",
   "execution_count": 14,
   "id": "d7982e5c",
   "metadata": {},
   "outputs": [
    {
     "name": "stdout",
     "output_type": "stream",
     "text": [
      "Luizfurtadocom\n",
      "luiz@furtado.com\n",
      " Hello, \n",
      "My Name Is Luiz\n",
      "1\n",
      "False\n",
      "True\n",
      "4\n",
      "True\n",
      "True\n",
      "False\n",
      "luiz-furtado.com\n",
      "['luiz', 'furtado.com']\n",
      "[' Hello, ', 'My name is Luiz']\n",
      "Hello, \n",
      "My name is Luiz\n"
     ]
    }
   ],
   "source": [
    "#STR METHODS\n",
    "text = 'luizfurtadocom'\n",
    "text2 = 'luiz@furtado.com'\n",
    "text3 = ''' Hello, \n",
    "My name is Luiz'''\n",
    "\n",
    "print(text.capitalize())\n",
    "print(text2.casefold())\n",
    "print(text3.title())\n",
    "print(text.count('l'))\n",
    "print(text.endswith('gmail.com'))\n",
    "print(text.startswith('luiz'))\n",
    "print(text2.find('@'))\n",
    "print(text.isalnum())\n",
    "print(text.isalpha())\n",
    "print(text.isnumeric())\n",
    "print(text2.replace('@','-'))\n",
    "print(text2.split('@'))\n",
    "print(text3.splitlines())\n",
    "print(text3.strip())"
   ]
  },
  {
   "cell_type": "code",
   "execution_count": 15,
   "id": "0e4d9cbb",
   "metadata": {},
   "outputs": [
    {
     "name": "stdout",
     "output_type": "stream",
     "text": [
      "Mouse sales was 350 units.\n",
      "Wanted item index: \n",
      "2\n",
      "Their sales: \n",
      "350\n",
      "Insert the ID of the product: celular\n",
      "Was sold 1500 units of celular.\n"
     ]
    }
   ],
   "source": [
    "#LISTS\n",
    "products = ['tv','celular','mouse','tablet']\n",
    "products2 = ['tv',\n",
    "            'celular',\n",
    "            'mouse',\n",
    "            'tablet']\n",
    "sales = [1000,1500,350,270]\n",
    "\n",
    "result = ('{} sales was {} units.'.format(products[2],sales[2]))\n",
    "print(result.capitalize())\n",
    "\n",
    "#INDEXING\n",
    "\n",
    "i = products.index('mouse')\n",
    "print('Wanted item index: ') \n",
    "print(i)\n",
    "\n",
    "sales_i = sales[i]\n",
    "print('Their sales: ')\n",
    "print(sales_i)\n",
    "\n",
    "##########\n",
    "\n",
    "for i in products:\n",
    "    \n",
    "    id_prod = input('Insert the ID of the product: ')\n",
    "    if id_prod in products:\n",
    "        i = products.index(id_prod)\n",
    "        sales_i = sales[i]\n",
    "        print('Was sold {} units of {}.'.format(sales_i,id_prod))\n",
    "        break\n",
    "    else:\n",
    "        print('Product not found.')"
   ]
  },
  {
   "cell_type": "code",
   "execution_count": 16,
   "id": "0cfd20f4",
   "metadata": {},
   "outputs": [
    {
     "name": "stdout",
     "output_type": "stream",
     "text": [
      "List 1 is: ['tv', 'celular', 'mouse', 'tablet']\n",
      "Alterated list is: ['tv', 'celular', 'pc', 'tablet']\n",
      "Adding an item: ['tv', 'celular', 'pc', 'tablet', 'mac']\n",
      "Remove an item: ['tv', 'celular', 'pc', 'tablet']\n",
      "Pop an item: ['tv', 'celular', 'pc']\n"
     ]
    }
   ],
   "source": [
    "#CHANGING LISTS\n",
    "products = ['tv','celular','mouse','tablet']\n",
    "print('List 1 is: {}'.format(products))\n",
    "\n",
    "products[2] = 'pc'\n",
    "print('Alterated list is: {}'.format(products))\n",
    "\n",
    "products.append('mac')\n",
    "print('Adding an item: {}'.format(products))\n",
    "\n",
    "products.remove('mac')\n",
    "print('Remove an item: {}'.format(products))\n",
    "\n",
    "products.pop(3)\n",
    "print('Pop an item: {}'.format(products))"
   ]
  },
  {
   "cell_type": "code",
   "execution_count": 22,
   "id": "1f08b1b7",
   "metadata": {},
   "outputs": [
    {
     "name": "stdout",
     "output_type": "stream",
     "text": [
      "Isert ID product to add in the list: tablet\n",
      "Product added.\n",
      "['tv', 'celular', 'mouse', 'tablet']\n",
      "Insert ID product to remove: \n",
      " not in the list of products.\n",
      "['tv', 'celular', 'mouse', 'tablet']\n"
     ]
    }
   ],
   "source": [
    "#HANDLING ERRORS\n",
    "\n",
    "#OPTION ONE\n",
    "i = input('Isert ID product to add in the list: ')\n",
    "if i not in products:\n",
    "    products.append(i)\n",
    "    print('Product added.')\n",
    "    print(products)\n",
    "    \n",
    "else:\n",
    "    print('Product already in the list.')\n",
    "    print(products)\n",
    "\n",
    "#OPTION TWO\n",
    "it = input('Insert ID product to remove: ')\n",
    "try:\n",
    "    products.remove(it)\n",
    "    print('Product removed.')\n",
    "    print(products)\n",
    "except:\n",
    "    print('{} not in the list of products.'.format(it))\n",
    "    print(products)"
   ]
  },
  {
   "cell_type": "code",
   "execution_count": 23,
   "id": "925148b3",
   "metadata": {
    "scrolled": true
   },
   "outputs": [
    {
     "name": "stdout",
     "output_type": "stream",
     "text": [
      "We have 4 items\n",
      "The best selling product was: celular with 1500 units. \n",
      "The least sold product was: tablet with 270 units.\n",
      "Total sales: 3120 units.\n",
      "Joining lists using ´+´ : ['tv', 'celular', 'mouse', 'tablet', 'pc', 'speaker']\n",
      "Joining lists using extend: ['tv', 'celular', 'mouse', 'tablet', 'pc', 'speaker', 'ipad', 'motorola']\n",
      "['celular', 'ipad', 'motorola', 'mouse', 'pc', 'speaker', 'tablet', 'tv']\n",
      "[270, 350, 1000, 1500]\n",
      "[1500, 1000, 350, 270]\n",
      "['kindle', 'amazon', 'kivo']\n",
      "kindle,amazon,kivo\n"
     ]
    }
   ],
   "source": [
    "#LISTS METHODS\n",
    "list_size = len(products)\n",
    "print('We have {} items'.format(list_size))\n",
    "\n",
    "max_sales = max(sales)\n",
    "id_max = sales.index(max_sales)\n",
    "prod_max_sales = products[id_max]\n",
    "\n",
    "min_sales = min(sales)\n",
    "id_min = sales.index(min_sales)\n",
    "prod_min_sales = products[id_min]\n",
    "\n",
    "print('The best selling product was: {} with {} units. \\nThe least sold product was: {} with {} units.'.format(prod_max_sales,max_sales,prod_min_sales,min_sales))\n",
    "\n",
    "total_sales = sum(sales)\n",
    "print('Total sales: {} units.'.format(total_sales))\n",
    "\n",
    "prod2 = ['pc','speaker']\n",
    "all_prod = products + prod2\n",
    "print('Joining lists using ´+´ : {}'.format(all_prod))\n",
    "\n",
    "new2_prod = ['ipad','motorola']\n",
    "all_prod.extend(new2_prod)\n",
    "print('Joining lists using extend: {}'.format(all_prod))\n",
    "\n",
    "all_prod.sort()\n",
    "sales.sort(reverse=False)\n",
    "print(all_prod)\n",
    "print(sales)\n",
    "sales.sort(reverse=True)\n",
    "print(sales)\n",
    "\n",
    "new3_prod = 'kindle, amazon, kivo'\n",
    "splited_new3_prod = new3_prod.split(', ')\n",
    "print(splited_new3_prod)\n",
    "print(','.join(splited_new3_prod))"
   ]
  },
  {
   "cell_type": "code",
   "execution_count": 24,
   "id": "ea76bc4f",
   "metadata": {},
   "outputs": [
    {
     "name": "stdout",
     "output_type": "stream",
     "text": [
      "['mac', 'iphone', 'ipad']\n",
      "[100, 200]\n",
      "This month sales was 800 units, \n",
      "100 units of mac, \n",
      "200 units of iphone \n",
      "500 units of ipad\n"
     ]
    }
   ],
   "source": [
    "# += INCREMENTING VARIABLES\n",
    "\n",
    "list1 = ['mac','iphone']\n",
    "sales = [100,200]\n",
    "\n",
    "list1 += ['ipad']\n",
    "print(list1)\n",
    "\n",
    "total_sales = sum(sales)\n",
    "total_sales += 500\n",
    "print(sales)\n",
    "\n",
    "email = 'This month sales was {} units, \\n{} units of {}, \\n{} units of {}'.format(total_sales,sales[0],list1[0],sales[1],list1[1])\n",
    "email += ' \\n{} units of ipad'.format(500)\n",
    "print(email)"
   ]
  },
  {
   "cell_type": "code",
   "execution_count": 25,
   "id": "a72b713c",
   "metadata": {},
   "outputs": [
    {
     "name": "stdout",
     "output_type": "stream",
     "text": [
      "['ipad', 'iphone 11', 'apple tv']\n",
      "['ipad', 'iphone x', 'apple tv']\n",
      "['ipad', 'iphone x', 'apple tv']\n"
     ]
    }
   ],
   "source": [
    "#COPYING LISTS\n",
    "\n",
    "list1 = ['ipad','iphone x','apple tv']\n",
    "list2 = list1.copy()\n",
    "list3 = list1[:]\n",
    "\n",
    "list1[1] = 'iphone 11'\n",
    "\n",
    "print(list1)\n",
    "print(list2)\n",
    "print(list3)"
   ]
  },
  {
   "cell_type": "code",
   "execution_count": 26,
   "id": "6b74f81a",
   "metadata": {},
   "outputs": [
    {
     "name": "stdout",
     "output_type": "stream",
     "text": [
      "300\n",
      "10\n",
      "[[100, 200], [50, 500], [50, 1000], [900, 10]]\n",
      "[[100, 200, 10], [50, 500], [50, 1000], [900, 10]]\n"
     ]
    }
   ],
   "source": [
    "#NESTED\n",
    "salesman = ['John','Jonny','Jhony','JLo']\n",
    "products = ['ipad','iphone']\n",
    "sales = [\n",
    "    [100,200],\n",
    "    [300,500],\n",
    "    [50,1000],\n",
    "    [900,10],\n",
    "]\n",
    "\n",
    "jonny_ipad_sales = sales[1][0]\n",
    "print(jonny_ipad_sales)\n",
    "\n",
    "jlo_iphone_sales = sales[3][1]\n",
    "print(jlo_iphone_sales)\n",
    "\n",
    "sales[1][0] = 50\n",
    "print(sales)\n",
    "\n",
    "mac_sales = [10,20,30,40]\n",
    "sales[0].append(mac_sales[0])\n",
    "print(sales)"
   ]
  },
  {
   "cell_type": "code",
   "execution_count": 27,
   "id": "33284bf6",
   "metadata": {},
   "outputs": [
    {
     "name": "stdout",
     "output_type": "stream",
     "text": [
      "13\n",
      "14\n",
      "15\n"
     ]
    }
   ],
   "source": [
    "#FOR & IF\n",
    "list1 = [10,11,12,13,14,15]\n",
    "goal = 12\n",
    "for item in list1:\n",
    "    if item > goal:\n",
    "        print(item)"
   ]
  },
  {
   "cell_type": "code",
   "execution_count": 28,
   "id": "ffa63974",
   "metadata": {},
   "outputs": [
    {
     "name": "stdout",
     "output_type": "stream",
     "text": [
      "pepsi is below the minimum. We have just 23 units in stk.\n",
      "hei is below the minimum. We have just 49 units in stk.\n"
     ]
    }
   ],
   "source": [
    "#FOR & ENUMERATE\n",
    "\n",
    "stk = [1200,23,800,49,190]\n",
    "products = ['coke','pepsi','bud','hei','corona']\n",
    "min_level = 50\n",
    "\n",
    "for i,qty in enumerate(stk):\n",
    "    if qty < min_level:\n",
    "        print('{} is below the minimum. We have just {} units in stk.'\n",
    "              .format(products[i],qty))"
   ]
  },
  {
   "cell_type": "code",
   "execution_count": 29,
   "id": "06b3601f",
   "metadata": {},
   "outputs": [
    {
     "name": "stdout",
     "output_type": "stream",
     "text": [
      "['A Manufacturing', 'B Manufacturing']\n"
     ]
    }
   ],
   "source": [
    "#FOR INSIDE OTHER FOR\n",
    "\n",
    "stk = [\n",
    "    [21,22,23],\n",
    "    [24,25,26],\n",
    "    [27,28,29],\n",
    "]\n",
    "factories = ['A Manufacturing','B Manufacturing','C Manufacturing']\n",
    "min_level = 25\n",
    "factories_lowlevel = []\n",
    "\n",
    "for i,lists in enumerate(stk): #LOOKING ONE LIST AT A TIME\n",
    "    for qty in lists: \n",
    "        if qty < min_level:\n",
    "            if factories[i] in factories_lowlevel:\n",
    "                pass\n",
    "            else:\n",
    "                factories_lowlevel.append(factories[i])\n",
    "\n",
    "print(factories_lowlevel)"
   ]
  },
  {
   "cell_type": "code",
   "execution_count": 30,
   "id": "b3a3c5fa",
   "metadata": {
    "scrolled": true
   },
   "outputs": [
    {
     "name": "stdout",
     "output_type": "stream",
     "text": [
      "Register a product. (to finish press enter)celular\n",
      "Register a product: \n",
      "Registration completed.\n",
      "['celular']\n"
     ]
    }
   ],
   "source": [
    "#WHILE\n",
    "sale = input('Register a product. (to finish press enter)')\n",
    "sales = []\n",
    "\n",
    "while sale != '':\n",
    "    sales.append(sale)\n",
    "    sale = input('Register a product: ')\n",
    "\n",
    "print('Registration completed.')\n",
    "print(sales)"
   ]
  },
  {
   "cell_type": "code",
   "execution_count": 20,
   "id": "39d19b2d",
   "metadata": {},
   "outputs": [
    {
     "data": {
      "text/plain": [
       "True"
      ]
     },
     "execution_count": 20,
     "metadata": {},
     "output_type": "execute_result"
    }
   ],
   "source": [
    "#MODULES\n",
    "import webbrowser as wb\n",
    "\n",
    "wb.open('http://app.derosemeditation.com')"
   ]
  },
  {
   "cell_type": "markdown",
   "id": "b6706e73",
   "metadata": {},
   "source": [
    "___\n",
    "# End 1-2"
   ]
  },
  {
   "cell_type": "code",
   "execution_count": null,
   "id": "f71b0c9b",
   "metadata": {},
   "outputs": [],
   "source": []
  }
 ],
 "metadata": {
  "kernelspec": {
   "display_name": "Python 3 (ipykernel)",
   "language": "python",
   "name": "python3"
  },
  "language_info": {
   "codemirror_mode": {
    "name": "ipython",
    "version": 3
   },
   "file_extension": ".py",
   "mimetype": "text/x-python",
   "name": "python",
   "nbconvert_exporter": "python",
   "pygments_lexer": "ipython3",
   "version": "3.9.12"
  }
 },
 "nbformat": 4,
 "nbformat_minor": 5
}
