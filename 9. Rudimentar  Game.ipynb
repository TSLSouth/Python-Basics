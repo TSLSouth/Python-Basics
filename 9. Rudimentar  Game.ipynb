{
 "cells": [
  {
   "cell_type": "markdown",
   "id": "25349632",
   "metadata": {},
   "source": [
    "# 9. Rudimentar  Game\n",
    "___"
   ]
  },
  {
   "cell_type": "markdown",
   "id": "8554550f",
   "metadata": {},
   "source": [
    ">Visual Representation \n",
    "    >>User Input\n",
    "        >>>Function\n",
    "            >>>>Updates\n",
    "                >>>>>New Visual\n",
    "\n",
    "___"
   ]
  },
  {
   "cell_type": "markdown",
   "id": "fff2114e",
   "metadata": {},
   "source": [
    "# Choose a position to change \n"
   ]
  },
  {
   "cell_type": "code",
   "execution_count": 1,
   "id": "31c8d511",
   "metadata": {},
   "outputs": [],
   "source": [
    "#DISPLAY:\n",
    "game_list = [0,1,2]\n",
    "\n",
    "def display(game_list):\n",
    "    print(f'Here´s your list of numbers: {game_list}')"
   ]
  },
  {
   "cell_type": "code",
   "execution_count": 2,
   "id": "752e2baf",
   "metadata": {},
   "outputs": [],
   "source": [
    "#USER INPUT\n",
    "def choice():\n",
    "    \n",
    "    position = 'wrong'\n",
    "    \n",
    "    while position not in str(game_list):\n",
    "        \n",
    "        position = input('Choose a number 0-2: ')\n",
    "        \n",
    "        if position not in str(game_list):\n",
    "            print('Invalid choice!')\n",
    "            \n",
    "    return int(position)"
   ]
  },
  {
   "cell_type": "code",
   "execution_count": 3,
   "id": "c856f5c1",
   "metadata": {},
   "outputs": [],
   "source": [
    "#REPLACEMENT\n",
    "def replacement(game_list,position):\n",
    "    \n",
    "    replacement = input('Type a word to replace: ')\n",
    "    game_list[position] = replacement\n",
    "    \n",
    "    return game_list"
   ]
  },
  {
   "cell_type": "code",
   "execution_count": 4,
   "id": "2ba85d60",
   "metadata": {},
   "outputs": [],
   "source": [
    "#GAME ON CHOICE\n",
    "game_on_options = ['Y','y','n','N']\n",
    "\n",
    "def game_on_check():\n",
    "    \n",
    "    option = ' '\n",
    "    \n",
    "    while option not in game_on_options:\n",
    "        option = input('Keep playing? Y or N: ')        \n",
    "        if option not in game_on_options:\n",
    "            print('Don´t understand! Choose Y or N: ')\n",
    "            \n",
    "    if option == 'y' or option == 'Y':\n",
    "        game_list[0] = 0\n",
    "        game_list[1] = 1\n",
    "        game_list[2] = 2\n",
    "        return True\n",
    "    \n",
    "    else:\n",
    "        print('End game!')\n",
    "        return False"
   ]
  },
  {
   "cell_type": "code",
   "execution_count": 5,
   "id": "f62062e6",
   "metadata": {},
   "outputs": [
    {
     "name": "stdout",
     "output_type": "stream",
     "text": [
      "Here´s your list of numbers: [0, 1, 2]\n",
      "Choose a number 0-2: 0\n",
      "Type a word to replace: tree\n",
      "Here´s your list of numbers: ['tree', 1, 2]\n",
      "Keep playing? Y or N: y\n",
      "Here´s your list of numbers: [0, 1, 2]\n",
      "Choose a number 0-2: 2\n",
      "Type a word to replace: plane\n",
      "Here´s your list of numbers: [0, 1, 'plane']\n",
      "Keep playing? Y or N: n\n",
      "End game!\n"
     ]
    }
   ],
   "source": [
    "#PUTTING EVERYTHING TOGETHER\n",
    "game_on = True\n",
    "game_list = [0,1,2]\n",
    "\n",
    "while game_on:\n",
    "    \n",
    "    display(game_list)\n",
    "    position = choice()\n",
    "    game_list = replacement(game_list,position)\n",
    "    display(game_list)\n",
    "    game_on = game_on_check()\n",
    "    \n",
    "#GO CHECK EVERYTHING..."
   ]
  },
  {
   "cell_type": "code",
   "execution_count": null,
   "id": "6d34e515",
   "metadata": {},
   "outputs": [],
   "source": []
  }
 ],
 "metadata": {
  "kernelspec": {
   "display_name": "Python 3 (ipykernel)",
   "language": "python",
   "name": "python3"
  },
  "language_info": {
   "codemirror_mode": {
    "name": "ipython",
    "version": 3
   },
   "file_extension": ".py",
   "mimetype": "text/x-python",
   "name": "python",
   "nbconvert_exporter": "python",
   "pygments_lexer": "ipython3",
   "version": "3.9.12"
  }
 },
 "nbformat": 4,
 "nbformat_minor": 5
}
