{
 "cells": [
  {
   "cell_type": "markdown",
   "id": "73b7da88",
   "metadata": {},
   "source": [
    "# 3. Statements\n",
    "\n",
    "conditional</br>\n",
    "for loops</br>\n",
    "while loops</br>\n",
    "searching a value in a dict</br>\n",
    "putting everything together in one line</br>\n",
    "___"
   ]
  },
  {
   "cell_type": "markdown",
   "id": "5bd51ac9",
   "metadata": {},
   "source": [
    "# Control flow (Conditional statements)\n",
    "\n",
    "if</br>\n",
    "elif</br>\n",
    "else\n",
    "____"
   ]
  },
  {
   "cell_type": "code",
   "execution_count": 46,
   "id": "6a5b5e8d",
   "metadata": {},
   "outputs": [
    {
     "name": "stdout",
     "output_type": "stream",
     "text": [
      "Its true\n"
     ]
    }
   ],
   "source": [
    "if True:\n",
    "    print('Its true')"
   ]
  },
  {
   "cell_type": "code",
   "execution_count": 47,
   "id": "8ae6aa5c",
   "metadata": {},
   "outputs": [
    {
     "name": "stdout",
     "output_type": "stream",
     "text": [
      "Its true\n"
     ]
    }
   ],
   "source": [
    "if 3>2:\n",
    "    print('Its true')"
   ]
  },
  {
   "cell_type": "code",
   "execution_count": 48,
   "id": "8050e3b6",
   "metadata": {},
   "outputs": [
    {
     "name": "stdout",
     "output_type": "stream",
     "text": [
      "Its true\n"
     ]
    }
   ],
   "source": [
    "Basketball = True\n",
    "\n",
    "if Basketball:\n",
    "    print('Its true')"
   ]
  },
  {
   "cell_type": "code",
   "execution_count": 49,
   "id": "10993bab",
   "metadata": {},
   "outputs": [
    {
     "name": "stdout",
     "output_type": "stream",
     "text": [
      "Soccer\n"
     ]
    }
   ],
   "source": [
    "Basketball = True\n",
    "\n",
    "if Basketball == 'Football':\n",
    "    print('Its true')\n",
    "else:\n",
    "    print('Soccer')"
   ]
  },
  {
   "cell_type": "code",
   "execution_count": 50,
   "id": "977cbdc4",
   "metadata": {},
   "outputs": [
    {
     "name": "stdout",
     "output_type": "stream",
     "text": [
      "Tennis\n"
     ]
    }
   ],
   "source": [
    "#you can try change the str 'anything' to test the results below\n",
    "\n",
    "Wich_sport = 'use a little ball'\n",
    "\n",
    "if Wich_sport == 'use a mid ball':\n",
    "    print('Soccer')\n",
    "elif Wich_sport == 'use a little ball':\n",
    "    print('Tennis')\n",
    "elif Wich_sport == 'use a big ball':\n",
    "    print('Basketball')\n",
    "else:\n",
    "    print('Bocha')"
   ]
  },
  {
   "cell_type": "code",
   "execution_count": 51,
   "id": "2a48f66f",
   "metadata": {},
   "outputs": [
    {
     "name": "stdout",
     "output_type": "stream",
     "text": [
      "\n"
     ]
    }
   ],
   "source": [
    "name = 'Dolores'\n",
    "\n",
    "if name == 'Frankie':\n",
    "    print('Welcome Frankie!')\n",
    "elif name == 'Fran':\n",
    "    print('Welcome Frankie!')\n",
    "elif name == 'F':\n",
    "    print('Welcome Frankie!')\n",
    "else:\n",
    "    print()"
   ]
  },
  {
   "cell_type": "markdown",
   "id": "d70ff173",
   "metadata": {},
   "source": [
    "___\n",
    "# Interaction/For loops\n",
    "\n",
    "for</br>\n",
    "in"
   ]
  },
  {
   "cell_type": "code",
   "execution_count": 52,
   "id": "2354a827",
   "metadata": {
    "scrolled": false
   },
   "outputs": [
    {
     "name": "stdout",
     "output_type": "stream",
     "text": [
      "is a number\n",
      "is a number\n",
      "is a number\n",
      "is a number\n",
      "is a number\n",
      "is a number\n",
      "is a number\n",
      "is a number\n",
      "is a number\n",
      "is a number\n",
      "is a number\n"
     ]
    }
   ],
   "source": [
    "mylist = [0,1,2,3,4,5,6,7,8,9,10]\n",
    "for anything in mylist:\n",
    "    print('is a number')"
   ]
  },
  {
   "cell_type": "code",
   "execution_count": 53,
   "id": "7d8713da",
   "metadata": {
    "scrolled": true
   },
   "outputs": [
    {
     "name": "stdout",
     "output_type": "stream",
     "text": [
      "the result is less than 4:0\n",
      "the result is less than 4:2\n",
      "the result is more than 4:4\n",
      "the result is more than 4:6\n",
      "the result is more than 4:8\n",
      "the result is more than 4:10\n",
      "the result is more than 4:12\n",
      "the result is more than 4:14\n",
      "the result is more than 4:16\n",
      "the result is more than 4:18\n",
      "the result is more than 4:20\n"
     ]
    }
   ],
   "source": [
    "for x in mylist:\n",
    "    if x *2 >= 4:\n",
    "        print(f'the result is more than 4:{x*2}')\n",
    "    else:\n",
    "        print(f'the result is less than 4:{x*2}')"
   ]
  },
  {
   "cell_type": "code",
   "execution_count": 54,
   "id": "3440aef7",
   "metadata": {},
   "outputs": [
    {
     "name": "stdout",
     "output_type": "stream",
     "text": [
      "0\n",
      "1\n",
      "3\n",
      "6\n",
      "10\n",
      "15\n",
      "21\n",
      "28\n",
      "36\n",
      "45\n",
      "55\n"
     ]
    }
   ],
   "source": [
    "listA = 0\n",
    "\n",
    "for x in mylist:\n",
    "    listA = listA + x\n",
    "    \n",
    "    print(listA)"
   ]
  },
  {
   "cell_type": "code",
   "execution_count": 55,
   "id": "2f24ecaa",
   "metadata": {},
   "outputs": [
    {
     "name": "stdout",
     "output_type": "stream",
     "text": [
      "H\n",
      "e\n",
      "l\n",
      "l\n",
      "o\n",
      " \n",
      "W\n",
      "o\n",
      "r\n",
      "l\n",
      "d\n"
     ]
    }
   ],
   "source": [
    "mystring = 'Hello World'\n",
    "\n",
    "for x in mystring:\n",
    "    print(x)"
   ]
  },
  {
   "cell_type": "code",
   "execution_count": 56,
   "id": "8f463067",
   "metadata": {},
   "outputs": [
    {
     "name": "stdout",
     "output_type": "stream",
     "text": [
      "H\n",
      "e\n",
      "l\n",
      "l\n",
      "o\n",
      " \n",
      "W\n",
      "o\n",
      "r\n",
      "l\n",
      "d\n"
     ]
    }
   ],
   "source": [
    "for _ in 'Hello World':\n",
    "    print(_)"
   ]
  },
  {
   "cell_type": "code",
   "execution_count": 57,
   "id": "71d5a5f8",
   "metadata": {},
   "outputs": [
    {
     "name": "stdout",
     "output_type": "stream",
     "text": [
      "Cool!\n",
      "Cool!\n",
      "Cool!\n",
      "Cool!\n",
      "Cool!\n",
      "Cool!\n",
      "Cool!\n",
      "Cool!\n",
      "Cool!\n",
      "Cool!\n",
      "Cool!\n"
     ]
    }
   ],
   "source": [
    "for _ in 'Hello World':\n",
    "    print('Cool!')"
   ]
  },
  {
   "cell_type": "code",
   "execution_count": 58,
   "id": "0ef3c16a",
   "metadata": {},
   "outputs": [
    {
     "name": "stdout",
     "output_type": "stream",
     "text": [
      "1\n",
      "2\n",
      "3\n"
     ]
    }
   ],
   "source": [
    "mytuple = (1,2,3)\n",
    "\n",
    "for _ in mytuple:\n",
    "    print(_)"
   ]
  },
  {
   "cell_type": "code",
   "execution_count": 59,
   "id": "0bd862ce",
   "metadata": {},
   "outputs": [],
   "source": [
    "mylist = [(1,2),(3,4),(5,6),(7,8)]"
   ]
  },
  {
   "cell_type": "code",
   "execution_count": 60,
   "id": "09ae3d44",
   "metadata": {},
   "outputs": [
    {
     "data": {
      "text/plain": [
       "[(1, 2), (3, 4), (5, 6), (7, 8)]"
      ]
     },
     "execution_count": 60,
     "metadata": {},
     "output_type": "execute_result"
    }
   ],
   "source": [
    "mylist"
   ]
  },
  {
   "cell_type": "code",
   "execution_count": 61,
   "id": "4d915d4e",
   "metadata": {},
   "outputs": [
    {
     "data": {
      "text/plain": [
       "4"
      ]
     },
     "execution_count": 61,
     "metadata": {},
     "output_type": "execute_result"
    }
   ],
   "source": [
    "len(mylist)"
   ]
  },
  {
   "cell_type": "code",
   "execution_count": 62,
   "id": "7757ee51",
   "metadata": {},
   "outputs": [
    {
     "name": "stdout",
     "output_type": "stream",
     "text": [
      "1 2\n",
      "3 4\n",
      "5 6\n",
      "7 8\n"
     ]
    }
   ],
   "source": [
    "#tuple packing\n",
    "for (a,b) in mylist:\n",
    "    print(a,b)"
   ]
  },
  {
   "cell_type": "code",
   "execution_count": 63,
   "id": "7f8d43d5",
   "metadata": {},
   "outputs": [
    {
     "name": "stdout",
     "output_type": "stream",
     "text": [
      "1\n",
      "3\n",
      "5\n",
      "7\n"
     ]
    }
   ],
   "source": [
    "for (a,b) in mylist:\n",
    "    print(a)"
   ]
  },
  {
   "cell_type": "code",
   "execution_count": 64,
   "id": "ca5ca886",
   "metadata": {},
   "outputs": [
    {
     "name": "stdout",
     "output_type": "stream",
     "text": [
      "1\n",
      "2\n",
      "3\n"
     ]
    }
   ],
   "source": [
    "d = {'k1':1,'k2':2,'k3':3}\n",
    "\n",
    "for key,value in d.items():\n",
    "    print(value)"
   ]
  },
  {
   "cell_type": "markdown",
   "id": "95904540",
   "metadata": {},
   "source": [
    "___\n",
    "# While loops\n",
    "\n",
    "while</br>\n",
    "continue</br>\n",
    "break</br>\n",
    "pass</br>\n",
    "index_count</br>\n",
    "enumarate</br>\n",
    "zip</br>"
   ]
  },
  {
   "cell_type": "code",
   "execution_count": 65,
   "id": "841bccbf",
   "metadata": {},
   "outputs": [],
   "source": [
    "x = 0"
   ]
  },
  {
   "cell_type": "code",
   "execution_count": 66,
   "id": "ea96835e",
   "metadata": {},
   "outputs": [
    {
     "name": "stdout",
     "output_type": "stream",
     "text": [
      "The current value of x is 0\n",
      "The current value of x is 1\n",
      "The current value of x is 2\n",
      "The current value of x is 3\n",
      "The current value of x is 4\n",
      "From here is more than 5\n"
     ]
    }
   ],
   "source": [
    "while x < 5:\n",
    "    print(f'The current value of x is {x}')\n",
    "    x = x + 1\n",
    "    \n",
    "else:\n",
    "    print(f'From here is more than 5')"
   ]
  },
  {
   "cell_type": "code",
   "execution_count": 67,
   "id": "ce50bac4",
   "metadata": {},
   "outputs": [
    {
     "name": "stdout",
     "output_type": "stream",
     "text": [
      "L\n",
      "i\n",
      "z\n"
     ]
    }
   ],
   "source": [
    "#continue: skip\n",
    "\n",
    "mystring = 'Luiz'\n",
    "\n",
    "for _ in mystring:\n",
    "    if _ == 'u':\n",
    "        continue\n",
    "    print(_)"
   ]
  },
  {
   "cell_type": "code",
   "execution_count": 68,
   "id": "07e0edf5",
   "metadata": {},
   "outputs": [
    {
     "name": "stdout",
     "output_type": "stream",
     "text": [
      "L\n"
     ]
    }
   ],
   "source": [
    "#stop when find condition\n",
    "\n",
    "mystring = 'Luiz'\n",
    "\n",
    "for _ in mystring:\n",
    "    if _ == 'u':\n",
    "        break\n",
    "    print(_)"
   ]
  },
  {
   "cell_type": "code",
   "execution_count": 69,
   "id": "1689f183",
   "metadata": {},
   "outputs": [
    {
     "name": "stdout",
     "output_type": "stream",
     "text": [
      "L\n",
      "u\n",
      "i\n",
      "z\n"
     ]
    }
   ],
   "source": [
    "mystring = 'Luiz'\n",
    "\n",
    "for _ in mystring:\n",
    "    # there is comment here that will not stop the running cell with pass\n",
    "    pass\n",
    "\n",
    "    print(_)"
   ]
  },
  {
   "cell_type": "code",
   "execution_count": 70,
   "id": "bef08d7c",
   "metadata": {},
   "outputs": [],
   "source": [
    "x = 5"
   ]
  },
  {
   "cell_type": "code",
   "execution_count": 71,
   "id": "22caaa4d",
   "metadata": {},
   "outputs": [
    {
     "name": "stdout",
     "output_type": "stream",
     "text": [
      "0\n",
      "1\n",
      "2\n",
      "3\n"
     ]
    }
   ],
   "source": [
    "x = 0\n",
    "\n",
    "while x < 5:\n",
    "    \n",
    "    if x == 4:\n",
    "        break\n",
    "    print(x)\n",
    "    x += 1"
   ]
  },
  {
   "cell_type": "code",
   "execution_count": 72,
   "id": "d05c0ce9",
   "metadata": {},
   "outputs": [],
   "source": [
    "mylist = [1,2,3]"
   ]
  },
  {
   "cell_type": "code",
   "execution_count": 73,
   "id": "5eb9c26c",
   "metadata": {},
   "outputs": [
    {
     "name": "stdout",
     "output_type": "stream",
     "text": [
      "6\n",
      "7\n",
      "8\n",
      "9\n"
     ]
    }
   ],
   "source": [
    "for num in range(6,10):\n",
    "    print(num)"
   ]
  },
  {
   "cell_type": "code",
   "execution_count": 74,
   "id": "a875e036",
   "metadata": {},
   "outputs": [
    {
     "name": "stdout",
     "output_type": "stream",
     "text": [
      "6\n",
      "8\n"
     ]
    }
   ],
   "source": [
    "for num in range(6,10,2):\n",
    "    print(num)"
   ]
  },
  {
   "cell_type": "code",
   "execution_count": 75,
   "id": "57c47559",
   "metadata": {},
   "outputs": [
    {
     "data": {
      "text/plain": [
       "[0, 2, 4, 6, 8, 10, 12, 14, 16, 18, 20, 22, 24, 26, 28, 30, 32, 34, 36, 38]"
      ]
     },
     "execution_count": 75,
     "metadata": {},
     "output_type": "execute_result"
    }
   ],
   "source": [
    "list(range(0,40,2))"
   ]
  },
  {
   "cell_type": "code",
   "execution_count": 76,
   "id": "d83dc637",
   "metadata": {},
   "outputs": [
    {
     "name": "stdout",
     "output_type": "stream",
     "text": [
      "a\n",
      "b\n",
      "c\n",
      "d\n"
     ]
    }
   ],
   "source": [
    "index_count = 0\n",
    "word = 'abcd'\n",
    "\n",
    "for letter in word:\n",
    "    print(word[index_count])\n",
    "    index_count += 1"
   ]
  },
  {
   "cell_type": "code",
   "execution_count": 77,
   "id": "346ff794",
   "metadata": {},
   "outputs": [
    {
     "data": {
      "text/plain": [
       "int"
      ]
     },
     "execution_count": 77,
     "metadata": {},
     "output_type": "execute_result"
    }
   ],
   "source": [
    "type(index_count)"
   ]
  },
  {
   "cell_type": "code",
   "execution_count": 78,
   "id": "b9d41389",
   "metadata": {},
   "outputs": [
    {
     "data": {
      "text/plain": [
       "str"
      ]
     },
     "execution_count": 78,
     "metadata": {},
     "output_type": "execute_result"
    }
   ],
   "source": [
    "type(word)"
   ]
  },
  {
   "cell_type": "code",
   "execution_count": 79,
   "id": "e2fd839f",
   "metadata": {},
   "outputs": [
    {
     "name": "stdout",
     "output_type": "stream",
     "text": [
      "(0, 'a')\n",
      "(1, 'b')\n",
      "(2, 'c')\n",
      "(3, 'd')\n"
     ]
    }
   ],
   "source": [
    "#enumerate\n",
    "\n",
    "word = 'abcd'\n",
    "\n",
    "for _ in enumerate(word):\n",
    "    print(_)"
   ]
  },
  {
   "cell_type": "code",
   "execution_count": 80,
   "id": "fb196056",
   "metadata": {},
   "outputs": [],
   "source": [
    "mylist1 = [1,2,3,4,5,6]\n",
    "mylist2 = ['a','b','c']"
   ]
  },
  {
   "cell_type": "code",
   "execution_count": 81,
   "id": "ecb1493f",
   "metadata": {},
   "outputs": [
    {
     "name": "stdout",
     "output_type": "stream",
     "text": [
      "(1, 'a')\n",
      "(2, 'b')\n",
      "(3, 'c')\n"
     ]
    }
   ],
   "source": [
    "for item in zip(mylist1,mylist2):\n",
    "    print(item)"
   ]
  },
  {
   "cell_type": "code",
   "execution_count": 82,
   "id": "c8a36381",
   "metadata": {},
   "outputs": [
    {
     "data": {
      "text/plain": [
       "[(1, 'a'), (2, 'b'), (3, 'c')]"
      ]
     },
     "execution_count": 82,
     "metadata": {},
     "output_type": "execute_result"
    }
   ],
   "source": [
    "list(zip(mylist1,mylist2))"
   ]
  },
  {
   "cell_type": "code",
   "execution_count": 83,
   "id": "7815d263",
   "metadata": {},
   "outputs": [
    {
     "data": {
      "text/plain": [
       "True"
      ]
     },
     "execution_count": 83,
     "metadata": {},
     "output_type": "execute_result"
    }
   ],
   "source": [
    "'a' in mylist2"
   ]
  },
  {
   "cell_type": "markdown",
   "id": "f3a515a7",
   "metadata": {},
   "source": [
    "___\n",
    "# Searching a value in a dict:"
   ]
  },
  {
   "cell_type": "code",
   "execution_count": 84,
   "id": "b387ec6c",
   "metadata": {},
   "outputs": [
    {
     "data": {
      "text/plain": [
       "False"
      ]
     },
     "execution_count": 84,
     "metadata": {},
     "output_type": "execute_result"
    }
   ],
   "source": [
    "d = {'key1':13}\n",
    "\n",
    "13 in d.keys()"
   ]
  },
  {
   "cell_type": "code",
   "execution_count": 85,
   "id": "9425f3fe",
   "metadata": {},
   "outputs": [
    {
     "data": {
      "text/plain": [
       "True"
      ]
     },
     "execution_count": 85,
     "metadata": {},
     "output_type": "execute_result"
    }
   ],
   "source": [
    "d = {'key1':13}\n",
    "\n",
    "13 in d.values()"
   ]
  },
  {
   "cell_type": "code",
   "execution_count": 86,
   "id": "03c3798c",
   "metadata": {},
   "outputs": [],
   "source": [
    "mylist = [10,20,30,40]"
   ]
  },
  {
   "cell_type": "code",
   "execution_count": 87,
   "id": "caf7d7d8",
   "metadata": {},
   "outputs": [
    {
     "data": {
      "text/plain": [
       "10"
      ]
     },
     "execution_count": 87,
     "metadata": {},
     "output_type": "execute_result"
    }
   ],
   "source": [
    "min(mylist)"
   ]
  },
  {
   "cell_type": "code",
   "execution_count": 88,
   "id": "ec4ebc52",
   "metadata": {},
   "outputs": [
    {
     "data": {
      "text/plain": [
       "40"
      ]
     },
     "execution_count": 88,
     "metadata": {},
     "output_type": "execute_result"
    }
   ],
   "source": [
    "max(mylist)"
   ]
  },
  {
   "cell_type": "code",
   "execution_count": 89,
   "id": "c2615eb7",
   "metadata": {},
   "outputs": [
    {
     "name": "stdout",
     "output_type": "stream",
     "text": [
      "Do a question:Here was a field to complete\n"
     ]
    },
    {
     "data": {
      "text/plain": [
       "'Here was a field to complete'"
      ]
     },
     "execution_count": 89,
     "metadata": {},
     "output_type": "execute_result"
    }
   ],
   "source": [
    "input('Do a question:')"
   ]
  },
  {
   "cell_type": "markdown",
   "id": "a287b6d0",
   "metadata": {},
   "source": [
    "___\n",
    "# Putting everything together in one line:"
   ]
  },
  {
   "cell_type": "code",
   "execution_count": 94,
   "id": "26bfdfe0",
   "metadata": {},
   "outputs": [],
   "source": [
    "mylist = [num**2 for num in range(0,11) if x%2==0]"
   ]
  },
  {
   "cell_type": "code",
   "execution_count": 95,
   "id": "1c00139b",
   "metadata": {},
   "outputs": [
    {
     "data": {
      "text/plain": [
       "[0, 1, 4, 9, 16, 25, 36, 49, 64, 81, 100]"
      ]
     },
     "execution_count": 95,
     "metadata": {},
     "output_type": "execute_result"
    }
   ],
   "source": [
    "mylist"
   ]
  },
  {
   "cell_type": "code",
   "execution_count": 126,
   "id": "a1c90000",
   "metadata": {},
   "outputs": [],
   "source": [
    "num = range(0,11)"
   ]
  },
  {
   "cell_type": "code",
   "execution_count": 129,
   "id": "c1e854e8",
   "metadata": {},
   "outputs": [],
   "source": [
    "results = ['x is EVEN' if x%2==0 else 'x is ODD' for x in range(0,11)]"
   ]
  },
  {
   "cell_type": "code",
   "execution_count": 130,
   "id": "caefb466",
   "metadata": {},
   "outputs": [
    {
     "data": {
      "text/plain": [
       "['x is EVEN',\n",
       " 'x is ODD',\n",
       " 'x is EVEN',\n",
       " 'x is ODD',\n",
       " 'x is EVEN',\n",
       " 'x is ODD',\n",
       " 'x is EVEN',\n",
       " 'x is ODD',\n",
       " 'x is EVEN',\n",
       " 'x is ODD',\n",
       " 'x is EVEN']"
      ]
     },
     "execution_count": 130,
     "metadata": {},
     "output_type": "execute_result"
    }
   ],
   "source": [
    "results"
   ]
  },
  {
   "cell_type": "code",
   "execution_count": 139,
   "id": "64914aee",
   "metadata": {},
   "outputs": [
    {
     "name": "stdout",
     "output_type": "stream",
     "text": [
      "0 is EVEN\n",
      "1 is ODD\n",
      "2 is EVEN\n",
      "3 is ODD\n",
      "4 is EVEN\n",
      "5 is ODD\n",
      "6 is EVEN\n",
      "7 is ODD\n",
      "8 is EVEN\n",
      "9 is ODD\n",
      "10 is EVEN\n"
     ]
    }
   ],
   "source": [
    "#more organized using several lines and spaces:\n",
    "\n",
    "for x in range(0,11):\n",
    "    \n",
    "    if x%2==0:\n",
    "        print(f'{x} is EVEN')\n",
    "    \n",
    "    else:\n",
    "        print(f'{x} is ODD')"
   ]
  },
  {
   "cell_type": "code",
   "execution_count": 137,
   "id": "7d0ffb4b",
   "metadata": {},
   "outputs": [],
   "source": [
    "#to avoid to use just one line code, it´s bad to read:\n",
    "\n",
    "results = [f'{x} is EVEN' if x%2==0 else f'{x} is ODD' for x in range(0,11)]"
   ]
  },
  {
   "cell_type": "code",
   "execution_count": 141,
   "id": "171016df",
   "metadata": {},
   "outputs": [
    {
     "data": {
      "text/plain": [
       "['0 is EVEN',\n",
       " '1 is ODD',\n",
       " '2 is EVEN',\n",
       " '3 is ODD',\n",
       " '4 is EVEN',\n",
       " '5 is ODD',\n",
       " '6 is EVEN',\n",
       " '7 is ODD',\n",
       " '8 is EVEN',\n",
       " '9 is ODD',\n",
       " '10 is EVEN']"
      ]
     },
     "execution_count": 141,
     "metadata": {},
     "output_type": "execute_result"
    }
   ],
   "source": [
    "results"
   ]
  },
  {
   "cell_type": "markdown",
   "id": "c7846183",
   "metadata": {},
   "source": [
    "____\n",
    "<font color='green' size='32'> End</br> <br>Well done! </br></font> "
   ]
  },
  {
   "cell_type": "code",
   "execution_count": null,
   "id": "a4f07971",
   "metadata": {},
   "outputs": [],
   "source": []
  }
 ],
 "metadata": {
  "kernelspec": {
   "display_name": "Python 3 (ipykernel)",
   "language": "python",
   "name": "python3"
  },
  "language_info": {
   "codemirror_mode": {
    "name": "ipython",
    "version": 3
   },
   "file_extension": ".py",
   "mimetype": "text/x-python",
   "name": "python",
   "nbconvert_exporter": "python",
   "pygments_lexer": "ipython3",
   "version": "3.9.12"
  }
 },
 "nbformat": 4,
 "nbformat_minor": 5
}
